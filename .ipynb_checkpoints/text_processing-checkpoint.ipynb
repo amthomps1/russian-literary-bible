{
 "cells": [
  {
   "cell_type": "markdown",
   "metadata": {},
   "source": [
    "# Russian Synodal Bible (1885) and Primary Text Text Processing"
   ]
  },
  {
   "cell_type": "markdown",
   "metadata": {},
   "source": [
    "## Import"
   ]
  },
  {
   "cell_type": "markdown",
   "metadata": {},
   "source": [
    "### Libraries"
   ]
  },
  {
   "cell_type": "code",
   "execution_count": 1,
   "metadata": {},
   "outputs": [],
   "source": [
    "import os\n",
    "import json\n",
    "import time\n",
    "import xml.etree.ElementTree as ET\n",
    "import codecs\n",
    "import pandas as pd \n",
    "import natasha\n",
    "import re"
   ]
  },
  {
   "cell_type": "markdown",
   "metadata": {},
   "source": [
    "# Primary Texts"
   ]
  },
  {
   "cell_type": "code",
   "execution_count": 51,
   "metadata": {},
   "outputs": [],
   "source": [
    "texts = './texts/fiction/'\n",
    "bible = './texts/bible/'\n",
    "bibleJSON = './texts/bible/synodal.json'\n",
    "bibleXML = './texts/bible/synodal.xml'\n",
    "bibleTXT = './texts/bible/synodal.txt'\n",
    "libCols = ['author','date','title','text']\n",
    "tokenOHCO = ['title','part_num','para_num', 'sent_num', 'token_num']\n",
    "bibleOHCO = ['book','chap_num','verse_num']"
   ]
  },
  {
   "cell_type": "code",
   "execution_count": null,
   "metadata": {},
   "outputs": [],
   "source": [
    "libDf = pd.DataFrame(columns = libCols)\n",
    "for t in os.listdir(texts): \n",
    "    if t[-4:] == '.txt': \n",
    "        #print(t)\n",
    "        info = re.match(r'(\\w+)-(\\d{4})-(.+).txt', t)\n",
    "        with codecs.open(texts+t, 'r', encoding='windows-1251') as f: \n",
    "            textytext = f.read()\n",
    "        libDf = libDf.append({\n",
    "            'author': info.group(1),\n",
    "            'date': int(info.group(2)), \n",
    "            'title': info.group(3), \n",
    "            'text': textytext\n",
    "        }, ignore_index=True)\n",
    "        \n",
    "libDf = libDf.sort_values(libCols[1:3]).set_index(libCols[2])\n",
    "tokenDf = libDf[[libCols[3]]]\n",
    "libDf = libDf.drop(columns=[libCols[3]])\n",
    "libDf"
   ]
  },
  {
   "cell_type": "code",
   "execution_count": null,
   "metadata": {},
   "outputs": [],
   "source": [
    "tokenDf = tokenDf.text.str.split('\\n\\n\\n', expand=True).stack().to_frame()\n",
    "tokenDf.index.names = tokenOHCO[:2]\n",
    "tokenDf = tokenDf.rename(columns={0:'parts'})\n",
    "tokenDf = tokenDf.parts.str.split('\\n\\s*\\n', expand=True).stack().to_frame()\n",
    "tokenDf.index.names = tokenOHCO[:3]\n",
    "tokenDf = tokenDf.rename(columns={0:'paras'})\n",
    "tokenDf = tokenDf.paras.str.split(r'!|\\?|\\.|;', expand=True).stack().to_frame()\n",
    "tokenDf.index.names = tokenOHCO[:4]\n",
    "tokenDf = tokenDf.rename(columns={0:'sents'})\n",
    "sentDf = tokenDf\n",
    "tokenDf = tokenDf.sents.str.split(r'\\n|\\s+', expand=True).stack().to_frame()\n",
    "tokenDf.index.names = tokenOHCO\n",
    "tokenDf = tokenDf.rename(columns={0:'token'})\n",
    "tokenDf = tokenDf.token.apply(lambda x: x.lower().strip(r\"\\W\\|\\]\\}\\[\\{\\.\\'\\\"\\?;:,<>/1234567890\")).to_frame()\n",
    "tokenDf = tokenDf[tokenDf['token'].str.contains(r'\\w+')]\n",
    "tokenDf"
   ]
  },
  {
   "cell_type": "code",
   "execution_count": null,
   "metadata": {},
   "outputs": [],
   "source": [
    "sentDf = sentDf[sentDf['sents'].str.contains(r'\\w+')].sents.apply(lambda x: x.lower().strip(r\"\\W\\n\\|\\]\\}\\[\\{\\.\\'\\\"\\?;:,<>/1234567890\")).to_frame()\n",
    "sentDf[sentDf['sents'].str.contains('r\\w')]"
   ]
  },
  {
   "cell_type": "markdown",
   "metadata": {},
   "source": [
    "# Bible"
   ]
  },
  {
   "cell_type": "code",
   "execution_count": 3,
   "metadata": {},
   "outputs": [],
   "source": [
    "xmltree = ET.parse(bibleXML)\n",
    "xmlroot = xmltree.getroot()"
   ]
  },
  {
   "cell_type": "code",
   "execution_count": 53,
   "metadata": {},
   "outputs": [],
   "source": [
    "bibleDicts = []\n",
    "for book in xmlroot: \n",
    "    name = book.attrib.get(\"n\")\n",
    "    for chapter in book: \n",
    "        chap_num = chapter.attrib.get(\"n\")\n",
    "        for verse in chapter: \n",
    "            verse_num = verse.attrib.get(\"n\")\n",
    "            verseDict = {'book': name, \n",
    "                         'chap_num': chap_num, \n",
    "                         'verse_num': verse_num,\n",
    "                         'text': verse.text}\n",
    "            bibleDicts.append(verseDict)"
   ]
  },
  {
   "cell_type": "code",
   "execution_count": 54,
   "metadata": {
    "tags": []
   },
   "outputs": [
    {
     "data": {
      "text/html": [
       "<div>\n",
       "<style scoped>\n",
       "    .dataframe tbody tr th:only-of-type {\n",
       "        vertical-align: middle;\n",
       "    }\n",
       "\n",
       "    .dataframe tbody tr th {\n",
       "        vertical-align: top;\n",
       "    }\n",
       "\n",
       "    .dataframe thead th {\n",
       "        text-align: right;\n",
       "    }\n",
       "</style>\n",
       "<table border=\"1\" class=\"dataframe\">\n",
       "  <thead>\n",
       "    <tr style=\"text-align: right;\">\n",
       "      <th></th>\n",
       "      <th></th>\n",
       "      <th></th>\n",
       "      <th>text</th>\n",
       "    </tr>\n",
       "    <tr>\n",
       "      <th>book</th>\n",
       "      <th>chap_num</th>\n",
       "      <th>verse_num</th>\n",
       "      <th></th>\n",
       "    </tr>\n",
       "  </thead>\n",
       "  <tbody>\n",
       "    <tr>\n",
       "      <th rowspan=\"5\" valign=\"top\">Genesis</th>\n",
       "      <th rowspan=\"5\" valign=\"top\">1</th>\n",
       "      <th>1</th>\n",
       "      <td>В начале сотворил Бог небо и землю.</td>\n",
       "    </tr>\n",
       "    <tr>\n",
       "      <th>2</th>\n",
       "      <td>Земля же была безвидна и пуста, и тьма над без...</td>\n",
       "    </tr>\n",
       "    <tr>\n",
       "      <th>3</th>\n",
       "      <td>И сказал Бог: да будет свет. И сталсвет.</td>\n",
       "    </tr>\n",
       "    <tr>\n",
       "      <th>4</th>\n",
       "      <td>И увидел Бог свет, что он хорош, и отделил Бог...</td>\n",
       "    </tr>\n",
       "    <tr>\n",
       "      <th>5</th>\n",
       "      <td>И назвал Бог свет днем, а тьму ночью. И был ве...</td>\n",
       "    </tr>\n",
       "    <tr>\n",
       "      <th>...</th>\n",
       "      <th>...</th>\n",
       "      <th>...</th>\n",
       "      <td>...</td>\n",
       "    </tr>\n",
       "    <tr>\n",
       "      <th rowspan=\"5\" valign=\"top\">Revelation</th>\n",
       "      <th rowspan=\"5\" valign=\"top\">22</th>\n",
       "      <th>17</th>\n",
       "      <td>И Дух и невеста говорят: прииди! И слышавший д...</td>\n",
       "    </tr>\n",
       "    <tr>\n",
       "      <th>18</th>\n",
       "      <td>И я также свидетельствую всякому слышащему сло...</td>\n",
       "    </tr>\n",
       "    <tr>\n",
       "      <th>19</th>\n",
       "      <td>и если кто отнимет что от слов книги пророчест...</td>\n",
       "    </tr>\n",
       "    <tr>\n",
       "      <th>20</th>\n",
       "      <td>Свидетельствующий сие говорит: ей, гряду скоро...</td>\n",
       "    </tr>\n",
       "    <tr>\n",
       "      <th>21</th>\n",
       "      <td>Благодать Господа нашего Иисуса Христа со всем...</td>\n",
       "    </tr>\n",
       "  </tbody>\n",
       "</table>\n",
       "<p>30225 rows × 1 columns</p>\n",
       "</div>"
      ],
      "text/plain": [
       "                                                                            text\n",
       "book       chap_num verse_num                                                   \n",
       "Genesis    1        1                        В начале сотворил Бог небо и землю.\n",
       "                    2          Земля же была безвидна и пуста, и тьма над без...\n",
       "                    3                   И сказал Бог: да будет свет. И сталсвет.\n",
       "                    4          И увидел Бог свет, что он хорош, и отделил Бог...\n",
       "                    5          И назвал Бог свет днем, а тьму ночью. И был ве...\n",
       "...                                                                          ...\n",
       "Revelation 22       17         И Дух и невеста говорят: прииди! И слышавший д...\n",
       "                    18         И я также свидетельствую всякому слышащему сло...\n",
       "                    19         и если кто отнимет что от слов книги пророчест...\n",
       "                    20         Свидетельствующий сие говорит: ей, гряду скоро...\n",
       "                    21         Благодать Господа нашего Иисуса Христа со всем...\n",
       "\n",
       "[30225 rows x 1 columns]"
      ]
     },
     "execution_count": 54,
     "metadata": {},
     "output_type": "execute_result"
    }
   ],
   "source": [
    "bibleDf = pd.DataFrame.from_dict(bibleDicts).set_index(bibleOHCO)\n",
    "bibleDf"
   ]
  }
 ],
 "metadata": {
  "kernelspec": {
   "display_name": "diss",
   "language": "python",
   "name": "diss"
  },
  "language_info": {
   "codemirror_mode": {
    "name": "ipython",
    "version": 3
   },
   "file_extension": ".py",
   "mimetype": "text/x-python",
   "name": "python",
   "nbconvert_exporter": "python",
   "pygments_lexer": "ipython3",
   "version": "3.9.2"
  }
 },
 "nbformat": 4,
 "nbformat_minor": 4
}
