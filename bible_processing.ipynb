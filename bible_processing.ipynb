{
 "cells": [
  {
   "cell_type": "markdown",
   "id": "b72eaf11-1cdd-4065-8727-b1e8c1f25022",
   "metadata": {},
   "source": [
    "# Russian Synodal Bible (1885)"
   ]
  },
  {
   "cell_type": "markdown",
   "id": "2ca910a8-a16a-4133-b377-a6de4221ab82",
   "metadata": {},
   "source": [
    "## Import"
   ]
  },
  {
   "cell_type": "markdown",
   "id": "f87d80a5-fa3a-4149-aa4f-8c2456c9e25c",
   "metadata": {},
   "source": [
    "### Libraries"
   ]
  },
  {
   "cell_type": "code",
   "execution_count": 16,
   "id": "1122fa31-c7f7-4d78-909c-266e5d4979cf",
   "metadata": {},
   "outputs": [],
   "source": [
    "import os\n",
    "import re\n",
    "import json\n",
    "import time\n",
    "import numpy as np\n",
    "import pandas as pd \n",
    "from lxml import etree\n",
    "import natasha\n",
    "from natasha import Segmenter, MorphVocab, NewsEmbedding, NewsMorphTagger, NewsSyntaxParser, NewsNERTagger, PER, NamesExtractor, Doc"
   ]
  },
  {
   "cell_type": "code",
   "execution_count": 2,
   "id": "f4f794ac-8f0c-4ede-92c3-84ba59913da7",
   "metadata": {},
   "outputs": [],
   "source": [
    "segmenter = Segmenter()\n",
    "morph_vocab = MorphVocab()\n",
    "emb = NewsEmbedding()\n",
    "morph_tagger = NewsMorphTagger(emb)\n",
    "syntax_parser = NewsSyntaxParser(emb)\n",
    "ner_tagger = NewsNERTagger(emb)\n",
    "names_extractor = NamesExtractor(morph_vocab)"
   ]
  },
  {
   "cell_type": "markdown",
   "id": "6c5d907e-05ce-4045-b8fa-4b34c4cff418",
   "metadata": {},
   "source": [
    "### Definitions"
   ]
  },
  {
   "cell_type": "code",
   "execution_count": 26,
   "id": "5eaca43d-292a-44e3-b86b-0dc6af9499d6",
   "metadata": {},
   "outputs": [],
   "source": [
    "texts = './texts/fiction/'\n",
    "bibleTXT = './texts/bible/bibliya-sinodalnyy-perevod.txt'\n",
    "libCols = ['author','pub_year','title','text']\n",
    "tokenOHCO = ['title','part_num','para_num', 'sent_num', 'token_num']\n",
    "bibleOHCO = ['test', 'book', 'chap', 'verse']\n",
    "bibleJSON = './texts/bible/bible.json'\n",
    "bibleXML = './texts/bible/bible.xml'"
   ]
  },
  {
   "cell_type": "markdown",
   "id": "ad9f9f93-73ef-4324-a6d9-ab4e0e423105",
   "metadata": {
    "tags": []
   },
   "source": [
    "## Pre-Processing"
   ]
  },
  {
   "cell_type": "markdown",
   "id": "d9e118f9-828e-4693-9fbb-e7d96063dd7e",
   "metadata": {
    "tags": []
   },
   "source": [
    "### Import Text into DF"
   ]
  },
  {
   "cell_type": "code",
   "execution_count": 4,
   "id": "5f03ba4c-dba3-4ce3-b485-28ac4a842681",
   "metadata": {
    "jupyter": {
     "source_hidden": true
    },
    "tags": []
   },
   "outputs": [
    {
     "data": {
      "text/html": [
       "<div>\n",
       "<style scoped>\n",
       "    .dataframe tbody tr th:only-of-type {\n",
       "        vertical-align: middle;\n",
       "    }\n",
       "\n",
       "    .dataframe tbody tr th {\n",
       "        vertical-align: top;\n",
       "    }\n",
       "\n",
       "    .dataframe thead th {\n",
       "        text-align: right;\n",
       "    }\n",
       "</style>\n",
       "<table border=\"1\" class=\"dataframe\">\n",
       "  <thead>\n",
       "    <tr style=\"text-align: right;\">\n",
       "      <th></th>\n",
       "      <th>text</th>\n",
       "    </tr>\n",
       "  </thead>\n",
       "  <tbody>\n",
       "    <tr>\n",
       "      <th>0</th>\n",
       "      <td>Библия. Синодальный перевод\\n</td>\n",
       "    </tr>\n",
       "    <tr>\n",
       "      <th>1</th>\n",
       "      <td>Священное Писание \\n</td>\n",
       "    </tr>\n",
       "    <tr>\n",
       "      <th>2</th>\n",
       "      <td>\\n</td>\n",
       "    </tr>\n",
       "    <tr>\n",
       "      <th>3</th>\n",
       "      <td>\\n</td>\n",
       "    </tr>\n",
       "    <tr>\n",
       "      <th>4</th>\n",
       "      <td>Перевод Библии на русский язык осуществлялся С...</td>\n",
       "    </tr>\n",
       "    <tr>\n",
       "      <th>...</th>\n",
       "      <td>...</td>\n",
       "    </tr>\n",
       "    <tr>\n",
       "      <th>191107</th>\n",
       "      <td>\\n</td>\n",
       "    </tr>\n",
       "    <tr>\n",
       "      <th>191108</th>\n",
       "      <td>\\n</td>\n",
       "    </tr>\n",
       "    <tr>\n",
       "      <th>191109</th>\n",
       "      <td>Подир — длинная одежда Иудейских первосвященни...</td>\n",
       "    </tr>\n",
       "    <tr>\n",
       "      <th>191110</th>\n",
       "      <td>\\n</td>\n",
       "    </tr>\n",
       "    <tr>\n",
       "      <th>191111</th>\n",
       "      <td>\\n</td>\n",
       "    </tr>\n",
       "  </tbody>\n",
       "</table>\n",
       "<p>191112 rows × 1 columns</p>\n",
       "</div>"
      ],
      "text/plain": [
       "                                                     text\n",
       "0                           Библия. Синодальный перевод\\n\n",
       "1                                    Священное Писание \\n\n",
       "2                                                      \\n\n",
       "3                                                      \\n\n",
       "4       Перевод Библии на русский язык осуществлялся С...\n",
       "...                                                   ...\n",
       "191107                                                 \\n\n",
       "191108                                                 \\n\n",
       "191109  Подир — длинная одежда Иудейских первосвященни...\n",
       "191110                                                 \\n\n",
       "191111                                                 \\n\n",
       "\n",
       "[191112 rows x 1 columns]"
      ]
     },
     "execution_count": 4,
     "metadata": {},
     "output_type": "execute_result"
    }
   ],
   "source": [
    "with open(bibleTXT, 'r', encoding='windows-1251') as f: \n",
    "    bibleText = f.readlines()\n",
    "\n",
    "bibliiaDf = pd.DataFrame(bibleText).rename(columns={0:'text'}).dropna()\n",
    "bibliiaDf"
   ]
  },
  {
   "cell_type": "markdown",
   "id": "cefd4378-cf17-4bd5-adb5-255b96cf1668",
   "metadata": {
    "tags": []
   },
   "source": [
    "### Find Parts"
   ]
  },
  {
   "cell_type": "code",
   "execution_count": 5,
   "id": "06f40bf2-89b5-43c2-985c-007b2eeef8e9",
   "metadata": {
    "jupyter": {
     "source_hidden": true
    },
    "tags": []
   },
   "outputs": [],
   "source": [
    "cont_line = bibliiaDf.loc[bibliiaDf.text.str.contains('Оглавление')].index[0]\n",
    "OT_line = bibliiaDf.loc[bibliiaDf.text.str.contains('Книги Ветхого Завета')].index[0]\n",
    "NT_line = bibliiaDf.loc[bibliiaDf.text.str.contains('Книги Нового Завета')].index[0]\n",
    "end_line = bibliiaDf.loc[bibliiaDf.text.str.contains('notes')].index[0]\n",
    "vz_line = bibliiaDf.loc[bibliiaDf.text.str.contains('Ветхий Завет')].index[0]\n",
    "nz_line = bibliiaDf.loc[bibliiaDf.text.str.contains('Новый Завет')].index[0]"
   ]
  },
  {
   "cell_type": "markdown",
   "id": "984f7ddc-f346-4b0a-8687-2aa8ee06f6a5",
   "metadata": {
    "tags": []
   },
   "source": [
    "### Tidy Up"
   ]
  },
  {
   "cell_type": "code",
   "execution_count": 6,
   "id": "db49a4d4-7449-4fde-9d1c-67e41db5081d",
   "metadata": {
    "jupyter": {
     "source_hidden": true
    },
    "tags": []
   },
   "outputs": [
    {
     "name": "stderr",
     "output_type": "stream",
     "text": [
      "/tmp/ipykernel_76198/1110360228.py:2: FutureWarning: The default value of regex will change from True to False in a future version.\n",
      "  bibliiaDf.loc[:,'text'] = bibliiaDf.loc[:,'text'].str.replace(r'\\n', '')\n",
      "/home/xtra/.local/lib/python3.9/site-packages/pandas/core/frame.py:3602: SettingWithCopyWarning: \n",
      "A value is trying to be set on a copy of a slice from a DataFrame.\n",
      "Try using .loc[row_indexer,col_indexer] = value instead\n",
      "\n",
      "See the caveats in the documentation: https://pandas.pydata.org/pandas-docs/stable/user_guide/indexing.html#returning-a-view-versus-a-copy\n",
      "  self._set_item(key, value)\n",
      "/tmp/ipykernel_76198/1110360228.py:3: FutureWarning: The default value of regex will change from True to False in a future version.\n",
      "  bibliiaDf.loc[:,'text'] = bibliiaDf.loc[:,'text'].str.replace(r'\\xa0', '')\n"
     ]
    },
    {
     "data": {
      "text/html": [
       "<div>\n",
       "<style scoped>\n",
       "    .dataframe tbody tr th:only-of-type {\n",
       "        vertical-align: middle;\n",
       "    }\n",
       "\n",
       "    .dataframe tbody tr th {\n",
       "        vertical-align: top;\n",
       "    }\n",
       "\n",
       "    .dataframe thead th {\n",
       "        text-align: right;\n",
       "    }\n",
       "</style>\n",
       "<table border=\"1\" class=\"dataframe\">\n",
       "  <thead>\n",
       "    <tr style=\"text-align: right;\">\n",
       "      <th></th>\n",
       "      <th>text</th>\n",
       "    </tr>\n",
       "  </thead>\n",
       "  <tbody>\n",
       "    <tr>\n",
       "      <th>0</th>\n",
       "      <td>Библия. Синодальный перевод</td>\n",
       "    </tr>\n",
       "    <tr>\n",
       "      <th>1</th>\n",
       "      <td>Священное Писание</td>\n",
       "    </tr>\n",
       "    <tr>\n",
       "      <th>4</th>\n",
       "      <td>Перевод Библии на русский язык осуществлялся С...</td>\n",
       "    </tr>\n",
       "    <tr>\n",
       "      <th>10</th>\n",
       "      <td>БИБЛИЯ</td>\n",
       "    </tr>\n",
       "    <tr>\n",
       "      <th>12</th>\n",
       "      <td>Книги Священного Писания Ветхого и Нового Завета</td>\n",
       "    </tr>\n",
       "    <tr>\n",
       "      <th>...</th>\n",
       "      <td>...</td>\n",
       "    </tr>\n",
       "    <tr>\n",
       "      <th>191093</th>\n",
       "      <td>Обращенные из язычников.</td>\n",
       "    </tr>\n",
       "    <tr>\n",
       "      <th>191098</th>\n",
       "      <td>54</td>\n",
       "    </tr>\n",
       "    <tr>\n",
       "      <th>191101</th>\n",
       "      <td>Евреи из стран языческих.</td>\n",
       "    </tr>\n",
       "    <tr>\n",
       "      <th>191106</th>\n",
       "      <td>55</td>\n",
       "    </tr>\n",
       "    <tr>\n",
       "      <th>191109</th>\n",
       "      <td>Подир — длинная одежда Иудейских первосвященни...</td>\n",
       "    </tr>\n",
       "  </tbody>\n",
       "</table>\n",
       "<p>38826 rows × 1 columns</p>\n",
       "</div>"
      ],
      "text/plain": [
       "                                                     text\n",
       "0                             Библия. Синодальный перевод\n",
       "1                                      Священное Писание \n",
       "4       Перевод Библии на русский язык осуществлялся С...\n",
       "10                                                 БИБЛИЯ\n",
       "12       Книги Священного Писания Ветхого и Нового Завета\n",
       "...                                                   ...\n",
       "191093                           Обращенные из язычников.\n",
       "191098                                                 54\n",
       "191101                          Евреи из стран языческих.\n",
       "191106                                                 55\n",
       "191109  Подир — длинная одежда Иудейских первосвященни...\n",
       "\n",
       "[38826 rows x 1 columns]"
      ]
     },
     "execution_count": 6,
     "metadata": {},
     "output_type": "execute_result"
    }
   ],
   "source": [
    "bibliiaDf = bibliiaDf.loc[bibliiaDf.text != '\\n']\n",
    "bibliiaDf.loc[:,'text'] = bibliiaDf.loc[:,'text'].str.replace(r'\\n', '')\n",
    "bibliiaDf.loc[:,'text'] = bibliiaDf.loc[:,'text'].str.replace(r'\\xa0', '')\n",
    "bibliiaDf"
   ]
  },
  {
   "cell_type": "markdown",
   "id": "a9ae56a9-74d1-44b2-bc76-697264bac263",
   "metadata": {
    "tags": []
   },
   "source": [
    "### Make Dict of Outline"
   ]
  },
  {
   "cell_type": "markdown",
   "id": "caff2169-aff1-4717-a559-a935c2b6e0a7",
   "metadata": {
    "tags": []
   },
   "source": [
    "{Testament: {Book: abbr}}"
   ]
  },
  {
   "cell_type": "code",
   "execution_count": 7,
   "id": "8cb65785-8cc3-43fa-ad09-34b5d784e7db",
   "metadata": {
    "jupyter": {
     "source_hidden": true
    },
    "tags": []
   },
   "outputs": [
    {
     "name": "stderr",
     "output_type": "stream",
     "text": [
      "/home/xtra/.local/lib/python3.9/site-packages/pandas/core/frame.py:3602: SettingWithCopyWarning: \n",
      "A value is trying to be set on a copy of a slice from a DataFrame.\n",
      "Try using .loc[row_indexer,col_indexer] = value instead\n",
      "\n",
      "See the caveats in the documentation: https://pandas.pydata.org/pandas-docs/stable/user_guide/indexing.html#returning-a-view-versus-a-copy\n",
      "  self._set_item(key, value)\n"
     ]
    }
   ],
   "source": [
    "abbrevsDf = bibliiaDf.loc[vz_line+1:OT_line-1]\n",
    "abbrevsDf[['abbr', 'title']] = abbrevsDf.loc[:,'text'].str.extract(r'^(\\[.*\\]) (.*)$', expand=True)\n",
    "abbrevsDf = abbrevsDf.drop(['text'], axis=1)\n",
    "bibliiaDict = {\n",
    "    'Ветхий Завет': dict(zip(abbrevsDf.loc[vz_line+1:nz_line-1].title.str.strip(' '), abbrevsDf.loc[vz_line+1:nz_line-1].abbr.str.strip(r'[|]'))), \n",
    "    'Новый Завет': dict(zip(abbrevsDf.loc[nz_line+1:OT_line-1].title.str.strip(' '), abbrevsDf.loc[nz_line+1:OT_line-1].abbr.str.strip(r'[|]')))\n",
    "}\n",
    "del abbrevsDf"
   ]
  },
  {
   "cell_type": "markdown",
   "id": "e3eb85ea-66ec-426e-b609-91fd8c596df2",
   "metadata": {
    "tags": []
   },
   "source": [
    "### Assign Testament Label"
   ]
  },
  {
   "cell_type": "code",
   "execution_count": 8,
   "id": "725621ee-1c40-403d-b10b-c0279caf06b4",
   "metadata": {
    "jupyter": {
     "source_hidden": true
    },
    "tags": []
   },
   "outputs": [
    {
     "data": {
      "text/html": [
       "<div>\n",
       "<style scoped>\n",
       "    .dataframe tbody tr th:only-of-type {\n",
       "        vertical-align: middle;\n",
       "    }\n",
       "\n",
       "    .dataframe tbody tr th {\n",
       "        vertical-align: top;\n",
       "    }\n",
       "\n",
       "    .dataframe thead th {\n",
       "        text-align: right;\n",
       "    }\n",
       "</style>\n",
       "<table border=\"1\" class=\"dataframe\">\n",
       "  <thead>\n",
       "    <tr style=\"text-align: right;\">\n",
       "      <th></th>\n",
       "      <th>text</th>\n",
       "      <th>test</th>\n",
       "    </tr>\n",
       "  </thead>\n",
       "  <tbody>\n",
       "    <tr>\n",
       "      <th>422</th>\n",
       "      <td>[Быт.] Первая книга Моисея. Бытие</td>\n",
       "      <td>OT</td>\n",
       "    </tr>\n",
       "    <tr>\n",
       "      <th>426</th>\n",
       "      <td>Глава 1</td>\n",
       "      <td>OT</td>\n",
       "    </tr>\n",
       "    <tr>\n",
       "      <th>431</th>\n",
       "      <td>В начале сотворил Бог небо и землю.</td>\n",
       "      <td>OT</td>\n",
       "    </tr>\n",
       "    <tr>\n",
       "      <th>436</th>\n",
       "      <td>Земля же была безвидна и пуста, и тьма над без...</td>\n",
       "      <td>OT</td>\n",
       "    </tr>\n",
       "    <tr>\n",
       "      <th>441</th>\n",
       "      <td>И сказал Бог: да будет свет. И стал свет.</td>\n",
       "      <td>OT</td>\n",
       "    </tr>\n",
       "    <tr>\n",
       "      <th>...</th>\n",
       "      <td>...</td>\n",
       "      <td>...</td>\n",
       "    </tr>\n",
       "    <tr>\n",
       "      <th>190641</th>\n",
       "      <td>И Дух и невеста говорят: прииди! И слышавший д...</td>\n",
       "      <td>NT</td>\n",
       "    </tr>\n",
       "    <tr>\n",
       "      <th>190646</th>\n",
       "      <td>И я также свидетельствую всякому слышащему сло...</td>\n",
       "      <td>NT</td>\n",
       "    </tr>\n",
       "    <tr>\n",
       "      <th>190651</th>\n",
       "      <td>и если кто отнимет что от слов книги пророчест...</td>\n",
       "      <td>NT</td>\n",
       "    </tr>\n",
       "    <tr>\n",
       "      <th>190656</th>\n",
       "      <td>Свидетельствующий сие говорит: ей, гряду скоро...</td>\n",
       "      <td>NT</td>\n",
       "    </tr>\n",
       "    <tr>\n",
       "      <th>190661</th>\n",
       "      <td>Благодать Господа нашего Иисуса Христа со всем...</td>\n",
       "      <td>NT</td>\n",
       "    </tr>\n",
       "  </tbody>\n",
       "</table>\n",
       "<p>38629 rows × 2 columns</p>\n",
       "</div>"
      ],
      "text/plain": [
       "                                                     text test\n",
       "422                     [Быт.] Первая книга Моисея. Бытие   OT\n",
       "426                                               Глава 1   OT\n",
       "431                   В начале сотворил Бог небо и землю.   OT\n",
       "436     Земля же была безвидна и пуста, и тьма над без...   OT\n",
       "441             И сказал Бог: да будет свет. И стал свет.   OT\n",
       "...                                                   ...  ...\n",
       "190641  И Дух и невеста говорят: прииди! И слышавший д...   NT\n",
       "190646  И я также свидетельствую всякому слышащему сло...   NT\n",
       "190651  и если кто отнимет что от слов книги пророчест...   NT\n",
       "190656  Свидетельствующий сие говорит: ей, гряду скоро...   NT\n",
       "190661  Благодать Господа нашего Иисуса Христа со всем...   NT\n",
       "\n",
       "[38629 rows x 2 columns]"
      ]
     },
     "execution_count": 8,
     "metadata": {},
     "output_type": "execute_result"
    }
   ],
   "source": [
    "bibliiaDf = bibliiaDf.loc[OT_line+1:end_line-1]\n",
    "bibliiaDf['test'] = np.where(bibliiaDf.index<NT_line, 'OT', 'NT')\n",
    "bibliiaDf"
   ]
  },
  {
   "cell_type": "markdown",
   "id": "589358de-fb80-47b4-bef3-0b23935024b9",
   "metadata": {
    "tags": []
   },
   "source": [
    "### Index All Parts"
   ]
  },
  {
   "cell_type": "code",
   "execution_count": 9,
   "id": "883442b1-7ec8-4f99-b138-979c4da32b2d",
   "metadata": {
    "jupyter": {
     "source_hidden": true
    },
    "tags": []
   },
   "outputs": [],
   "source": [
    "all_chaps = bibliiaDf.loc[bibliiaDf.text.str.contains(r'Глава \\d')]\n",
    "bibleBooks = [x for y in bibliiaDict.values() for x in y]\n",
    "bookAbbrs = [val[abbr] for key, val in bibliiaDict.items() for abbr in val]\n",
    "searchAbbrs = [r'^\\['+val[abbr]+'\\]' for key, val in bibliiaDict.items() for abbr in val]\n",
    "abbrsList = \"|\".join(searchAbbrs)\n",
    "books_index = bibliiaDf[bibliiaDf['text'].str.contains(abbrsList)].index\n",
    "books_map = list(zip(books_index, bookAbbrs))\n",
    "chaps_map = list(all_chaps.itertuples(name=None))"
   ]
  },
  {
   "cell_type": "markdown",
   "id": "d43181d6-d095-4b16-8b45-d34530b15899",
   "metadata": {
    "tags": []
   },
   "source": [
    "### Assign Book Label"
   ]
  },
  {
   "cell_type": "code",
   "execution_count": 10,
   "id": "a5ba6021-c3b5-433d-8d49-391c9cd6c987",
   "metadata": {
    "jupyter": {
     "source_hidden": true
    },
    "tags": []
   },
   "outputs": [
    {
     "name": "stderr",
     "output_type": "stream",
     "text": [
      "/home/xtra/.local/lib/python3.9/site-packages/pandas/core/frame.py:3602: SettingWithCopyWarning: \n",
      "A value is trying to be set on a copy of a slice from a DataFrame.\n",
      "Try using .loc[row_indexer,col_indexer] = value instead\n",
      "\n",
      "See the caveats in the documentation: https://pandas.pydata.org/pandas-docs/stable/user_guide/indexing.html#returning-a-view-versus-a-copy\n",
      "  self._set_item(key, value)\n",
      "/home/xtra/.local/lib/python3.9/site-packages/pandas/core/indexing.py:1799: SettingWithCopyWarning: \n",
      "A value is trying to be set on a copy of a slice from a DataFrame.\n",
      "Try using .loc[row_indexer,col_indexer] = value instead\n",
      "\n",
      "See the caveats in the documentation: https://pandas.pydata.org/pandas-docs/stable/user_guide/indexing.html#returning-a-view-versus-a-copy\n",
      "  self._setitem_single_column(loc, value, pi)\n"
     ]
    },
    {
     "data": {
      "text/html": [
       "<div>\n",
       "<style scoped>\n",
       "    .dataframe tbody tr th:only-of-type {\n",
       "        vertical-align: middle;\n",
       "    }\n",
       "\n",
       "    .dataframe tbody tr th {\n",
       "        vertical-align: top;\n",
       "    }\n",
       "\n",
       "    .dataframe thead th {\n",
       "        text-align: right;\n",
       "    }\n",
       "</style>\n",
       "<table border=\"1\" class=\"dataframe\">\n",
       "  <thead>\n",
       "    <tr style=\"text-align: right;\">\n",
       "      <th></th>\n",
       "      <th>text</th>\n",
       "      <th>test</th>\n",
       "      <th>book</th>\n",
       "    </tr>\n",
       "  </thead>\n",
       "  <tbody>\n",
       "    <tr>\n",
       "      <th>426</th>\n",
       "      <td>Глава 1</td>\n",
       "      <td>OT</td>\n",
       "      <td>Быт.</td>\n",
       "    </tr>\n",
       "    <tr>\n",
       "      <th>431</th>\n",
       "      <td>В начале сотворил Бог небо и землю.</td>\n",
       "      <td>OT</td>\n",
       "      <td>Быт.</td>\n",
       "    </tr>\n",
       "    <tr>\n",
       "      <th>436</th>\n",
       "      <td>Земля же была безвидна и пуста, и тьма над без...</td>\n",
       "      <td>OT</td>\n",
       "      <td>Быт.</td>\n",
       "    </tr>\n",
       "    <tr>\n",
       "      <th>441</th>\n",
       "      <td>И сказал Бог: да будет свет. И стал свет.</td>\n",
       "      <td>OT</td>\n",
       "      <td>Быт.</td>\n",
       "    </tr>\n",
       "    <tr>\n",
       "      <th>446</th>\n",
       "      <td>И увидел Бог свет, что он хорош, и отделил Бог...</td>\n",
       "      <td>OT</td>\n",
       "      <td>Быт.</td>\n",
       "    </tr>\n",
       "    <tr>\n",
       "      <th>...</th>\n",
       "      <td>...</td>\n",
       "      <td>...</td>\n",
       "      <td>...</td>\n",
       "    </tr>\n",
       "    <tr>\n",
       "      <th>190641</th>\n",
       "      <td>И Дух и невеста говорят: прииди! И слышавший д...</td>\n",
       "      <td>NT</td>\n",
       "      <td>Откр.</td>\n",
       "    </tr>\n",
       "    <tr>\n",
       "      <th>190646</th>\n",
       "      <td>И я также свидетельствую всякому слышащему сло...</td>\n",
       "      <td>NT</td>\n",
       "      <td>Откр.</td>\n",
       "    </tr>\n",
       "    <tr>\n",
       "      <th>190651</th>\n",
       "      <td>и если кто отнимет что от слов книги пророчест...</td>\n",
       "      <td>NT</td>\n",
       "      <td>Откр.</td>\n",
       "    </tr>\n",
       "    <tr>\n",
       "      <th>190656</th>\n",
       "      <td>Свидетельствующий сие говорит: ей, гряду скоро...</td>\n",
       "      <td>NT</td>\n",
       "      <td>Откр.</td>\n",
       "    </tr>\n",
       "    <tr>\n",
       "      <th>190661</th>\n",
       "      <td>Благодать Господа нашего Иисуса Христа со всем...</td>\n",
       "      <td>NT</td>\n",
       "      <td>Откр.</td>\n",
       "    </tr>\n",
       "  </tbody>\n",
       "</table>\n",
       "<p>38553 rows × 3 columns</p>\n",
       "</div>"
      ],
      "text/plain": [
       "                                                     text test   book\n",
       "426                                               Глава 1   OT   Быт.\n",
       "431                   В начале сотворил Бог небо и землю.   OT   Быт.\n",
       "436     Земля же была безвидна и пуста, и тьма над без...   OT   Быт.\n",
       "441             И сказал Бог: да будет свет. И стал свет.   OT   Быт.\n",
       "446     И увидел Бог свет, что он хорош, и отделил Бог...   OT   Быт.\n",
       "...                                                   ...  ...    ...\n",
       "190641  И Дух и невеста говорят: прииди! И слышавший д...   NT  Откр.\n",
       "190646  И я также свидетельствую всякому слышащему сло...   NT  Откр.\n",
       "190651  и если кто отнимет что от слов книги пророчест...   NT  Откр.\n",
       "190656  Свидетельствующий сие говорит: ей, гряду скоро...   NT  Откр.\n",
       "190661  Благодать Господа нашего Иисуса Христа со всем...   NT  Откр.\n",
       "\n",
       "[38553 rows x 3 columns]"
      ]
     },
     "execution_count": 10,
     "metadata": {},
     "output_type": "execute_result"
    }
   ],
   "source": [
    "for ind in books_map: \n",
    "    bibliiaDf.loc[ind[0], 'book'] = ind[1]\n",
    "\n",
    "bibliiaDf['book'] = bibliiaDf.book.ffill()\n",
    "bibliiaDf = bibliiaDf.drop([x[0] for x in books_map])\n",
    "bibliiaDf"
   ]
  },
  {
   "cell_type": "markdown",
   "id": "865e0f2d-6c99-4bcf-90cb-405ea395a0d7",
   "metadata": {
    "tags": []
   },
   "source": [
    "### Assign Chapter & Verse Labels"
   ]
  },
  {
   "cell_type": "code",
   "execution_count": 11,
   "id": "0cd2eb1e-cb81-4a40-8113-806b998aa62d",
   "metadata": {
    "jupyter": {
     "source_hidden": true
    },
    "tags": []
   },
   "outputs": [],
   "source": [
    "for ind in chaps_map: \n",
    "    bibliiaDf.loc[ind[0], 'chap'] = ind[1]\n",
    "    \n",
    "bibliiaDf['chap'] = bibliiaDf.chap.ffill()\n",
    "bibliiaDf = bibliiaDf.drop(x[0] for x in chaps_map)\n",
    "\n",
    "bibliiaDf['chap'] = bibliiaDf.chap.str.extract(r'(\\d{1,2})$')\n",
    "\n",
    "bibliiaDf['verse'] = bibliiaDf.groupby(bibleOHCO[:3]).cumcount()+1"
   ]
  },
  {
   "cell_type": "markdown",
   "id": "6e620844-5568-4dca-a070-fa947aed7bcf",
   "metadata": {
    "tags": []
   },
   "source": [
    "### Set Index & Remove Fluff"
   ]
  },
  {
   "cell_type": "code",
   "execution_count": 12,
   "id": "b4d7d26c-cab7-4b07-95ae-f25503175c70",
   "metadata": {
    "jupyter": {
     "source_hidden": true
    },
    "tags": []
   },
   "outputs": [
    {
     "data": {
      "text/html": [
       "<div>\n",
       "<style scoped>\n",
       "    .dataframe tbody tr th:only-of-type {\n",
       "        vertical-align: middle;\n",
       "    }\n",
       "\n",
       "    .dataframe tbody tr th {\n",
       "        vertical-align: top;\n",
       "    }\n",
       "\n",
       "    .dataframe thead th {\n",
       "        text-align: right;\n",
       "    }\n",
       "</style>\n",
       "<table border=\"1\" class=\"dataframe\">\n",
       "  <thead>\n",
       "    <tr style=\"text-align: right;\">\n",
       "      <th></th>\n",
       "      <th></th>\n",
       "      <th></th>\n",
       "      <th></th>\n",
       "      <th>text</th>\n",
       "    </tr>\n",
       "    <tr>\n",
       "      <th>test</th>\n",
       "      <th>book</th>\n",
       "      <th>chap</th>\n",
       "      <th>verse</th>\n",
       "      <th></th>\n",
       "    </tr>\n",
       "  </thead>\n",
       "  <tbody>\n",
       "    <tr>\n",
       "      <th rowspan=\"5\" valign=\"top\">OT</th>\n",
       "      <th rowspan=\"5\" valign=\"top\">Быт.</th>\n",
       "      <th rowspan=\"5\" valign=\"top\">1</th>\n",
       "      <th>1</th>\n",
       "      <td>В начале сотворил Бог небо и землю.</td>\n",
       "    </tr>\n",
       "    <tr>\n",
       "      <th>2</th>\n",
       "      <td>Земля же была безвидна и пуста, и тьма над без...</td>\n",
       "    </tr>\n",
       "    <tr>\n",
       "      <th>3</th>\n",
       "      <td>И сказал Бог: да будет свет. И стал свет.</td>\n",
       "    </tr>\n",
       "    <tr>\n",
       "      <th>4</th>\n",
       "      <td>И увидел Бог свет, что он хорош, и отделил Бог...</td>\n",
       "    </tr>\n",
       "    <tr>\n",
       "      <th>5</th>\n",
       "      <td>И назвал Бог свет днем, а тьму ночью. И был ве...</td>\n",
       "    </tr>\n",
       "    <tr>\n",
       "      <th>...</th>\n",
       "      <th>...</th>\n",
       "      <th>...</th>\n",
       "      <th>...</th>\n",
       "      <td>...</td>\n",
       "    </tr>\n",
       "    <tr>\n",
       "      <th rowspan=\"5\" valign=\"top\">NT</th>\n",
       "      <th rowspan=\"5\" valign=\"top\">Откр.</th>\n",
       "      <th rowspan=\"5\" valign=\"top\">22</th>\n",
       "      <th>17</th>\n",
       "      <td>И Дух и невеста говорят: прииди! И слышавший д...</td>\n",
       "    </tr>\n",
       "    <tr>\n",
       "      <th>18</th>\n",
       "      <td>И я также свидетельствую всякому слышащему сло...</td>\n",
       "    </tr>\n",
       "    <tr>\n",
       "      <th>19</th>\n",
       "      <td>и если кто отнимет что от слов книги пророчест...</td>\n",
       "    </tr>\n",
       "    <tr>\n",
       "      <th>20</th>\n",
       "      <td>Свидетельствующий сие говорит: ей, гряду скоро...</td>\n",
       "    </tr>\n",
       "    <tr>\n",
       "      <th>21</th>\n",
       "      <td>Благодать Господа нашего Иисуса Христа со всем...</td>\n",
       "    </tr>\n",
       "  </tbody>\n",
       "</table>\n",
       "<p>37343 rows × 1 columns</p>\n",
       "</div>"
      ],
      "text/plain": [
       "                                                                    text\n",
       "test book  chap verse                                                   \n",
       "OT   Быт.  1    1                    В начале сотворил Бог небо и землю.\n",
       "                2      Земля же была безвидна и пуста, и тьма над без...\n",
       "                3              И сказал Бог: да будет свет. И стал свет.\n",
       "                4      И увидел Бог свет, что он хорош, и отделил Бог...\n",
       "                5      И назвал Бог свет днем, а тьму ночью. И был ве...\n",
       "...                                                                  ...\n",
       "NT   Откр. 22   17     И Дух и невеста говорят: прииди! И слышавший д...\n",
       "                18     И я также свидетельствую всякому слышащему сло...\n",
       "                19     и если кто отнимет что от слов книги пророчест...\n",
       "                20     Свидетельствующий сие говорит: ей, гряду скоро...\n",
       "                21     Благодать Господа нашего Иисуса Христа со всем...\n",
       "\n",
       "[37343 rows x 1 columns]"
      ]
     },
     "execution_count": 12,
     "metadata": {},
     "output_type": "execute_result"
    }
   ],
   "source": [
    "bibliiaDf = bibliiaDf.set_index(bibleOHCO)\n",
    "\n",
    "bibliiaDf.loc[:,'text'] = bibliiaDf.loc[:,'text'].replace(r\"\\s\\[.+\\]\", \"\", regex=True)\n",
    "\n",
    "bibliiaDf"
   ]
  },
  {
   "cell_type": "markdown",
   "id": "2b193f64-4cd9-4776-8a07-c6a0bb7b2454",
   "metadata": {
    "tags": []
   },
   "source": [
    "### Export to JSON"
   ]
  },
  {
   "cell_type": "code",
   "execution_count": 23,
   "id": "5d88296f-9bf2-4c03-8187-b5c262805176",
   "metadata": {
    "tags": []
   },
   "outputs": [
    {
     "data": {
      "text/html": [
       "<div>\n",
       "<style scoped>\n",
       "    .dataframe tbody tr th:only-of-type {\n",
       "        vertical-align: middle;\n",
       "    }\n",
       "\n",
       "    .dataframe tbody tr th {\n",
       "        vertical-align: top;\n",
       "    }\n",
       "\n",
       "    .dataframe thead th {\n",
       "        text-align: right;\n",
       "    }\n",
       "</style>\n",
       "<table border=\"1\" class=\"dataframe\">\n",
       "  <thead>\n",
       "    <tr style=\"text-align: right;\">\n",
       "      <th></th>\n",
       "      <th>test</th>\n",
       "      <th>book</th>\n",
       "      <th>chap</th>\n",
       "      <th>verse</th>\n",
       "      <th>text</th>\n",
       "    </tr>\n",
       "  </thead>\n",
       "  <tbody>\n",
       "    <tr>\n",
       "      <th>0</th>\n",
       "      <td>OT</td>\n",
       "      <td>Быт.</td>\n",
       "      <td>1</td>\n",
       "      <td>1</td>\n",
       "      <td>В начале сотворил Бог небо и землю.</td>\n",
       "    </tr>\n",
       "    <tr>\n",
       "      <th>1</th>\n",
       "      <td>OT</td>\n",
       "      <td>Быт.</td>\n",
       "      <td>1</td>\n",
       "      <td>2</td>\n",
       "      <td>Земля же была безвидна и пуста, и тьма над без...</td>\n",
       "    </tr>\n",
       "    <tr>\n",
       "      <th>2</th>\n",
       "      <td>OT</td>\n",
       "      <td>Быт.</td>\n",
       "      <td>1</td>\n",
       "      <td>3</td>\n",
       "      <td>И сказал Бог: да будет свет. И стал свет.</td>\n",
       "    </tr>\n",
       "    <tr>\n",
       "      <th>3</th>\n",
       "      <td>OT</td>\n",
       "      <td>Быт.</td>\n",
       "      <td>1</td>\n",
       "      <td>4</td>\n",
       "      <td>И увидел Бог свет, что он хорош, и отделил Бог...</td>\n",
       "    </tr>\n",
       "    <tr>\n",
       "      <th>4</th>\n",
       "      <td>OT</td>\n",
       "      <td>Быт.</td>\n",
       "      <td>1</td>\n",
       "      <td>5</td>\n",
       "      <td>И назвал Бог свет днем, а тьму ночью. И был ве...</td>\n",
       "    </tr>\n",
       "    <tr>\n",
       "      <th>...</th>\n",
       "      <td>...</td>\n",
       "      <td>...</td>\n",
       "      <td>...</td>\n",
       "      <td>...</td>\n",
       "      <td>...</td>\n",
       "    </tr>\n",
       "    <tr>\n",
       "      <th>37338</th>\n",
       "      <td>NT</td>\n",
       "      <td>Откр.</td>\n",
       "      <td>22</td>\n",
       "      <td>17</td>\n",
       "      <td>И Дух и невеста говорят: прииди! И слышавший д...</td>\n",
       "    </tr>\n",
       "    <tr>\n",
       "      <th>37339</th>\n",
       "      <td>NT</td>\n",
       "      <td>Откр.</td>\n",
       "      <td>22</td>\n",
       "      <td>18</td>\n",
       "      <td>И я также свидетельствую всякому слышащему сло...</td>\n",
       "    </tr>\n",
       "    <tr>\n",
       "      <th>37340</th>\n",
       "      <td>NT</td>\n",
       "      <td>Откр.</td>\n",
       "      <td>22</td>\n",
       "      <td>19</td>\n",
       "      <td>и если кто отнимет что от слов книги пророчест...</td>\n",
       "    </tr>\n",
       "    <tr>\n",
       "      <th>37341</th>\n",
       "      <td>NT</td>\n",
       "      <td>Откр.</td>\n",
       "      <td>22</td>\n",
       "      <td>20</td>\n",
       "      <td>Свидетельствующий сие говорит: ей, гряду скоро...</td>\n",
       "    </tr>\n",
       "    <tr>\n",
       "      <th>37342</th>\n",
       "      <td>NT</td>\n",
       "      <td>Откр.</td>\n",
       "      <td>22</td>\n",
       "      <td>21</td>\n",
       "      <td>Благодать Господа нашего Иисуса Христа со всем...</td>\n",
       "    </tr>\n",
       "  </tbody>\n",
       "</table>\n",
       "<p>37343 rows × 5 columns</p>\n",
       "</div>"
      ],
      "text/plain": [
       "      test   book chap  verse  \\\n",
       "0       OT   Быт.    1      1   \n",
       "1       OT   Быт.    1      2   \n",
       "2       OT   Быт.    1      3   \n",
       "3       OT   Быт.    1      4   \n",
       "4       OT   Быт.    1      5   \n",
       "...    ...    ...  ...    ...   \n",
       "37338   NT  Откр.   22     17   \n",
       "37339   NT  Откр.   22     18   \n",
       "37340   NT  Откр.   22     19   \n",
       "37341   NT  Откр.   22     20   \n",
       "37342   NT  Откр.   22     21   \n",
       "\n",
       "                                                    text  \n",
       "0                    В начале сотворил Бог небо и землю.  \n",
       "1      Земля же была безвидна и пуста, и тьма над без...  \n",
       "2              И сказал Бог: да будет свет. И стал свет.  \n",
       "3      И увидел Бог свет, что он хорош, и отделил Бог...  \n",
       "4      И назвал Бог свет днем, а тьму ночью. И был ве...  \n",
       "...                                                  ...  \n",
       "37338  И Дух и невеста говорят: прииди! И слышавший д...  \n",
       "37339  И я также свидетельствую всякому слышащему сло...  \n",
       "37340  и если кто отнимет что от слов книги пророчест...  \n",
       "37341  Свидетельствующий сие говорит: ей, гряду скоро...  \n",
       "37342  Благодать Господа нашего Иисуса Христа со всем...  \n",
       "\n",
       "[37343 rows x 5 columns]"
      ]
     },
     "execution_count": 23,
     "metadata": {},
     "output_type": "execute_result"
    }
   ],
   "source": [
    "bibliiaDf.reset_index()#.to_json(bibleJSON)"
   ]
  },
  {
   "cell_type": "code",
   "execution_count": 24,
   "id": "3f997297-18a5-4bc7-9a15-ef115e10d11a",
   "metadata": {},
   "outputs": [
    {
     "data": {
      "text/plain": [
       "['test', 'book', 'chap', 'verse']"
      ]
     },
     "execution_count": 24,
     "metadata": {},
     "output_type": "execute_result"
    }
   ],
   "source": [
    "bibleOHCO"
   ]
  },
  {
   "cell_type": "code",
   "execution_count": 31,
   "id": "ffe64d67-d3bc-4f20-9460-50994917597f",
   "metadata": {},
   "outputs": [
    {
     "data": {
      "text/plain": [
       "'<?xml version=\\'1.0\\' encoding=\\'utf-8\\'?>\\n<bible>\\n  <row index=\"0\" test=\"OT\" book=\"Быт.\" chap=\"1\" verse=\"1\">\\n    <index>0</index>\\n    <text>В начале сотворил Бог небо и землю.</text>\\n  </row>\\n  <row index=\"1\" test=\"OT\" book=\"Быт.\" chap=\"1\" verse=\"2\">\\n    <index>1</index>\\n    <text>Земля же была безвидна и пуста, и тьма над бездною, и Дух Божий носился над водою.</text>\\n  </row>\\n  <row index=\"2\" test=\"OT\" book=\"Быт.\" chap=\"1\" verse=\"3\">\\n    <index>2</index>\\n    <text>И сказал Бог: да будет свет. И стал свет.</text>\\n  </row>\\n  <row index=\"3\" test=\"OT\" book=\"Быт.\" chap=\"1\" verse=\"4\">\\n    <index>3</index>\\n    <text>И увидел Бог свет, что он хорош, и отделил Бог свет от тьмы.</text>\\n  </row>\\n  <row index=\"4\" test=\"OT\" book=\"Быт.\" chap=\"1\" verse=\"5\">\\n    <index>4</index>\\n    <text>И назвал Бог свет днем, а тьму ночью. И был вечер, и было утро: день один.</text>\\n  </row>\\n  <row index=\"5\" test=\"OT\" book=\"Быт.\" chap=\"1\" verse=\"6\">\\n    <index>5</index>\\n    <text>И сказал Бог: да будет твердь посреди воды, и да отделяет она воду от воды.</text>\\n  </row>\\n  <row index=\"6\" test=\"OT\" book=\"Быт.\" chap=\"1\" verse=\"7\">\\n    <index>6</index>\\n    <text>И создал Бог твердь, и отделил воду, которая под твердью, от воды, которая над твердью. И стало так.</text>\\n  </row>\\n  <row index=\"7\" test=\"OT\" book=\"Быт.\" chap=\"1\" verse=\"8\">\\n    <index>7</index>\\n    <text>И назвал Бог твердь небом. И был вечер, и было утро: день второй.</text>\\n  </row>\\n  <row index=\"8\" test=\"OT\" book=\"Быт.\" chap=\"1\" verse=\"9\">\\n    <index>8</index>\\n    <text>И сказал Бог: да соберется вода, которая под небом, в одно место, и да явится суша. И стало так.</text>\\n  </row>\\n  <row index=\"9\" test=\"OT\" book=\"Быт.\" chap=\"1\" verse=\"10\">\\n    <index>9</index>\\n    <text>И назвал Бог сушу землею, а собрание вод назвал морями. И увидел Бог, что это хорошо.</text>\\n  </row>\\n  <row index=\"10\" test=\"OT\" book=\"Быт.\" chap=\"1\" verse=\"11\">\\n    <index>10</index>\\n    <text>И сказал Бог: да произрастит земля зелень, траву, сеющую семя дерево плодовитое, приносящее по роду своему плод, в котором семя его на земле. И стало так.</text>\\n  </row>\\n  <row index=\"11\" test=\"OT\" book=\"Быт.\" chap=\"1\" verse=\"12\">\\n    <index>11</index>\\n    <text>И произвела земля зелень, траву, сеющую семя по роду. И увидел Бог, что это хорошо.</text>\\n  </row>\\n  <row index=\"12\" test=\"OT\" book=\"Быт.\" chap=\"1\" verse=\"13\">\\n    <index>12</index>\\n    <text>И был вечер, и было утро: день третий.</text>\\n  </row>\\n  <row index=\"13\" test=\"OT\" book=\"Быт.\" chap=\"1\" verse=\"14\">\\n    <index>13</index>\\n    <text>И сказал Бог: да будут светила на тверди небесной для отделения дня от ночи, и для знамений, и времен, и дней, и годов;</text>\\n  </row>\\n  <row index=\"14\" test=\"OT\" book=\"Быт.\" chap=\"1\" verse=\"15\">\\n    <index>14</index>\\n    <text>и да будут они светильниками на тверди небесной, чтобы светить на землю. И стало так.</text>\\n  </row>\\n  <row index=\"15\" test=\"OT\" book=\"Быт.\" chap=\"1\" verse=\"16\">\\n    <index>15</index>\\n    <text>И создал Бог два светила великие: светило большее, для управления днем, и светило меньшее, для управления ночью, и звезды;</text>\\n  </row>\\n  <row index=\"16\" test=\"OT\" book=\"Быт.\" chap=\"1\" verse=\"17\">\\n    <index>16</index>\\n    <text>и поставил их Бог на тверди небесной, чтобы светить на землю,</text>\\n  </row>\\n  <row index=\"17\" test=\"OT\" book=\"Быт.\" chap=\"1\" verse=\"18\">\\n    <index>17</index>\\n    <text>и управлять днем и ночью, и отделять свет от тьмы. И увидел Бог, что это хорошо.</text>\\n  </row>\\n  <row index=\"18\" test=\"OT\" book=\"Быт.\" chap=\"1\" verse=\"19\">\\n    <index>18</index>\\n    <text>И был вечер, и было утро: день четвёртый.</text>\\n  </row>\\n  <row index=\"19\" test=\"OT\" book=\"Быт.\" chap=\"1\" verse=\"20\">\\n    <index>19</index>\\n    <text>И сказал Бог: да произведет вода пресмыкающихся, душу живую; и птицы да полетят над землею, по тверди небесной.</text>\\n  </row>\\n  <row index=\"20\" test=\"OT\" book=\"Быт.\" chap=\"1\" verse=\"21\">\\n    <index>20</index>\\n    <text>И сотворил Бог рыб больших и всякую душу животных пресмыкающихся, которых произвела вода, по роду их, и всякую птицу пернатую по роду ее. И увидел Бог, что это хорошо.</text>\\n  </row>\\n</bible>'"
      ]
     },
     "execution_count": 31,
     "metadata": {},
     "output_type": "execute_result"
    }
   ],
   "source": [
    "bibliiaDf.reset_index().loc[:20].to_xml(index=True, root_name='bible', attr_cols=bibleOHCO, elem_cols=['text'])"
   ]
  },
  {
   "cell_type": "code",
   "execution_count": 32,
   "id": "e6a15ce6-78cc-4f98-9642-0dd5d495de7a",
   "metadata": {},
   "outputs": [],
   "source": [
    "bibliiaDf.reset_index().to_xml(path_or_buffer=bibleXML, index=False, root_name='bible', attr_cols=bibleOHCO, elem_cols=['text'])"
   ]
  },
  {
   "cell_type": "code",
   "execution_count": 44,
   "id": "daab9f11-d56f-4632-aed7-a49982ec9299",
   "metadata": {
    "tags": []
   },
   "outputs": [
    {
     "name": "stdout",
     "output_type": "stream",
     "text": [
      "bible\n"
     ]
    }
   ],
   "source": [
    "root = etree.Element(\"bible\")\n",
    "print(root.tag)\n",
    "#bibleTree = etree.ElementTree()"
   ]
  },
  {
   "cell_type": "code",
   "execution_count": 47,
   "id": "a25e98a9-9dff-42a7-a6f1-56eebbf548d8",
   "metadata": {},
   "outputs": [],
   "source": [
    "root.append(etree.Element(\"testament\"))"
   ]
  },
  {
   "cell_type": "code",
   "execution_count": null,
   "id": "7bd8601d-3a0c-4ca3-9557-5b71d51e597c",
   "metadata": {},
   "outputs": [],
   "source": [
    "root.append(etree.Element(\"\"))"
   ]
  },
  {
   "cell_type": "code",
   "execution_count": 51,
   "id": "501ca084-86bb-46c5-8232-7d315ad43083",
   "metadata": {},
   "outputs": [
    {
     "data": {
      "text/plain": [
       "b'<bible>\\n  <testament/>\\n</bible>\\n'"
      ]
     },
     "execution_count": 51,
     "metadata": {},
     "output_type": "execute_result"
    }
   ],
   "source": [
    "etree.tostring(root, pretty_print=True)"
   ]
  },
  {
   "cell_type": "code",
   "execution_count": 37,
   "id": "539d1965-3eff-4505-a080-135111d45118",
   "metadata": {
    "collapsed": true,
    "jupyter": {
     "outputs_hidden": true
    },
    "tags": []
   },
   "outputs": [
    {
     "data": {
      "text/plain": [
       "['__class__',\n",
       " '__copy__',\n",
       " '__deepcopy__',\n",
       " '__delattr__',\n",
       " '__dir__',\n",
       " '__doc__',\n",
       " '__eq__',\n",
       " '__format__',\n",
       " '__ge__',\n",
       " '__getattribute__',\n",
       " '__gt__',\n",
       " '__hash__',\n",
       " '__init__',\n",
       " '__init_subclass__',\n",
       " '__le__',\n",
       " '__lt__',\n",
       " '__ne__',\n",
       " '__new__',\n",
       " '__pyx_vtable__',\n",
       " '__reduce__',\n",
       " '__reduce_ex__',\n",
       " '__repr__',\n",
       " '__setattr__',\n",
       " '__sizeof__',\n",
       " '__str__',\n",
       " '__subclasshook__',\n",
       " '_setroot',\n",
       " 'docinfo',\n",
       " 'find',\n",
       " 'findall',\n",
       " 'findtext',\n",
       " 'getelementpath',\n",
       " 'getiterator',\n",
       " 'getpath',\n",
       " 'getroot',\n",
       " 'iter',\n",
       " 'iterfind',\n",
       " 'parse',\n",
       " 'parser',\n",
       " 'relaxng',\n",
       " 'write',\n",
       " 'write_c14n',\n",
       " 'xinclude',\n",
       " 'xmlschema',\n",
       " 'xpath',\n",
       " 'xslt']"
      ]
     },
     "execution_count": 37,
     "metadata": {},
     "output_type": "execute_result"
    }
   ],
   "source": [
    "dir(bibleTree)"
   ]
  },
  {
   "cell_type": "code",
   "execution_count": 39,
   "id": "3cc30c00-381d-446d-a9f4-14537cf19344",
   "metadata": {},
   "outputs": [],
   "source": [
    "bibleTree._setroot(etree.Element('bible'))"
   ]
  },
  {
   "cell_type": "code",
   "execution_count": 43,
   "id": "a8f0d71f-ee82-4803-816f-6ebff3ee50c1",
   "metadata": {},
   "outputs": [
    {
     "ename": "AttributeError",
     "evalue": "'lxml.etree._ElementTree' object has no attribute 'tostring'",
     "output_type": "error",
     "traceback": [
      "\u001b[0;31m---------------------------------------------------------------------------\u001b[0m",
      "\u001b[0;31mAttributeError\u001b[0m                            Traceback (most recent call last)",
      "\u001b[0;32m/tmp/ipykernel_76198/1320552637.py\u001b[0m in \u001b[0;36m<module>\u001b[0;34m\u001b[0m\n\u001b[0;32m----> 1\u001b[0;31m \u001b[0mbibleTree\u001b[0m\u001b[0;34m.\u001b[0m\u001b[0mtostring\u001b[0m\u001b[0;34m(\u001b[0m\u001b[0;34m)\u001b[0m\u001b[0;34m\u001b[0m\u001b[0;34m\u001b[0m\u001b[0m\n\u001b[0m",
      "\u001b[0;31mAttributeError\u001b[0m: 'lxml.etree._ElementTree' object has no attribute 'tostring'"
     ]
    }
   ],
   "source": [
    "bibleTree.tostring()"
   ]
  },
  {
   "cell_type": "markdown",
   "id": "cccddfb0-d1a9-47ea-a7e0-5bb8d15eb320",
   "metadata": {},
   "source": [
    "## Processing"
   ]
  },
  {
   "cell_type": "code",
   "execution_count": 262,
   "id": "37d84faf-58d9-4b61-8e9f-10fc7e05ad99",
   "metadata": {},
   "outputs": [],
   "source": [
    "BibDf = pd.read_json(bibleJSON)\n",
    "BibDf.index.name = 'v_id'\n",
    "BibTextDf = BibDf[['text']]\n",
    "BibLibDf = BibDf[bibleOHCO]\n",
    "#synodalDf#.set_index(bibleOHCO)"
   ]
  },
  {
   "cell_type": "code",
   "execution_count": 263,
   "id": "adcd8ce8-f88c-446e-943d-856c6dd651e6",
   "metadata": {},
   "outputs": [
    {
     "data": {
      "text/html": [
       "<div>\n",
       "<style scoped>\n",
       "    .dataframe tbody tr th:only-of-type {\n",
       "        vertical-align: middle;\n",
       "    }\n",
       "\n",
       "    .dataframe tbody tr th {\n",
       "        vertical-align: top;\n",
       "    }\n",
       "\n",
       "    .dataframe thead th {\n",
       "        text-align: right;\n",
       "    }\n",
       "</style>\n",
       "<table border=\"1\" class=\"dataframe\">\n",
       "  <thead>\n",
       "    <tr style=\"text-align: right;\">\n",
       "      <th></th>\n",
       "      <th>test</th>\n",
       "      <th>book</th>\n",
       "      <th>chap</th>\n",
       "      <th>verse</th>\n",
       "      <th>text</th>\n",
       "    </tr>\n",
       "    <tr>\n",
       "      <th>v_id</th>\n",
       "      <th></th>\n",
       "      <th></th>\n",
       "      <th></th>\n",
       "      <th></th>\n",
       "      <th></th>\n",
       "    </tr>\n",
       "  </thead>\n",
       "  <tbody>\n",
       "    <tr>\n",
       "      <th>0</th>\n",
       "      <td>OT</td>\n",
       "      <td>Быт.</td>\n",
       "      <td>1</td>\n",
       "      <td>1</td>\n",
       "      <td>В начале сотворил Бог небо и землю.</td>\n",
       "    </tr>\n",
       "    <tr>\n",
       "      <th>1</th>\n",
       "      <td>OT</td>\n",
       "      <td>Быт.</td>\n",
       "      <td>1</td>\n",
       "      <td>2</td>\n",
       "      <td>Земля же была безвидна и пуста, и тьма над без...</td>\n",
       "    </tr>\n",
       "    <tr>\n",
       "      <th>2</th>\n",
       "      <td>OT</td>\n",
       "      <td>Быт.</td>\n",
       "      <td>1</td>\n",
       "      <td>3</td>\n",
       "      <td>И сказал Бог: да будет свет. И стал свет.</td>\n",
       "    </tr>\n",
       "    <tr>\n",
       "      <th>3</th>\n",
       "      <td>OT</td>\n",
       "      <td>Быт.</td>\n",
       "      <td>1</td>\n",
       "      <td>4</td>\n",
       "      <td>И увидел Бог свет, что он хорош, и отделил Бог...</td>\n",
       "    </tr>\n",
       "    <tr>\n",
       "      <th>4</th>\n",
       "      <td>OT</td>\n",
       "      <td>Быт.</td>\n",
       "      <td>1</td>\n",
       "      <td>5</td>\n",
       "      <td>И назвал Бог свет днем, а тьму ночью. И был ве...</td>\n",
       "    </tr>\n",
       "    <tr>\n",
       "      <th>...</th>\n",
       "      <td>...</td>\n",
       "      <td>...</td>\n",
       "      <td>...</td>\n",
       "      <td>...</td>\n",
       "      <td>...</td>\n",
       "    </tr>\n",
       "    <tr>\n",
       "      <th>37338</th>\n",
       "      <td>NT</td>\n",
       "      <td>Откр.</td>\n",
       "      <td>22</td>\n",
       "      <td>17</td>\n",
       "      <td>И Дух и невеста говорят: прииди! И слышавший д...</td>\n",
       "    </tr>\n",
       "    <tr>\n",
       "      <th>37339</th>\n",
       "      <td>NT</td>\n",
       "      <td>Откр.</td>\n",
       "      <td>22</td>\n",
       "      <td>18</td>\n",
       "      <td>И я также свидетельствую всякому слышащему сло...</td>\n",
       "    </tr>\n",
       "    <tr>\n",
       "      <th>37340</th>\n",
       "      <td>NT</td>\n",
       "      <td>Откр.</td>\n",
       "      <td>22</td>\n",
       "      <td>19</td>\n",
       "      <td>и если кто отнимет что от слов книги пророчест...</td>\n",
       "    </tr>\n",
       "    <tr>\n",
       "      <th>37341</th>\n",
       "      <td>NT</td>\n",
       "      <td>Откр.</td>\n",
       "      <td>22</td>\n",
       "      <td>20</td>\n",
       "      <td>Свидетельствующий сие говорит: ей, гряду скоро...</td>\n",
       "    </tr>\n",
       "    <tr>\n",
       "      <th>37342</th>\n",
       "      <td>NT</td>\n",
       "      <td>Откр.</td>\n",
       "      <td>22</td>\n",
       "      <td>21</td>\n",
       "      <td>Благодать Господа нашего Иисуса Христа со всем...</td>\n",
       "    </tr>\n",
       "  </tbody>\n",
       "</table>\n",
       "<p>37343 rows × 5 columns</p>\n",
       "</div>"
      ],
      "text/plain": [
       "      test   book  chap  verse  \\\n",
       "v_id                             \n",
       "0       OT   Быт.     1      1   \n",
       "1       OT   Быт.     1      2   \n",
       "2       OT   Быт.     1      3   \n",
       "3       OT   Быт.     1      4   \n",
       "4       OT   Быт.     1      5   \n",
       "...    ...    ...   ...    ...   \n",
       "37338   NT  Откр.    22     17   \n",
       "37339   NT  Откр.    22     18   \n",
       "37340   NT  Откр.    22     19   \n",
       "37341   NT  Откр.    22     20   \n",
       "37342   NT  Откр.    22     21   \n",
       "\n",
       "                                                    text  \n",
       "v_id                                                      \n",
       "0                    В начале сотворил Бог небо и землю.  \n",
       "1      Земля же была безвидна и пуста, и тьма над без...  \n",
       "2              И сказал Бог: да будет свет. И стал свет.  \n",
       "3      И увидел Бог свет, что он хорош, и отделил Бог...  \n",
       "4      И назвал Бог свет днем, а тьму ночью. И был ве...  \n",
       "...                                                  ...  \n",
       "37338  И Дух и невеста говорят: прииди! И слышавший д...  \n",
       "37339  И я также свидетельствую всякому слышащему сло...  \n",
       "37340  и если кто отнимет что от слов книги пророчест...  \n",
       "37341  Свидетельствующий сие говорит: ей, гряду скоро...  \n",
       "37342  Благодать Господа нашего Иисуса Христа со всем...  \n",
       "\n",
       "[37343 rows x 5 columns]"
      ]
     },
     "execution_count": 263,
     "metadata": {},
     "output_type": "execute_result"
    }
   ],
   "source": [
    "BibDf"
   ]
  },
  {
   "cell_type": "code",
   "execution_count": 164,
   "id": "f2a3d1f6-9a28-4ca2-9b74-6364ca0c5f2b",
   "metadata": {},
   "outputs": [],
   "source": [
    "#testsDict = dict(enumerate(BibDf.test.unique()))\n",
    "testsDict = dict([(value, key) for key, value in dict(enumerate(BibDf.test.unique())).items()])\n",
    "booksDict = dict([(value, key) for key, value in dict(enumerate(BibDf.book.unique())).items()])"
   ]
  },
  {
   "cell_type": "code",
   "execution_count": 198,
   "id": "e28bd922-3913-45a3-938a-fb49b0a7e9fa",
   "metadata": {},
   "outputs": [
    {
     "data": {
      "text/html": [
       "<div>\n",
       "<style scoped>\n",
       "    .dataframe tbody tr th:only-of-type {\n",
       "        vertical-align: middle;\n",
       "    }\n",
       "\n",
       "    .dataframe tbody tr th {\n",
       "        vertical-align: top;\n",
       "    }\n",
       "\n",
       "    .dataframe thead th {\n",
       "        text-align: right;\n",
       "    }\n",
       "</style>\n",
       "<table border=\"1\" class=\"dataframe\">\n",
       "  <thead>\n",
       "    <tr style=\"text-align: right;\">\n",
       "      <th></th>\n",
       "      <th>text</th>\n",
       "      <th>test</th>\n",
       "      <th>book</th>\n",
       "      <th>chap</th>\n",
       "    </tr>\n",
       "    <tr>\n",
       "      <th>c_id</th>\n",
       "      <th></th>\n",
       "      <th></th>\n",
       "      <th></th>\n",
       "      <th></th>\n",
       "    </tr>\n",
       "  </thead>\n",
       "  <tbody>\n",
       "    <tr>\n",
       "      <th>0</th>\n",
       "      <td>В начале сотворил Бог небо и землю. Земля же б...</td>\n",
       "      <td>OT</td>\n",
       "      <td>Быт.</td>\n",
       "      <td>1</td>\n",
       "    </tr>\n",
       "    <tr>\n",
       "      <th>1</th>\n",
       "      <td>Так совершены небо и земля и все воинство их. ...</td>\n",
       "      <td>OT</td>\n",
       "      <td>Быт.</td>\n",
       "      <td>2</td>\n",
       "    </tr>\n",
       "    <tr>\n",
       "      <th>2</th>\n",
       "      <td>Змей был хитрее всех зверей полевых, которых с...</td>\n",
       "      <td>OT</td>\n",
       "      <td>Быт.</td>\n",
       "      <td>3</td>\n",
       "    </tr>\n",
       "    <tr>\n",
       "      <th>3</th>\n",
       "      <td>Адам познал Еву, жену свою; и она зачала, и ро...</td>\n",
       "      <td>OT</td>\n",
       "      <td>Быт.</td>\n",
       "      <td>4</td>\n",
       "    </tr>\n",
       "    <tr>\n",
       "      <th>4</th>\n",
       "      <td>Вот родословие Адама: когда Бог сотворил челов...</td>\n",
       "      <td>OT</td>\n",
       "      <td>Быт.</td>\n",
       "      <td>5</td>\n",
       "    </tr>\n",
       "    <tr>\n",
       "      <th>...</th>\n",
       "      <td>...</td>\n",
       "      <td>...</td>\n",
       "      <td>...</td>\n",
       "      <td>...</td>\n",
       "    </tr>\n",
       "    <tr>\n",
       "      <th>1193</th>\n",
       "      <td>После сего я увидел иного Ангела, сходящего с ...</td>\n",
       "      <td>NT</td>\n",
       "      <td>Откр.</td>\n",
       "      <td>18</td>\n",
       "    </tr>\n",
       "    <tr>\n",
       "      <th>1194</th>\n",
       "      <td>После сего я услышал на небе громкий голос как...</td>\n",
       "      <td>NT</td>\n",
       "      <td>Откр.</td>\n",
       "      <td>19</td>\n",
       "    </tr>\n",
       "    <tr>\n",
       "      <th>1195</th>\n",
       "      <td>И увидел я Ангела, сходящего с неба, который и...</td>\n",
       "      <td>NT</td>\n",
       "      <td>Откр.</td>\n",
       "      <td>20</td>\n",
       "    </tr>\n",
       "    <tr>\n",
       "      <th>1196</th>\n",
       "      <td>И увидел я новое небо и новую землю, ибо прежн...</td>\n",
       "      <td>NT</td>\n",
       "      <td>Откр.</td>\n",
       "      <td>21</td>\n",
       "    </tr>\n",
       "    <tr>\n",
       "      <th>1197</th>\n",
       "      <td>И показал мне чистую реку воды жизни, светлую,...</td>\n",
       "      <td>NT</td>\n",
       "      <td>Откр.</td>\n",
       "      <td>22</td>\n",
       "    </tr>\n",
       "  </tbody>\n",
       "</table>\n",
       "<p>1198 rows × 4 columns</p>\n",
       "</div>"
      ],
      "text/plain": [
       "                                                   text test   book  chap\n",
       "c_id                                                                     \n",
       "0     В начале сотворил Бог небо и землю. Земля же б...   OT   Быт.     1\n",
       "1     Так совершены небо и земля и все воинство их. ...   OT   Быт.     2\n",
       "2     Змей был хитрее всех зверей полевых, которых с...   OT   Быт.     3\n",
       "3     Адам познал Еву, жену свою; и она зачала, и ро...   OT   Быт.     4\n",
       "4     Вот родословие Адама: когда Бог сотворил челов...   OT   Быт.     5\n",
       "...                                                 ...  ...    ...   ...\n",
       "1193  После сего я увидел иного Ангела, сходящего с ...   NT  Откр.    18\n",
       "1194  После сего я услышал на небе громкий голос как...   NT  Откр.    19\n",
       "1195  И увидел я Ангела, сходящего с неба, который и...   NT  Откр.    20\n",
       "1196  И увидел я новое небо и новую землю, ибо прежн...   NT  Откр.    21\n",
       "1197  И показал мне чистую реку воды жизни, светлую,...   NT  Откр.    22\n",
       "\n",
       "[1198 rows x 4 columns]"
      ]
     },
     "execution_count": 198,
     "metadata": {},
     "output_type": "execute_result"
    }
   ],
   "source": [
    "ChapsDf = pd.DataFrame([(x, ' '.join(y)) for (x,y) in BibDf.groupby(bibleOHCO[:3]).text], columns=[('test', 'book', 'chap'), 'text'])\n",
    "ChapsDf[['test','book','chap']] = pd.DataFrame(list(ChapsDf[('test', 'book', 'chap')]), index=ChapsDf.index, columns=bibleOHCO[:3])\n",
    "del ChapsDf[('test', 'book', 'chap')]\n",
    "ChapsDf = ChapsDf.replace({\"test\": testsDict, \"book\": booksDict}).sort_values(by=bibleOHCO[:3], ascending=[True, True, True])\n",
    "ChapsDf = ChapsDf.reset_index().drop(['index'], axis=1)\n",
    "ChapsDf.index.name = 'c_id'\n",
    "ChapsDf = ChapsDf.replace({\"test\":dict(enumerate(BibDf.test.unique())), \"book\":dict(enumerate(BibDf.book.unique()))})\n",
    "#ChapsDf = ChapsDf.reset_index().set_index(bibleOHCO[:3])\n",
    "ChapsDf"
   ]
  },
  {
   "cell_type": "code",
   "execution_count": 197,
   "id": "388de76b-ef48-46be-9991-dcd04fbfce83",
   "metadata": {},
   "outputs": [
    {
     "data": {
      "text/html": [
       "<div>\n",
       "<style scoped>\n",
       "    .dataframe tbody tr th:only-of-type {\n",
       "        vertical-align: middle;\n",
       "    }\n",
       "\n",
       "    .dataframe tbody tr th {\n",
       "        vertical-align: top;\n",
       "    }\n",
       "\n",
       "    .dataframe thead th {\n",
       "        text-align: right;\n",
       "    }\n",
       "</style>\n",
       "<table border=\"1\" class=\"dataframe\">\n",
       "  <thead>\n",
       "    <tr style=\"text-align: right;\">\n",
       "      <th></th>\n",
       "      <th>text</th>\n",
       "      <th>test</th>\n",
       "      <th>book</th>\n",
       "    </tr>\n",
       "    <tr>\n",
       "      <th>b_id</th>\n",
       "      <th></th>\n",
       "      <th></th>\n",
       "      <th></th>\n",
       "    </tr>\n",
       "  </thead>\n",
       "  <tbody>\n",
       "    <tr>\n",
       "      <th>0</th>\n",
       "      <td>В начале сотворил Бог небо и землю. Земля же б...</td>\n",
       "      <td>OT</td>\n",
       "      <td>Быт.</td>\n",
       "    </tr>\n",
       "    <tr>\n",
       "      <th>1</th>\n",
       "      <td>Вот имена сынов Израилевых, которые вошли в Ег...</td>\n",
       "      <td>OT</td>\n",
       "      <td>Исх.</td>\n",
       "    </tr>\n",
       "    <tr>\n",
       "      <th>2</th>\n",
       "      <td>И воззвал Господь к Моисею и сказал ему из ски...</td>\n",
       "      <td>OT</td>\n",
       "      <td>Лев.</td>\n",
       "    </tr>\n",
       "    <tr>\n",
       "      <th>3</th>\n",
       "      <td>И сказал Господь Моисею в пустыне Синайской, в...</td>\n",
       "      <td>OT</td>\n",
       "      <td>Чис.</td>\n",
       "    </tr>\n",
       "    <tr>\n",
       "      <th>4</th>\n",
       "      <td>Сии суть слова, которые говорил Моисей всем Из...</td>\n",
       "      <td>OT</td>\n",
       "      <td>Втор.</td>\n",
       "    </tr>\n",
       "    <tr>\n",
       "      <th>...</th>\n",
       "      <td>...</td>\n",
       "      <td>...</td>\n",
       "      <td>...</td>\n",
       "    </tr>\n",
       "    <tr>\n",
       "      <th>72</th>\n",
       "      <td>Павел и Силуан и Тимофей — Фессалоникской церк...</td>\n",
       "      <td>NT</td>\n",
       "      <td>1Тим.</td>\n",
       "    </tr>\n",
       "    <tr>\n",
       "      <th>73</th>\n",
       "      <td>Павел, Апостол Иисуса Христа по повелению Бога...</td>\n",
       "      <td>NT</td>\n",
       "      <td>2Тим.</td>\n",
       "    </tr>\n",
       "    <tr>\n",
       "      <th>74</th>\n",
       "      <td>Павел, волею Божиею Апостол Иисуса Христа, по ...</td>\n",
       "      <td>NT</td>\n",
       "      <td>Флм.</td>\n",
       "    </tr>\n",
       "    <tr>\n",
       "      <th>75</th>\n",
       "      <td>Павел, узник Иисуса Христа, и Тимофей брат, Фи...</td>\n",
       "      <td>NT</td>\n",
       "      <td>Евр.</td>\n",
       "    </tr>\n",
       "    <tr>\n",
       "      <th>76</th>\n",
       "      <td>Бог, многократно и многообразно говоривший изд...</td>\n",
       "      <td>NT</td>\n",
       "      <td>Откр.</td>\n",
       "    </tr>\n",
       "  </tbody>\n",
       "</table>\n",
       "<p>77 rows × 3 columns</p>\n",
       "</div>"
      ],
      "text/plain": [
       "                                                   text test   book\n",
       "b_id                                                               \n",
       "0     В начале сотворил Бог небо и землю. Земля же б...   OT   Быт.\n",
       "1     Вот имена сынов Израилевых, которые вошли в Ег...   OT   Исх.\n",
       "2     И воззвал Господь к Моисею и сказал ему из ски...   OT   Лев.\n",
       "3     И сказал Господь Моисею в пустыне Синайской, в...   OT   Чис.\n",
       "4     Сии суть слова, которые говорил Моисей всем Из...   OT  Втор.\n",
       "...                                                 ...  ...    ...\n",
       "72    Павел и Силуан и Тимофей — Фессалоникской церк...   NT  1Тим.\n",
       "73    Павел, Апостол Иисуса Христа по повелению Бога...   NT  2Тим.\n",
       "74    Павел, волею Божиею Апостол Иисуса Христа, по ...   NT   Флм.\n",
       "75    Павел, узник Иисуса Христа, и Тимофей брат, Фи...   NT   Евр.\n",
       "76    Бог, многократно и многообразно говоривший изд...   NT  Откр.\n",
       "\n",
       "[77 rows x 3 columns]"
      ]
     },
     "execution_count": 197,
     "metadata": {},
     "output_type": "execute_result"
    }
   ],
   "source": [
    "BooksDf = pd.DataFrame([(x, ' '.join(y)) for (x,y) in BibDf.groupby(bibleOHCO[:2]).text], columns=[('test', 'book'), 'text'])\n",
    "BooksDf[['test','book']] = pd.DataFrame(list(BooksDf[('test', 'book')]), index=BooksDf.index, columns=bibleOHCO[:2])\n",
    "del BooksDf[('test', 'book')]\n",
    "BooksDf = BooksDf.replace({\"test\": testsDict, \"book\": booksDict}).sort_values(by=bibleOHCO[:2], ascending=[True, True])\n",
    "BooksDf = BooksDf.reset_index().drop(['index'], axis=1)\n",
    "BooksDf.index.name = 'b_id'\n",
    "BooksDf = BooksDf.replace({\"test\":dict(enumerate(BibDf.test.unique())), \"book\":dict(enumerate(BibDf.book.unique()))})\n",
    "#BooksDf = BooksDf.reset_index().set_index(bibleOHCO[:2])\n",
    "BooksDf "
   ]
  },
  {
   "cell_type": "code",
   "execution_count": 199,
   "id": "2888481a-4b0a-499c-9790-35f9a2c3abc1",
   "metadata": {},
   "outputs": [
    {
     "data": {
      "text/html": [
       "<div>\n",
       "<style scoped>\n",
       "    .dataframe tbody tr th:only-of-type {\n",
       "        vertical-align: middle;\n",
       "    }\n",
       "\n",
       "    .dataframe tbody tr th {\n",
       "        vertical-align: top;\n",
       "    }\n",
       "\n",
       "    .dataframe thead th {\n",
       "        text-align: right;\n",
       "    }\n",
       "</style>\n",
       "<table border=\"1\" class=\"dataframe\">\n",
       "  <thead>\n",
       "    <tr style=\"text-align: right;\">\n",
       "      <th></th>\n",
       "      <th>test</th>\n",
       "      <th>text</th>\n",
       "    </tr>\n",
       "    <tr>\n",
       "      <th>t_id</th>\n",
       "      <th></th>\n",
       "      <th></th>\n",
       "    </tr>\n",
       "  </thead>\n",
       "  <tbody>\n",
       "    <tr>\n",
       "      <th>0</th>\n",
       "      <td>NT</td>\n",
       "      <td>Книги Нового Завета Родословие Иисуса Христа, ...</td>\n",
       "    </tr>\n",
       "    <tr>\n",
       "      <th>1</th>\n",
       "      <td>OT</td>\n",
       "      <td>В начале сотворил Бог небо и землю. Земля же б...</td>\n",
       "    </tr>\n",
       "  </tbody>\n",
       "</table>\n",
       "</div>"
      ],
      "text/plain": [
       "     test                                               text\n",
       "t_id                                                        \n",
       "0      NT  Книги Нового Завета Родословие Иисуса Христа, ...\n",
       "1      OT  В начале сотворил Бог небо и землю. Земля же б..."
      ]
     },
     "execution_count": 199,
     "metadata": {},
     "output_type": "execute_result"
    }
   ],
   "source": [
    "TestsDf = pd.DataFrame([(x, ' '.join(y)) for (x,y) in BibDf.groupby(bibleOHCO[:1]).text], columns=['test', 'text'])\n",
    "TestsDf.index.name = 't_id'\n",
    "TestsDf "
   ]
  },
  {
   "cell_type": "code",
   "execution_count": 264,
   "id": "cd9fd357-97c9-4835-89d0-e41862324d21",
   "metadata": {},
   "outputs": [
    {
     "data": {
      "text/html": [
       "<div>\n",
       "<style scoped>\n",
       "    .dataframe tbody tr th:only-of-type {\n",
       "        vertical-align: middle;\n",
       "    }\n",
       "\n",
       "    .dataframe tbody tr th {\n",
       "        vertical-align: top;\n",
       "    }\n",
       "\n",
       "    .dataframe thead th {\n",
       "        text-align: right;\n",
       "    }\n",
       "</style>\n",
       "<table border=\"1\" class=\"dataframe\">\n",
       "  <thead>\n",
       "    <tr style=\"text-align: right;\">\n",
       "      <th></th>\n",
       "      <th>text</th>\n",
       "    </tr>\n",
       "    <tr>\n",
       "      <th>v_id</th>\n",
       "      <th></th>\n",
       "    </tr>\n",
       "  </thead>\n",
       "  <tbody>\n",
       "    <tr>\n",
       "      <th>0</th>\n",
       "      <td>В начале сотворил Бог небо и землю.</td>\n",
       "    </tr>\n",
       "    <tr>\n",
       "      <th>1</th>\n",
       "      <td>Земля же была безвидна и пуста, и тьма над без...</td>\n",
       "    </tr>\n",
       "    <tr>\n",
       "      <th>2</th>\n",
       "      <td>И сказал Бог: да будет свет. И стал свет.</td>\n",
       "    </tr>\n",
       "    <tr>\n",
       "      <th>3</th>\n",
       "      <td>И увидел Бог свет, что он хорош, и отделил Бог...</td>\n",
       "    </tr>\n",
       "    <tr>\n",
       "      <th>4</th>\n",
       "      <td>И назвал Бог свет днем, а тьму ночью. И был ве...</td>\n",
       "    </tr>\n",
       "    <tr>\n",
       "      <th>...</th>\n",
       "      <td>...</td>\n",
       "    </tr>\n",
       "    <tr>\n",
       "      <th>37338</th>\n",
       "      <td>И Дух и невеста говорят: прииди! И слышавший д...</td>\n",
       "    </tr>\n",
       "    <tr>\n",
       "      <th>37339</th>\n",
       "      <td>И я также свидетельствую всякому слышащему сло...</td>\n",
       "    </tr>\n",
       "    <tr>\n",
       "      <th>37340</th>\n",
       "      <td>и если кто отнимет что от слов книги пророчест...</td>\n",
       "    </tr>\n",
       "    <tr>\n",
       "      <th>37341</th>\n",
       "      <td>Свидетельствующий сие говорит: ей, гряду скоро...</td>\n",
       "    </tr>\n",
       "    <tr>\n",
       "      <th>37342</th>\n",
       "      <td>Благодать Господа нашего Иисуса Христа со всем...</td>\n",
       "    </tr>\n",
       "  </tbody>\n",
       "</table>\n",
       "<p>37343 rows × 1 columns</p>\n",
       "</div>"
      ],
      "text/plain": [
       "                                                    text\n",
       "v_id                                                    \n",
       "0                    В начале сотворил Бог небо и землю.\n",
       "1      Земля же была безвидна и пуста, и тьма над без...\n",
       "2              И сказал Бог: да будет свет. И стал свет.\n",
       "3      И увидел Бог свет, что он хорош, и отделил Бог...\n",
       "4      И назвал Бог свет днем, а тьму ночью. И был ве...\n",
       "...                                                  ...\n",
       "37338  И Дух и невеста говорят: прииди! И слышавший д...\n",
       "37339  И я также свидетельствую всякому слышащему сло...\n",
       "37340  и если кто отнимет что от слов книги пророчест...\n",
       "37341  Свидетельствующий сие говорит: ей, гряду скоро...\n",
       "37342  Благодать Господа нашего Иисуса Христа со всем...\n",
       "\n",
       "[37343 rows x 1 columns]"
      ]
     },
     "execution_count": 264,
     "metadata": {},
     "output_type": "execute_result"
    }
   ],
   "source": [
    "BibTextDf"
   ]
  },
  {
   "cell_type": "code",
   "execution_count": 281,
   "id": "1149cb9d-e768-4833-ad9f-aad7c1c3f5bc",
   "metadata": {},
   "outputs": [
    {
     "data": {
      "text/html": [
       "<div>\n",
       "<style scoped>\n",
       "    .dataframe tbody tr th:only-of-type {\n",
       "        vertical-align: middle;\n",
       "    }\n",
       "\n",
       "    .dataframe tbody tr th {\n",
       "        vertical-align: top;\n",
       "    }\n",
       "\n",
       "    .dataframe thead th {\n",
       "        text-align: right;\n",
       "    }\n",
       "</style>\n",
       "<table border=\"1\" class=\"dataframe\">\n",
       "  <thead>\n",
       "    <tr style=\"text-align: right;\">\n",
       "      <th></th>\n",
       "      <th>text</th>\n",
       "    </tr>\n",
       "    <tr>\n",
       "      <th>v_id</th>\n",
       "      <th></th>\n",
       "    </tr>\n",
       "  </thead>\n",
       "  <tbody>\n",
       "    <tr>\n",
       "      <th>1</th>\n",
       "      <td>Земля же была безвидна и пуста, и тьма над без...</td>\n",
       "    </tr>\n",
       "  </tbody>\n",
       "</table>\n",
       "</div>"
      ],
      "text/plain": [
       "                                                   text\n",
       "v_id                                                   \n",
       "1     Земля же была безвидна и пуста, и тьма над без..."
      ]
     },
     "execution_count": 281,
     "metadata": {},
     "output_type": "execute_result"
    }
   ],
   "source": [
    "TestDf = BibTextDf.loc[1:1]#.to_frame()\n",
    "TestDf"
   ]
  },
  {
   "cell_type": "code",
   "execution_count": 250,
   "id": "b78c9005-9bad-4b1f-ba26-643364d1c401",
   "metadata": {},
   "outputs": [],
   "source": [
    "def nat_parse(doc_text): \n",
    "    doc = Doc(doc_text)\n",
    "    doc.segment(segmenter)\n",
    "    doc.tag_morph(morph_tagger)\n",
    "    for token in doc.tokens: \n",
    "        token.lemmatize(morph_vocab)\n",
    "    doc.parse_syntax(syntax_parser)\n",
    "    doc.tag_ner(ner_tagger)\n",
    "    for sent in enumerate(doc.sents): \n",
    "        sent_num = sent[0]\n",
    "        sent_text = sent[1]\n",
    "        for token in enumerate([x for x in sent_text.tokens if x.pos!='PUNCT']): \n",
    "            token_num = token[0]\n",
    "            token_text = token[1]\n",
    "            start = token_text.start\n",
    "            stop = token_text.stop\n",
    "            text = token_text.text\n",
    "            token_id = token_text.id\n",
    "            head_id = token_text.head_id\n",
    "            rel = token_text.rel\n",
    "            pos = token_text.pos\n",
    "            lemma = token_text.lemma\n",
    "            # Animacy, Aspect, Case, Degree, Gender, Mood, Number, Person, Tense, VerbForm, Voice\n",
    "            #print(token_text.feats)\n",
    "            try: \n",
    "                anim = token_text.feats['Animacy']\n",
    "            except: \n",
    "                anim = None\n",
    "            try: \n",
    "                aspect = token_text.feats['Aspect']\n",
    "            except: \n",
    "                aspect = None\n",
    "            try: \n",
    "                case = token_text.feats['Case']\n",
    "            except: \n",
    "                case = None\n",
    "            try: \n",
    "                degree = token_text.feats['Degree']\n",
    "            except: \n",
    "                degree = None\n",
    "            try: \n",
    "                gender = token_text.feats['Gender']\n",
    "            except: \n",
    "                gender = None\n",
    "            try: \n",
    "                mood = token_text.feats['Mood']\n",
    "            except: \n",
    "                mood = None\n",
    "            try: \n",
    "                number = token_text.feats['Number']\n",
    "            except: \n",
    "                number = None\n",
    "            try: \n",
    "                person = token_text.feats['Person']\n",
    "            except: \n",
    "                person = None\n",
    "            try: \n",
    "                tense = token_text.feats['Tense']\n",
    "            except: \n",
    "                tense = None\n",
    "            try: \n",
    "                verb_form = token_text.feats['VerbForm']\n",
    "            except: \n",
    "                verb_form = None\n",
    "            try: \n",
    "                voice = token_text.feats['Voice']\n",
    "            except: \n",
    "                voice = None\n",
    "            #print(token)\n",
    "        #print(sent)\n",
    "    return token_num, start, stop, text, token_id, head_id, rel, pos, lemma, anim, aspect, case, degree, gender, mood, number, person, tense, verb_form, voice"
   ]
  },
  {
   "cell_type": "code",
   "execution_count": 255,
   "id": "c33d1286-7e57-4e03-8e19-6874fa7eae47",
   "metadata": {
    "tags": []
   },
   "outputs": [],
   "source": [
    "columns = ['token_num', 'start', 'stop', 'text', 'token_id', 'head_id', 'rel', 'pos', 'lemma', 'anim', 'aspect', 'aspect', 'case', 'degree', 'gender', 'mood', 'number', 'person', 'tense', 'verb_form', 'voice']"
   ]
  },
  {
   "cell_type": "code",
   "execution_count": 282,
   "id": "28ac74d9-a395-4488-957b-a0f4f0760597",
   "metadata": {
    "tags": []
   },
   "outputs": [
    {
     "name": "stderr",
     "output_type": "stream",
     "text": [
      "/home/xtra/.local/lib/python3.9/site-packages/pandas/core/frame.py:3602: SettingWithCopyWarning: \n",
      "A value is trying to be set on a copy of a slice from a DataFrame.\n",
      "Try using .loc[row_indexer,col_indexer] = value instead\n",
      "\n",
      "See the caveats in the documentation: https://pandas.pydata.org/pandas-docs/stable/user_guide/indexing.html#returning-a-view-versus-a-copy\n",
      "  self._set_item(key, value)\n"
     ]
    },
    {
     "ename": "IndexError",
     "evalue": "list index out of range",
     "output_type": "error",
     "traceback": [
      "\u001b[0;31m---------------------------------------------------------------------------\u001b[0m",
      "\u001b[0;31mIndexError\u001b[0m                                Traceback (most recent call last)",
      "\u001b[0;32m/tmp/ipykernel_76198/1690398879.py\u001b[0m in \u001b[0;36m<module>\u001b[0;34m\u001b[0m\n\u001b[1;32m      1\u001b[0m \u001b[0mtemp\u001b[0m \u001b[0;34m=\u001b[0m \u001b[0mlist\u001b[0m\u001b[0;34m(\u001b[0m\u001b[0mzip\u001b[0m\u001b[0;34m(\u001b[0m\u001b[0;34m*\u001b[0m\u001b[0mTestDf\u001b[0m\u001b[0;34m[\u001b[0m\u001b[0;34m'text'\u001b[0m\u001b[0;34m]\u001b[0m\u001b[0;34m.\u001b[0m\u001b[0mmap\u001b[0m\u001b[0;34m(\u001b[0m\u001b[0mnat_parse\u001b[0m\u001b[0;34m)\u001b[0m\u001b[0;34m)\u001b[0m\u001b[0;34m)\u001b[0m\u001b[0;34m\u001b[0m\u001b[0;34m\u001b[0m\u001b[0m\n\u001b[1;32m      2\u001b[0m \u001b[0;32mfor\u001b[0m \u001b[0mi\u001b[0m\u001b[0;34m,\u001b[0m \u001b[0mc\u001b[0m \u001b[0;32min\u001b[0m \u001b[0menumerate\u001b[0m\u001b[0;34m(\u001b[0m\u001b[0mcolumns\u001b[0m\u001b[0;34m)\u001b[0m\u001b[0;34m:\u001b[0m\u001b[0;34m\u001b[0m\u001b[0;34m\u001b[0m\u001b[0m\n\u001b[0;32m----> 3\u001b[0;31m     \u001b[0mTestDf\u001b[0m\u001b[0;34m[\u001b[0m\u001b[0mc\u001b[0m\u001b[0;34m]\u001b[0m \u001b[0;34m=\u001b[0m \u001b[0mtemp\u001b[0m\u001b[0;34m[\u001b[0m\u001b[0mi\u001b[0m\u001b[0;34m]\u001b[0m\u001b[0;34m\u001b[0m\u001b[0;34m\u001b[0m\u001b[0m\n\u001b[0m",
      "\u001b[0;31mIndexError\u001b[0m: list index out of range"
     ]
    }
   ],
   "source": [
    "temp = list(zip(*TestDf['text'].map(nat_parse)))\n",
    "for i, c in enumerate(columns): \n",
    "    TestDf[c] = temp[i]"
   ]
  },
  {
   "cell_type": "code",
   "execution_count": 257,
   "id": "c99ca9b4-97a2-40be-8055-9ad002b2eb9b",
   "metadata": {},
   "outputs": [
    {
     "data": {
      "text/html": [
       "<div>\n",
       "<style scoped>\n",
       "    .dataframe tbody tr th:only-of-type {\n",
       "        vertical-align: middle;\n",
       "    }\n",
       "\n",
       "    .dataframe tbody tr th {\n",
       "        vertical-align: top;\n",
       "    }\n",
       "\n",
       "    .dataframe thead th {\n",
       "        text-align: right;\n",
       "    }\n",
       "</style>\n",
       "<table border=\"1\" class=\"dataframe\">\n",
       "  <thead>\n",
       "    <tr style=\"text-align: right;\">\n",
       "      <th></th>\n",
       "      <th>text</th>\n",
       "      <th>token_num</th>\n",
       "      <th>start</th>\n",
       "      <th>stop</th>\n",
       "      <th>token_id</th>\n",
       "      <th>head_id</th>\n",
       "      <th>rel</th>\n",
       "      <th>pos</th>\n",
       "      <th>lemma</th>\n",
       "      <th>anim</th>\n",
       "      <th>aspect</th>\n",
       "      <th>case</th>\n",
       "      <th>degree</th>\n",
       "      <th>gender</th>\n",
       "      <th>mood</th>\n",
       "      <th>number</th>\n",
       "      <th>person</th>\n",
       "      <th>tense</th>\n",
       "      <th>verb_form</th>\n",
       "    </tr>\n",
       "    <tr>\n",
       "      <th>v_id</th>\n",
       "      <th></th>\n",
       "      <th></th>\n",
       "      <th></th>\n",
       "      <th></th>\n",
       "      <th></th>\n",
       "      <th></th>\n",
       "      <th></th>\n",
       "      <th></th>\n",
       "      <th></th>\n",
       "      <th></th>\n",
       "      <th></th>\n",
       "      <th></th>\n",
       "      <th></th>\n",
       "      <th></th>\n",
       "      <th></th>\n",
       "      <th></th>\n",
       "      <th></th>\n",
       "      <th></th>\n",
       "      <th></th>\n",
       "    </tr>\n",
       "  </thead>\n",
       "  <tbody>\n",
       "    <tr>\n",
       "      <th>0</th>\n",
       "      <td>землю</td>\n",
       "      <td>6</td>\n",
       "      <td>29</td>\n",
       "      <td>34</td>\n",
       "      <td>1_7</td>\n",
       "      <td>1_5</td>\n",
       "      <td>conj</td>\n",
       "      <td>NOUN</td>\n",
       "      <td>земля</td>\n",
       "      <td>Inan</td>\n",
       "      <td>Acc</td>\n",
       "      <td>None</td>\n",
       "      <td>Fem</td>\n",
       "      <td>None</td>\n",
       "      <td>Sing</td>\n",
       "      <td>None</td>\n",
       "      <td>None</td>\n",
       "      <td>None</td>\n",
       "      <td>None</td>\n",
       "    </tr>\n",
       "    <tr>\n",
       "      <th>1</th>\n",
       "      <td>водою</td>\n",
       "      <td>15</td>\n",
       "      <td>76</td>\n",
       "      <td>81</td>\n",
       "      <td>1_18</td>\n",
       "      <td>1_16</td>\n",
       "      <td>obl</td>\n",
       "      <td>NOUN</td>\n",
       "      <td>вода</td>\n",
       "      <td>Inan</td>\n",
       "      <td>Ins</td>\n",
       "      <td>None</td>\n",
       "      <td>Masc</td>\n",
       "      <td>None</td>\n",
       "      <td>Plur</td>\n",
       "      <td>None</td>\n",
       "      <td>None</td>\n",
       "      <td>None</td>\n",
       "      <td>None</td>\n",
       "    </tr>\n",
       "    <tr>\n",
       "      <th>2</th>\n",
       "      <td>свет</td>\n",
       "      <td>2</td>\n",
       "      <td>36</td>\n",
       "      <td>40</td>\n",
       "      <td>2_3</td>\n",
       "      <td>2_2</td>\n",
       "      <td>nsubj</td>\n",
       "      <td>NOUN</td>\n",
       "      <td>свет</td>\n",
       "      <td>Inan</td>\n",
       "      <td>Nom</td>\n",
       "      <td>None</td>\n",
       "      <td>Masc</td>\n",
       "      <td>None</td>\n",
       "      <td>Sing</td>\n",
       "      <td>None</td>\n",
       "      <td>None</td>\n",
       "      <td>None</td>\n",
       "      <td>None</td>\n",
       "    </tr>\n",
       "    <tr>\n",
       "      <th>3</th>\n",
       "      <td>тьмы</td>\n",
       "      <td>12</td>\n",
       "      <td>55</td>\n",
       "      <td>59</td>\n",
       "      <td>1_15</td>\n",
       "      <td>1_11</td>\n",
       "      <td>obl</td>\n",
       "      <td>NOUN</td>\n",
       "      <td>тьма</td>\n",
       "      <td>Inan</td>\n",
       "      <td>Gen</td>\n",
       "      <td>None</td>\n",
       "      <td>Fem</td>\n",
       "      <td>None</td>\n",
       "      <td>Sing</td>\n",
       "      <td>None</td>\n",
       "      <td>None</td>\n",
       "      <td>None</td>\n",
       "      <td>None</td>\n",
       "    </tr>\n",
       "    <tr>\n",
       "      <th>4</th>\n",
       "      <td>один</td>\n",
       "      <td>7</td>\n",
       "      <td>69</td>\n",
       "      <td>73</td>\n",
       "      <td>2_10</td>\n",
       "      <td>2_7</td>\n",
       "      <td>parataxis</td>\n",
       "      <td>NUM</td>\n",
       "      <td>один</td>\n",
       "      <td>None</td>\n",
       "      <td>Nom</td>\n",
       "      <td>None</td>\n",
       "      <td>Masc</td>\n",
       "      <td>None</td>\n",
       "      <td>Sing</td>\n",
       "      <td>None</td>\n",
       "      <td>None</td>\n",
       "      <td>None</td>\n",
       "      <td>None</td>\n",
       "    </tr>\n",
       "    <tr>\n",
       "      <th>...</th>\n",
       "      <td>...</td>\n",
       "      <td>...</td>\n",
       "      <td>...</td>\n",
       "      <td>...</td>\n",
       "      <td>...</td>\n",
       "      <td>...</td>\n",
       "      <td>...</td>\n",
       "      <td>...</td>\n",
       "      <td>...</td>\n",
       "      <td>...</td>\n",
       "      <td>...</td>\n",
       "      <td>...</td>\n",
       "      <td>...</td>\n",
       "      <td>...</td>\n",
       "      <td>...</td>\n",
       "      <td>...</td>\n",
       "      <td>...</td>\n",
       "      <td>...</td>\n",
       "      <td>...</td>\n",
       "    </tr>\n",
       "    <tr>\n",
       "      <th>95</th>\n",
       "      <td>Едема</td>\n",
       "      <td>14</td>\n",
       "      <td>68</td>\n",
       "      <td>73</td>\n",
       "      <td>1_16</td>\n",
       "      <td>1_14</td>\n",
       "      <td>nmod</td>\n",
       "      <td>PROPN</td>\n",
       "      <td>едем</td>\n",
       "      <td>Anim</td>\n",
       "      <td>Gen</td>\n",
       "      <td>None</td>\n",
       "      <td>Masc</td>\n",
       "      <td>None</td>\n",
       "      <td>Sing</td>\n",
       "      <td>None</td>\n",
       "      <td>None</td>\n",
       "      <td>None</td>\n",
       "      <td>None</td>\n",
       "    </tr>\n",
       "    <tr>\n",
       "      <th>96</th>\n",
       "      <td>Енох</td>\n",
       "      <td>11</td>\n",
       "      <td>112</td>\n",
       "      <td>116</td>\n",
       "      <td>2_14</td>\n",
       "      <td>2_12</td>\n",
       "      <td>parataxis</td>\n",
       "      <td>PROPN</td>\n",
       "      <td>енох</td>\n",
       "      <td>Anim</td>\n",
       "      <td>Acc</td>\n",
       "      <td>None</td>\n",
       "      <td>Masc</td>\n",
       "      <td>None</td>\n",
       "      <td>Sing</td>\n",
       "      <td>None</td>\n",
       "      <td>None</td>\n",
       "      <td>None</td>\n",
       "      <td>None</td>\n",
       "    </tr>\n",
       "    <tr>\n",
       "      <th>97</th>\n",
       "      <td>Ламеха</td>\n",
       "      <td>2</td>\n",
       "      <td>61</td>\n",
       "      <td>67</td>\n",
       "      <td>3_3</td>\n",
       "      <td>3_2</td>\n",
       "      <td>obj</td>\n",
       "      <td>PROPN</td>\n",
       "      <td>ламех</td>\n",
       "      <td>Anim</td>\n",
       "      <td>Acc</td>\n",
       "      <td>None</td>\n",
       "      <td>Masc</td>\n",
       "      <td>None</td>\n",
       "      <td>Sing</td>\n",
       "      <td>None</td>\n",
       "      <td>None</td>\n",
       "      <td>None</td>\n",
       "      <td>None</td>\n",
       "    </tr>\n",
       "    <tr>\n",
       "      <th>98</th>\n",
       "      <td>Цилла</td>\n",
       "      <td>12</td>\n",
       "      <td>58</td>\n",
       "      <td>63</td>\n",
       "      <td>1_17</td>\n",
       "      <td>1_15</td>\n",
       "      <td>parataxis</td>\n",
       "      <td>PROPN</td>\n",
       "      <td>цилл</td>\n",
       "      <td>Anim</td>\n",
       "      <td>Nom</td>\n",
       "      <td>None</td>\n",
       "      <td>Masc</td>\n",
       "      <td>None</td>\n",
       "      <td>Sing</td>\n",
       "      <td>None</td>\n",
       "      <td>None</td>\n",
       "      <td>None</td>\n",
       "      <td>None</td>\n",
       "    </tr>\n",
       "    <tr>\n",
       "      <th>99</th>\n",
       "      <td>стадами</td>\n",
       "      <td>10</td>\n",
       "      <td>51</td>\n",
       "      <td>58</td>\n",
       "      <td>1_12</td>\n",
       "      <td>1_10</td>\n",
       "      <td>nmod</td>\n",
       "      <td>NOUN</td>\n",
       "      <td>стадо</td>\n",
       "      <td>Inan</td>\n",
       "      <td>Ins</td>\n",
       "      <td>None</td>\n",
       "      <td>Masc</td>\n",
       "      <td>None</td>\n",
       "      <td>Plur</td>\n",
       "      <td>None</td>\n",
       "      <td>None</td>\n",
       "      <td>None</td>\n",
       "      <td>None</td>\n",
       "    </tr>\n",
       "  </tbody>\n",
       "</table>\n",
       "<p>100 rows × 19 columns</p>\n",
       "</div>"
      ],
      "text/plain": [
       "         text  token_num  start  stop token_id head_id        rel    pos  \\\n",
       "v_id                                                                       \n",
       "0       землю          6     29    34      1_7     1_5       conj   NOUN   \n",
       "1       водою         15     76    81     1_18    1_16        obl   NOUN   \n",
       "2        свет          2     36    40      2_3     2_2      nsubj   NOUN   \n",
       "3        тьмы         12     55    59     1_15    1_11        obl   NOUN   \n",
       "4        один          7     69    73     2_10     2_7  parataxis    NUM   \n",
       "...       ...        ...    ...   ...      ...     ...        ...    ...   \n",
       "95      Едема         14     68    73     1_16    1_14       nmod  PROPN   \n",
       "96       Енох         11    112   116     2_14    2_12  parataxis  PROPN   \n",
       "97     Ламеха          2     61    67      3_3     3_2        obj  PROPN   \n",
       "98      Цилла         12     58    63     1_17    1_15  parataxis  PROPN   \n",
       "99    стадами         10     51    58     1_12    1_10       nmod   NOUN   \n",
       "\n",
       "      lemma  anim aspect  case degree gender  mood number person tense  \\\n",
       "v_id                                                                     \n",
       "0     земля  Inan    Acc  None    Fem   None  Sing   None   None  None   \n",
       "1      вода  Inan    Ins  None   Masc   None  Plur   None   None  None   \n",
       "2      свет  Inan    Nom  None   Masc   None  Sing   None   None  None   \n",
       "3      тьма  Inan    Gen  None    Fem   None  Sing   None   None  None   \n",
       "4      один  None    Nom  None   Masc   None  Sing   None   None  None   \n",
       "...     ...   ...    ...   ...    ...    ...   ...    ...    ...   ...   \n",
       "95     едем  Anim    Gen  None   Masc   None  Sing   None   None  None   \n",
       "96     енох  Anim    Acc  None   Masc   None  Sing   None   None  None   \n",
       "97    ламех  Anim    Acc  None   Masc   None  Sing   None   None  None   \n",
       "98     цилл  Anim    Nom  None   Masc   None  Sing   None   None  None   \n",
       "99    стадо  Inan    Ins  None   Masc   None  Plur   None   None  None   \n",
       "\n",
       "     verb_form  \n",
       "v_id            \n",
       "0         None  \n",
       "1         None  \n",
       "2         None  \n",
       "3         None  \n",
       "4         None  \n",
       "...        ...  \n",
       "95        None  \n",
       "96        None  \n",
       "97        None  \n",
       "98        None  \n",
       "99        None  \n",
       "\n",
       "[100 rows x 19 columns]"
      ]
     },
     "execution_count": 257,
     "metadata": {},
     "output_type": "execute_result"
    }
   ],
   "source": [
    "TestDf"
   ]
  },
  {
   "cell_type": "code",
   "execution_count": null,
   "id": "5c066046-4418-408b-96a1-6efbd4d3c0e5",
   "metadata": {},
   "outputs": [],
   "source": [
    "doc = Doc(BibTextDf.loc[4].text)"
   ]
  },
  {
   "cell_type": "code",
   "execution_count": null,
   "id": "f26b8424-f6db-4fc5-a191-5fa4b321b7e1",
   "metadata": {},
   "outputs": [],
   "source": [
    "doc"
   ]
  },
  {
   "cell_type": "code",
   "execution_count": null,
   "id": "5726cf72-beb8-4308-a646-9c322d2e2fa6",
   "metadata": {},
   "outputs": [],
   "source": [
    "doc.segment(segmenter)"
   ]
  },
  {
   "cell_type": "code",
   "execution_count": null,
   "id": "4b18488c-b42d-40e6-b083-912e35ae02a3",
   "metadata": {},
   "outputs": [],
   "source": [
    "doc"
   ]
  },
  {
   "cell_type": "code",
   "execution_count": null,
   "id": "3c9935d7-3d3a-411b-bcb9-6986023e0cf7",
   "metadata": {},
   "outputs": [],
   "source": [
    "doc.tokens"
   ]
  },
  {
   "cell_type": "code",
   "execution_count": null,
   "id": "acee112d-e74d-4425-ab67-16287ab3b371",
   "metadata": {},
   "outputs": [],
   "source": [
    "doc.sents"
   ]
  },
  {
   "cell_type": "code",
   "execution_count": null,
   "id": "d9be2d67-60dc-4709-8e1a-584d55b15569",
   "metadata": {},
   "outputs": [],
   "source": [
    "doc.sents[0].tokens"
   ]
  },
  {
   "cell_type": "code",
   "execution_count": null,
   "id": "e38b8917-38cd-4b9c-b767-6907b0bfb071",
   "metadata": {},
   "outputs": [],
   "source": [
    "doc.tag_morph(morph_tagger)"
   ]
  },
  {
   "cell_type": "code",
   "execution_count": null,
   "id": "d6df8a86-9f72-4b8d-8259-a4caa20ec6a1",
   "metadata": {},
   "outputs": [],
   "source": [
    "doc.tokens"
   ]
  },
  {
   "cell_type": "code",
   "execution_count": null,
   "id": "a7f5201b-952e-49f8-a88f-e555993c8642",
   "metadata": {},
   "outputs": [],
   "source": [
    "doc.tokens[1].feats['Aspect']"
   ]
  },
  {
   "cell_type": "code",
   "execution_count": null,
   "id": "fd531df9-079f-4a87-99d0-73f9b71e1c9b",
   "metadata": {},
   "outputs": [],
   "source": [
    "doc.sents[0].morph.print()"
   ]
  },
  {
   "cell_type": "code",
   "execution_count": null,
   "id": "d60afe88-683c-49ab-9d8b-3b8e3cdc206d",
   "metadata": {},
   "outputs": [],
   "source": [
    "[token.lemmatize(morph_vocab) for token in doc.tokens]"
   ]
  },
  {
   "cell_type": "code",
   "execution_count": null,
   "id": "30d6e0e5-db21-46ef-940e-ae01a7baf7cc",
   "metadata": {},
   "outputs": [],
   "source": [
    "doc.parse_syntax(syntax_parser)"
   ]
  },
  {
   "cell_type": "code",
   "execution_count": null,
   "id": "81a4fb87-0c66-4a96-b790-ed5fb9b2b791",
   "metadata": {},
   "outputs": [],
   "source": [
    "doc.tokens"
   ]
  },
  {
   "cell_type": "code",
   "execution_count": null,
   "id": "ef6cd8c4-dc58-4329-b919-aa851a9a026a",
   "metadata": {},
   "outputs": [],
   "source": [
    "doc.sents[0].syntax.print()"
   ]
  },
  {
   "cell_type": "code",
   "execution_count": null,
   "id": "60010681-baa2-4a3f-8482-d44bb22e4829",
   "metadata": {},
   "outputs": [],
   "source": [
    "doc.tag_ner(ner_tagger)"
   ]
  },
  {
   "cell_type": "code",
   "execution_count": null,
   "id": "153558ee-2cb4-407c-be22-bbe5147d167e",
   "metadata": {},
   "outputs": [],
   "source": [
    "doc.spans"
   ]
  },
  {
   "cell_type": "code",
   "execution_count": null,
   "id": "1195d59b-135c-4e86-830f-825b4075b349",
   "metadata": {},
   "outputs": [],
   "source": [
    "doc.ner"
   ]
  },
  {
   "cell_type": "code",
   "execution_count": null,
   "id": "d79b7c45-d13a-4572-9c7e-e8484e04babc",
   "metadata": {},
   "outputs": [],
   "source": [
    "doc.ner.print()"
   ]
  },
  {
   "cell_type": "code",
   "execution_count": null,
   "id": "30e95144-1991-4053-9d58-2188f097290c",
   "metadata": {},
   "outputs": [],
   "source": [
    "dir(doc)"
   ]
  }
 ],
 "metadata": {
  "kernelspec": {
   "display_name": "Python 3 (ipykernel)",
   "language": "python",
   "name": "python3"
  },
  "language_info": {
   "codemirror_mode": {
    "name": "ipython",
    "version": 3
   },
   "file_extension": ".py",
   "mimetype": "text/x-python",
   "name": "python",
   "nbconvert_exporter": "python",
   "pygments_lexer": "ipython3",
   "version": "3.9.5"
  }
 },
 "nbformat": 4,
 "nbformat_minor": 5
}
