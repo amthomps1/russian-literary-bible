{
 "cells": [
  {
   "cell_type": "markdown",
   "id": "b72eaf11-1cdd-4065-8727-b1e8c1f25022",
   "metadata": {},
   "source": [
    "# Russian Synodal Bible (1885)"
   ]
  },
  {
   "cell_type": "markdown",
   "id": "2ca910a8-a16a-4133-b377-a6de4221ab82",
   "metadata": {},
   "source": [
    "## Import"
   ]
  },
  {
   "cell_type": "markdown",
   "id": "f87d80a5-fa3a-4149-aa4f-8c2456c9e25c",
   "metadata": {},
   "source": [
    "### Libraries"
   ]
  },
  {
   "cell_type": "code",
   "execution_count": 1,
   "id": "1122fa31-c7f7-4d78-909c-266e5d4979cf",
   "metadata": {},
   "outputs": [],
   "source": [
    "import os\n",
    "import re\n",
    "import json\n",
    "import time\n",
    "import numpy as np\n",
    "import pandas as pd \n",
    "from lxml import etree\n",
    "import natasha\n",
    "from natasha import Segmenter, MorphVocab, NewsEmbedding, NewsMorphTagger, NewsSyntaxParser, NewsNERTagger, PER, NamesExtractor, Doc\n",
    "#from bs4 import BeautifulSoup\n",
    "#import requests"
   ]
  },
  {
   "cell_type": "code",
   "execution_count": 2,
   "id": "f4f794ac-8f0c-4ede-92c3-84ba59913da7",
   "metadata": {},
   "outputs": [],
   "source": [
    "segmenter = Segmenter()\n",
    "morph_vocab = MorphVocab()\n",
    "emb = NewsEmbedding()\n",
    "morph_tagger = NewsMorphTagger(emb)\n",
    "syntax_parser = NewsSyntaxParser(emb)\n",
    "ner_tagger = NewsNERTagger(emb)\n",
    "names_extractor = NamesExtractor(morph_vocab)"
   ]
  },
  {
   "cell_type": "markdown",
   "id": "6c5d907e-05ce-4045-b8fa-4b34c4cff418",
   "metadata": {},
   "source": [
    "### Definitions"
   ]
  },
  {
   "cell_type": "code",
   "execution_count": 53,
   "id": "5eaca43d-292a-44e3-b86b-0dc6af9499d6",
   "metadata": {},
   "outputs": [],
   "source": [
    "texts = './texts/fiction/'\n",
    "bibleTXT = './texts/bible/sinodalnyi-perevod.txt'\n",
    "libCols = ['author','pub_year','title','text']\n",
    "tokenOHCO = ['title','part_num','para_num', 'sent_num', 'token_num']\n",
    "bibleOHCO = ['test', 'book', 'chap', 'verse']\n",
    "bibleJSON = './texts/bible/bible.json'\n",
    "bibleXML = './texts/bible/bible.xml'\n",
    "tokenCols = ['v_id', 'token_num', 'start', 'stop', 'text', 'token_id', 'head_id', 'rel', 'pos', 'lemma', 'anim', 'aspect', 'aspect', 'case', 'degree', 'gender', 'mood', 'number', 'person', 'tense', 'verb_form', 'voice']"
   ]
  },
  {
   "cell_type": "raw",
   "id": "61ebb50d-afc8-4e47-aec4-4a8898973448",
   "metadata": {
    "jupyter": {
     "source_hidden": true
    },
    "tags": []
   },
   "source": [
    "%%time\n",
    "with requests.get(\"https://ru.wikipedia.org/wiki/Книги_Библии\") as r: \n",
    "    if r.status_code == 200: \n",
    "        s = BeautifulSoup(r.content, 'html.parser')\n",
    "    else: \n",
    "        print(r.status_code)\n",
    "\n",
    "n=0\n",
    "booksDict = {}\n",
    "\n",
    "for book_row in s.find_all('table')[1].find_all('tr')[2:]: \n",
    "    try: \n",
    "        bookDict = {\n",
    "            \"rus_name\": book_row.find('td').text,\n",
    "            #\"lat_name\": book_row.find_all('td')[1].text,\n",
    "            \"eng_name\": book_row.find_all('td')[2].text,\n",
    "            #\"gre_name\": book_row.find_all('td')[3].text,\n",
    "            \"rus_abbr\": re.search(r'\\w+', book_row.find_all('td')[4].text).group(),\n",
    "            \"eng_abbr\": book_row.find_all('td')[5].text\n",
    "        }\n",
    "        booksDict.update({n: bookDict})\n",
    "        n+=1\n",
    "    except: \n",
    "        pass\n",
    "\n",
    "for book_row in s.find_all('table')[2].find_all('tr')[2:]: \n",
    "    if book_row.find('td').find('a').text != 'Четвёртая книга Маккавейская':\n",
    "        bookDict = {\n",
    "            \"rus_name\": book_row.find('td').find('a').text,\n",
    "            #\"lat_name\": book_row.find_all('td')[3].text,\n",
    "            \"eng_name\": book_row.find_all('td')[4].text.replace('\\n','')\n",
    "        }\n",
    "        booksDict.update({n: bookDict})\n",
    "        n+=1\n",
    "        \n",
    "for book_row in s.find_all('table')[3].find_all('tr')[2:]: \n",
    "    bookDict = {\n",
    "        \"rus_name\": book_row.find('td').find('a').text,\n",
    "        #\"lat_name\": book_row.find_all('td')[3].text,\n",
    "        \"eng_name\": book_row.find_all('td')[4].text.replace('\\n',''),\n",
    "        #print(f\"rus_abbr: {book_row.find_all('td')[5].text}\"),\n",
    "        #print(f\"eng_abbr: {book_row.find_all('td')[6].text}\"),\n",
    "        \"rus_abbr\": re.search(r'^\\d?\\s?\\w+', book_row.find_all('td')[5].text).group(),\n",
    "        \"eng_abbr\": re.search(r'^\\d?\\s?\\w+', book_row.find_all('td')[6].text).group()\n",
    "    }\n",
    "    booksDict.update({n: bookDict})\n",
    "    n+=1\n",
    "#print(booksDict)"
   ]
  },
  {
   "cell_type": "markdown",
   "id": "ad9f9f93-73ef-4324-a6d9-ab4e0e423105",
   "metadata": {
    "tags": []
   },
   "source": [
    "## Pre-Processing"
   ]
  },
  {
   "cell_type": "markdown",
   "id": "d9e118f9-828e-4693-9fbb-e7d96063dd7e",
   "metadata": {
    "tags": []
   },
   "source": [
    "### Import Text into DF"
   ]
  },
  {
   "cell_type": "code",
   "execution_count": 122,
   "id": "1373ecfa-4d59-483a-a7f5-5eb43435c4ea",
   "metadata": {
    "tags": []
   },
   "outputs": [
    {
     "data": {
      "text/html": [
       "<div>\n",
       "<style scoped>\n",
       "    .dataframe tbody tr th:only-of-type {\n",
       "        vertical-align: middle;\n",
       "    }\n",
       "\n",
       "    .dataframe tbody tr th {\n",
       "        vertical-align: top;\n",
       "    }\n",
       "\n",
       "    .dataframe thead th {\n",
       "        text-align: right;\n",
       "    }\n",
       "</style>\n",
       "<table border=\"1\" class=\"dataframe\">\n",
       "  <thead>\n",
       "    <tr style=\"text-align: right;\">\n",
       "      <th></th>\n",
       "      <th>text</th>\n",
       "    </tr>\n",
       "  </thead>\n",
       "  <tbody>\n",
       "    <tr>\n",
       "      <th>0</th>\n",
       "      <td></td>\n",
       "    </tr>\n",
       "    <tr>\n",
       "      <th>1</th>\n",
       "      <td>== Бытие ==</td>\n",
       "    </tr>\n",
       "    <tr>\n",
       "      <th>2</th>\n",
       "      <td></td>\n",
       "    </tr>\n",
       "    <tr>\n",
       "      <th>3</th>\n",
       "      <td>=== 1 ===</td>\n",
       "    </tr>\n",
       "    <tr>\n",
       "      <th>4</th>\n",
       "      <td></td>\n",
       "    </tr>\n",
       "    <tr>\n",
       "      <th>...</th>\n",
       "      <td>...</td>\n",
       "    </tr>\n",
       "    <tr>\n",
       "      <th>41458</th>\n",
       "      <td>17 И Дух и невеста говорят: прииди! И слышавши...</td>\n",
       "    </tr>\n",
       "    <tr>\n",
       "      <th>41459</th>\n",
       "      <td>18 И я также свидетельствую всякому слышащему ...</td>\n",
       "    </tr>\n",
       "    <tr>\n",
       "      <th>41460</th>\n",
       "      <td>19 и если кто отнимет что от слов книги пророч...</td>\n",
       "    </tr>\n",
       "    <tr>\n",
       "      <th>41461</th>\n",
       "      <td>20 Свидетельствующий сие говорит: ей, гряду ск...</td>\n",
       "    </tr>\n",
       "    <tr>\n",
       "      <th>41462</th>\n",
       "      <td>21 Благодать Господа нашего Иисуса Христа со в...</td>\n",
       "    </tr>\n",
       "  </tbody>\n",
       "</table>\n",
       "<p>41463 rows × 1 columns</p>\n",
       "</div>"
      ],
      "text/plain": [
       "                                                    text\n",
       "0                                                       \n",
       "1                                            == Бытие ==\n",
       "2                                                       \n",
       "3                                              === 1 ===\n",
       "4                                                       \n",
       "...                                                  ...\n",
       "41458  17 И Дух и невеста говорят: прииди! И слышавши...\n",
       "41459  18 И я также свидетельствую всякому слышащему ...\n",
       "41460  19 и если кто отнимет что от слов книги пророч...\n",
       "41461  20 Свидетельствующий сие говорит: ей, гряду ск...\n",
       "41462  21 Благодать Господа нашего Иисуса Христа со в...\n",
       "\n",
       "[41463 rows x 1 columns]"
      ]
     },
     "execution_count": 122,
     "metadata": {},
     "output_type": "execute_result"
    }
   ],
   "source": [
    "with open(bibleTXT, 'r', encoding='windows-1251') as f: \n",
    "    bibleText = f.readlines()\n",
    "\n",
    "bibliiaDf = pd.DataFrame(bibleText).rename(columns={0:'text'}).dropna()\n",
    "bibliiaDf"
   ]
  },
  {
   "cell_type": "markdown",
   "id": "cefd4378-cf17-4bd5-adb5-255b96cf1668",
   "metadata": {
    "tags": []
   },
   "source": [
    "### Find Parts"
   ]
  },
  {
   "cell_type": "raw",
   "id": "9e019552-fff7-45e1-bd27-3d0b42ad984d",
   "metadata": {
    "tags": []
   },
   "source": [
    "cont_line = bibliiaDf.loc[bibliiaDf.text.str.contains('Оглавление')].index[0]\n",
    "OT_line = bibliiaDf.loc[bibliiaDf.text.str.contains('Книги Ветхого Завета')].index[0]\n",
    "NT_line = bibliiaDf.loc[bibliiaDf.text.str.contains('Книги Нового Завета')].index[0]\n",
    "end_line = bibliiaDf.loc[bibliiaDf.text.str.contains('notes')].index[0]\n",
    "vz_line = bibliiaDf.loc[bibliiaDf.text.str.contains('Ветхий Завет')].index[0]\n",
    "nz_line = bibliiaDf.loc[bibliiaDf.text.str.contains('Новый Завет')].index[0]"
   ]
  },
  {
   "cell_type": "code",
   "execution_count": 123,
   "id": "52d3d00b-ec89-431f-848b-75aab83645fb",
   "metadata": {
    "tags": []
   },
   "outputs": [],
   "source": [
    "chap_lines = bibliiaDf.loc[bibliiaDf.text.str.contains('^===\\s\\d{1,3}\\s===$')]\n",
    "book_lines = bibliiaDf.loc[bibliiaDf.text.str.contains('^==\\s.+\\s==$')]"
   ]
  },
  {
   "cell_type": "markdown",
   "id": "984f7ddc-f346-4b0a-8687-2aa8ee06f6a5",
   "metadata": {
    "tags": []
   },
   "source": [
    "### Tidy Up"
   ]
  },
  {
   "cell_type": "code",
   "execution_count": 137,
   "id": "56541bfe-344f-4928-aa70-bea85f7c66c6",
   "metadata": {
    "tags": []
   },
   "outputs": [
    {
     "name": "stderr",
     "output_type": "stream",
     "text": [
      "/tmp/ipykernel_253881/185640697.py:2: FutureWarning: The default value of regex will change from True to False in a future version.\n",
      "  bibliiaDf.loc[:,'text'] = bibliiaDf.loc[:,'text'].str.replace(r'\\n', '')\n",
      "/tmp/ipykernel_253881/185640697.py:3: FutureWarning: The default value of regex will change from True to False in a future version.\n",
      "  bibliiaDf.loc[:,'text'] = bibliiaDf.loc[:,'text'].str.replace('\\]|\\[|_|-|', '')\n"
     ]
    },
    {
     "data": {
      "text/html": [
       "<div>\n",
       "<style scoped>\n",
       "    .dataframe tbody tr th:only-of-type {\n",
       "        vertical-align: middle;\n",
       "    }\n",
       "\n",
       "    .dataframe tbody tr th {\n",
       "        vertical-align: top;\n",
       "    }\n",
       "\n",
       "    .dataframe thead th {\n",
       "        text-align: right;\n",
       "    }\n",
       "</style>\n",
       "<table border=\"1\" class=\"dataframe\">\n",
       "  <thead>\n",
       "    <tr style=\"text-align: right;\">\n",
       "      <th></th>\n",
       "      <th>text</th>\n",
       "    </tr>\n",
       "  </thead>\n",
       "  <tbody>\n",
       "    <tr>\n",
       "      <th>1</th>\n",
       "      <td>== Бытие ==</td>\n",
       "    </tr>\n",
       "    <tr>\n",
       "      <th>3</th>\n",
       "      <td>=== 1 ===</td>\n",
       "    </tr>\n",
       "    <tr>\n",
       "      <th>5</th>\n",
       "      <td>1 В начале сотворил Бог небо и землю.</td>\n",
       "    </tr>\n",
       "    <tr>\n",
       "      <th>6</th>\n",
       "      <td>2 Земля же была безвидна и пуста, и тьма над б...</td>\n",
       "    </tr>\n",
       "    <tr>\n",
       "      <th>7</th>\n",
       "      <td>3 И сказал Бог: да будет свет. И стал свет.</td>\n",
       "    </tr>\n",
       "    <tr>\n",
       "      <th>...</th>\n",
       "      <td>...</td>\n",
       "    </tr>\n",
       "    <tr>\n",
       "      <th>41458</th>\n",
       "      <td>17 И Дух и невеста говорят: прииди! И слышавши...</td>\n",
       "    </tr>\n",
       "    <tr>\n",
       "      <th>41459</th>\n",
       "      <td>18 И я также свидетельствую всякому слышащему ...</td>\n",
       "    </tr>\n",
       "    <tr>\n",
       "      <th>41460</th>\n",
       "      <td>19 и если кто отнимет что от слов книги пророч...</td>\n",
       "    </tr>\n",
       "    <tr>\n",
       "      <th>41461</th>\n",
       "      <td>20 Свидетельствующий сие говорит: ей, гряду ск...</td>\n",
       "    </tr>\n",
       "    <tr>\n",
       "      <th>41462</th>\n",
       "      <td>21 Благодать Господа нашего Иисуса Христа со в...</td>\n",
       "    </tr>\n",
       "  </tbody>\n",
       "</table>\n",
       "<p>38623 rows × 1 columns</p>\n",
       "</div>"
      ],
      "text/plain": [
       "                                                    text\n",
       "1                                            == Бытие ==\n",
       "3                                              === 1 ===\n",
       "5                  1 В начале сотворил Бог небо и землю.\n",
       "6      2 Земля же была безвидна и пуста, и тьма над б...\n",
       "7            3 И сказал Бог: да будет свет. И стал свет.\n",
       "...                                                  ...\n",
       "41458  17 И Дух и невеста говорят: прииди! И слышавши...\n",
       "41459  18 И я также свидетельствую всякому слышащему ...\n",
       "41460  19 и если кто отнимет что от слов книги пророч...\n",
       "41461  20 Свидетельствующий сие говорит: ей, гряду ск...\n",
       "41462  21 Благодать Господа нашего Иисуса Христа со в...\n",
       "\n",
       "[38623 rows x 1 columns]"
      ]
     },
     "execution_count": 137,
     "metadata": {},
     "output_type": "execute_result"
    }
   ],
   "source": [
    "bibliiaDf = bibliiaDf.loc[bibliiaDf.text != '']\n",
    "bibliiaDf.loc[:,'text'] = bibliiaDf.loc[:,'text'].str.replace(r'\\n', '')\n",
    "bibliiaDf.loc[:,'text'] = bibliiaDf.loc[:,'text'].str.replace('\\]|\\[|_|-|', '')\n",
    "bibliiaDf"
   ]
  },
  {
   "cell_type": "markdown",
   "id": "a9ae56a9-74d1-44b2-bc76-697264bac263",
   "metadata": {
    "tags": []
   },
   "source": [
    "### Make Dict of Outline"
   ]
  },
  {
   "cell_type": "markdown",
   "id": "caff2169-aff1-4717-a559-a935c2b6e0a7",
   "metadata": {
    "tags": []
   },
   "source": [
    "{Testament: {Book: abbr}}"
   ]
  },
  {
   "cell_type": "code",
   "execution_count": 139,
   "id": "a5a6c3f2-e671-4d8c-a085-f0f4cd5ac6eb",
   "metadata": {},
   "outputs": [
    {
     "data": {
      "text/html": [
       "<div>\n",
       "<style scoped>\n",
       "    .dataframe tbody tr th:only-of-type {\n",
       "        vertical-align: middle;\n",
       "    }\n",
       "\n",
       "    .dataframe tbody tr th {\n",
       "        vertical-align: top;\n",
       "    }\n",
       "\n",
       "    .dataframe thead th {\n",
       "        text-align: right;\n",
       "    }\n",
       "</style>\n",
       "<table border=\"1\" class=\"dataframe\">\n",
       "  <thead>\n",
       "    <tr style=\"text-align: right;\">\n",
       "      <th></th>\n",
       "      <th>text</th>\n",
       "    </tr>\n",
       "  </thead>\n",
       "  <tbody>\n",
       "    <tr>\n",
       "      <th>1</th>\n",
       "      <td>== Бытие ==</td>\n",
       "    </tr>\n",
       "    <tr>\n",
       "      <th>1685</th>\n",
       "      <td>== Исход ==</td>\n",
       "    </tr>\n",
       "    <tr>\n",
       "      <th>3021</th>\n",
       "      <td>== Левит ==</td>\n",
       "    </tr>\n",
       "    <tr>\n",
       "      <th>3962</th>\n",
       "      <td>== Числа ==</td>\n",
       "    </tr>\n",
       "    <tr>\n",
       "      <th>5360</th>\n",
       "      <td>== Второзаконие ==</td>\n",
       "    </tr>\n",
       "    <tr>\n",
       "      <th>...</th>\n",
       "      <td>...</td>\n",
       "    </tr>\n",
       "    <tr>\n",
       "      <th>40461</th>\n",
       "      <td>== Второе послание к Тимофею святого апостола ...</td>\n",
       "    </tr>\n",
       "    <tr>\n",
       "      <th>40559</th>\n",
       "      <td>== Послание к Титу святого апостола Павла ==</td>\n",
       "    </tr>\n",
       "    <tr>\n",
       "      <th>40617</th>\n",
       "      <td>== Послание к Филимону святого апостола Павла ==</td>\n",
       "    </tr>\n",
       "    <tr>\n",
       "      <th>40648</th>\n",
       "      <td>== Послание к Евреям святого апостола Павла ==</td>\n",
       "    </tr>\n",
       "    <tr>\n",
       "      <th>40992</th>\n",
       "      <td>== Откровение святого Иоанна Богослова ==</td>\n",
       "    </tr>\n",
       "  </tbody>\n",
       "</table>\n",
       "<p>77 rows × 1 columns</p>\n",
       "</div>"
      ],
      "text/plain": [
       "                                                    text\n",
       "1                                            == Бытие ==\n",
       "1685                                         == Исход ==\n",
       "3021                                         == Левит ==\n",
       "3962                                         == Числа ==\n",
       "5360                                  == Второзаконие ==\n",
       "...                                                  ...\n",
       "40461  == Второе послание к Тимофею святого апостола ...\n",
       "40559       == Послание к Титу святого апостола Павла ==\n",
       "40617   == Послание к Филимону святого апостола Павла ==\n",
       "40648     == Послание к Евреям святого апостола Павла ==\n",
       "40992          == Откровение святого Иоанна Богослова ==\n",
       "\n",
       "[77 rows x 1 columns]"
      ]
     },
     "execution_count": 139,
     "metadata": {},
     "output_type": "execute_result"
    }
   ],
   "source": [
    "book_lines"
   ]
  },
  {
   "cell_type": "code",
   "execution_count": null,
   "id": "b9a26cb2-d3bf-4f1c-83b0-221b4cd2b3f9",
   "metadata": {
    "tags": []
   },
   "outputs": [],
   "source": [
    "abbrevsDf = bibliiaDf.loc[vz_line+1:OT_line-1]\n",
    "abbrevsDf[['abbr', 'title']] = abbrevsDf.loc[:,'text'].str.extract(r'^(\\[.*\\]) (.*)$', expand=True)\n",
    "abbrevsDf = abbrevsDf.drop(['text'], axis=1)\n",
    "bibliiaDict = {\n",
    "    'Ветхий Завет': dict(zip(abbrevsDf.loc[vz_line+1:nz_line-1].title.str.strip(' '), abbrevsDf.loc[vz_line+1:nz_line-1].abbr.str.strip(r'[|]'))), \n",
    "    'Новый Завет': dict(zip(abbrevsDf.loc[nz_line+1:OT_line-1].title.str.strip(' '), abbrevsDf.loc[nz_line+1:OT_line-1].abbr.str.strip(r'[|]')))\n",
    "}\n",
    "del abbrevsDf"
   ]
  },
  {
   "cell_type": "markdown",
   "id": "e3eb85ea-66ec-426e-b609-91fd8c596df2",
   "metadata": {
    "tags": []
   },
   "source": [
    "### Assign Testament Label"
   ]
  },
  {
   "cell_type": "code",
   "execution_count": null,
   "id": "7471de4a-6327-4dd1-bd64-5e43013c171d",
   "metadata": {
    "tags": []
   },
   "outputs": [],
   "source": [
    "bibliiaDf = bibliiaDf.loc[OT_line+1:end_line-1]\n",
    "bibliiaDf['test'] = np.where(bibliiaDf.index<NT_line, 'OT', 'NT')\n",
    "bibliiaDf"
   ]
  },
  {
   "cell_type": "markdown",
   "id": "589358de-fb80-47b4-bef3-0b23935024b9",
   "metadata": {
    "tags": []
   },
   "source": [
    "### Index All Parts"
   ]
  },
  {
   "cell_type": "code",
   "execution_count": null,
   "id": "b270851f-a7f7-4c98-b83f-47539f0c0c3c",
   "metadata": {
    "tags": []
   },
   "outputs": [],
   "source": [
    "all_chaps = bibliiaDf.loc[bibliiaDf.text.str.contains(r'Глава \\d')]\n",
    "bibleBooks = [x for y in bibliiaDict.values() for x in y]\n",
    "bookAbbrs = [val[abbr] for key, val in bibliiaDict.items() for abbr in val]\n",
    "searchAbbrs = [r'^\\['+val[abbr]+'\\]' for key, val in bibliiaDict.items() for abbr in val]\n",
    "abbrsList = \"|\".join(searchAbbrs)\n",
    "books_index = bibliiaDf[bibliiaDf['text'].str.contains(abbrsList)].index\n",
    "books_map = list(zip(books_index, bookAbbrs))\n",
    "chaps_map = list(all_chaps.itertuples(name=None))"
   ]
  },
  {
   "cell_type": "markdown",
   "id": "d43181d6-d095-4b16-8b45-d34530b15899",
   "metadata": {
    "tags": []
   },
   "source": [
    "### Assign Book Label"
   ]
  },
  {
   "cell_type": "code",
   "execution_count": null,
   "id": "a2e36020-1c12-4515-89e3-d6f4458cc167",
   "metadata": {
    "tags": []
   },
   "outputs": [],
   "source": [
    "for ind in books_map: \n",
    "    bibliiaDf.loc[ind[0], 'book'] = ind[1]\n",
    "\n",
    "bibliiaDf['book'] = bibliiaDf.book.ffill()\n",
    "bibliiaDf = bibliiaDf.drop([x[0] for x in books_map])\n",
    "bibliiaDf"
   ]
  },
  {
   "cell_type": "markdown",
   "id": "865e0f2d-6c99-4bcf-90cb-405ea395a0d7",
   "metadata": {
    "tags": []
   },
   "source": [
    "### Assign Chapter & Verse Labels"
   ]
  },
  {
   "cell_type": "raw",
   "id": "c161f25a-b726-413c-a342-5d508e6df22f",
   "metadata": {
    "jupyter": {
     "source_hidden": true
    },
    "tags": []
   },
   "source": [
    "for ind in chaps_map: \n",
    "    bibliiaDf.loc[ind[0], 'chap'] = ind[1]\n",
    "    \n",
    "bibliiaDf['chap'] = bibliiaDf.chap.ffill()\n",
    "bibliiaDf = bibliiaDf.drop(x[0] for x in chaps_map)\n",
    "\n",
    "bibliiaDf['chap'] = bibliiaDf.chap.str.extract(r'(\\d{1,2})$')\n",
    "\n",
    "bibliiaDf['verse'] = bibliiaDf.groupby(bibleOHCO[:3]).cumcount()+1"
   ]
  },
  {
   "cell_type": "markdown",
   "id": "6e620844-5568-4dca-a070-fa947aed7bcf",
   "metadata": {
    "tags": []
   },
   "source": [
    "### Set Index & Remove Fluff"
   ]
  },
  {
   "cell_type": "raw",
   "id": "d68e7758-0bc0-4e97-b1cd-f53f2b1a44af",
   "metadata": {
    "jupyter": {
     "source_hidden": true
    },
    "tags": []
   },
   "source": [
    "bibliiaDf = bibliiaDf.set_index(bibleOHCO)\n",
    "\n",
    "bibliiaDf.loc[:,'text'] = bibliiaDf.loc[:,'text'].replace(r\"\\s\\[.+\\]\", \"\", regex=True)\n",
    "\n",
    "bibliiaDf"
   ]
  },
  {
   "cell_type": "markdown",
   "id": "2b193f64-4cd9-4776-8a07-c6a0bb7b2454",
   "metadata": {
    "tags": []
   },
   "source": [
    "### Export to JSON"
   ]
  },
  {
   "cell_type": "raw",
   "id": "1dd718ad-2cc8-42eb-b3a0-49b5e0d2083c",
   "metadata": {
    "tags": []
   },
   "source": [
    "bibliiaDf.reset_index()#.to_json(bibleJSON)"
   ]
  },
  {
   "cell_type": "markdown",
   "id": "893763a2-e5e8-448e-9d0d-4f930cba8097",
   "metadata": {},
   "source": [
    "### Make XML"
   ]
  },
  {
   "cell_type": "raw",
   "id": "f8d21a24-21f7-49ef-81a7-eb99f90c0934",
   "metadata": {},
   "source": [
    "bibliiaDf.reset_index().loc[:20].to_xml(index=True, root_name='bible', attr_cols=bibleOHCO, elem_cols=['text'])"
   ]
  },
  {
   "cell_type": "raw",
   "id": "7414b2c8-44f8-4b34-8cdd-06c819fffb58",
   "metadata": {},
   "source": [
    "bibliiaDf.reset_index().to_xml(path_or_buffer=bibleXML, index=False, root_name='bible', attr_cols=bibleOHCO, elem_cols=['text'])"
   ]
  },
  {
   "cell_type": "code",
   "execution_count": null,
   "id": "daab9f11-d56f-4632-aed7-a49982ec9299",
   "metadata": {
    "tags": []
   },
   "outputs": [],
   "source": [
    "root = etree.Element(\"bible\")\n",
    "print(root)\n",
    "print(root.tag)\n",
    "#bibleTree = etree.ElementTree()"
   ]
  },
  {
   "cell_type": "code",
   "execution_count": null,
   "id": "d326c5b4-fe4b-4d30-bd5d-31edf876821e",
   "metadata": {},
   "outputs": [],
   "source": [
    "for v in BibDf.index.to_list(): \n",
    "    "
   ]
  },
  {
   "cell_type": "code",
   "execution_count": null,
   "id": "a5edbe39-bddc-4b94-aafa-12b3b9dfc298",
   "metadata": {},
   "outputs": [],
   "source": [
    "BibDf"
   ]
  },
  {
   "cell_type": "code",
   "execution_count": null,
   "id": "a25e98a9-9dff-42a7-a6f1-56eebbf548d8",
   "metadata": {},
   "outputs": [],
   "source": [
    "root.append(etree.Element(\"testament\"))"
   ]
  },
  {
   "cell_type": "code",
   "execution_count": null,
   "id": "7bd8601d-3a0c-4ca3-9557-5b71d51e597c",
   "metadata": {},
   "outputs": [],
   "source": [
    "root.append(etree.Element(\"\"))"
   ]
  },
  {
   "cell_type": "code",
   "execution_count": null,
   "id": "501ca084-86bb-46c5-8232-7d315ad43083",
   "metadata": {},
   "outputs": [],
   "source": [
    "etree.tostring(root, pretty_print=True)"
   ]
  },
  {
   "cell_type": "markdown",
   "id": "cccddfb0-d1a9-47ea-a7e0-5bb8d15eb320",
   "metadata": {},
   "source": [
    "## Processing"
   ]
  },
  {
   "cell_type": "code",
   "execution_count": 4,
   "id": "37d84faf-58d9-4b61-8e9f-10fc7e05ad99",
   "metadata": {},
   "outputs": [],
   "source": [
    "BibDf = pd.read_json(bibleJSON)\n",
    "BibDf.index.name = 'v_id'\n",
    "BibTextDf = BibDf[['text']]\n",
    "BibLibDf = BibDf[bibleOHCO]\n",
    "#synodalDf#.set_index(bibleOHCO)"
   ]
  },
  {
   "cell_type": "code",
   "execution_count": 5,
   "id": "adcd8ce8-f88c-446e-943d-856c6dd651e6",
   "metadata": {},
   "outputs": [
    {
     "data": {
      "text/html": [
       "<div>\n",
       "<style scoped>\n",
       "    .dataframe tbody tr th:only-of-type {\n",
       "        vertical-align: middle;\n",
       "    }\n",
       "\n",
       "    .dataframe tbody tr th {\n",
       "        vertical-align: top;\n",
       "    }\n",
       "\n",
       "    .dataframe thead th {\n",
       "        text-align: right;\n",
       "    }\n",
       "</style>\n",
       "<table border=\"1\" class=\"dataframe\">\n",
       "  <thead>\n",
       "    <tr style=\"text-align: right;\">\n",
       "      <th></th>\n",
       "      <th>test</th>\n",
       "      <th>book</th>\n",
       "      <th>chap</th>\n",
       "      <th>verse</th>\n",
       "      <th>text</th>\n",
       "    </tr>\n",
       "    <tr>\n",
       "      <th>v_id</th>\n",
       "      <th></th>\n",
       "      <th></th>\n",
       "      <th></th>\n",
       "      <th></th>\n",
       "      <th></th>\n",
       "    </tr>\n",
       "  </thead>\n",
       "  <tbody>\n",
       "    <tr>\n",
       "      <th>0</th>\n",
       "      <td>OT</td>\n",
       "      <td>Быт.</td>\n",
       "      <td>1</td>\n",
       "      <td>1</td>\n",
       "      <td>В начале сотворил Бог небо и землю.</td>\n",
       "    </tr>\n",
       "    <tr>\n",
       "      <th>1</th>\n",
       "      <td>OT</td>\n",
       "      <td>Быт.</td>\n",
       "      <td>1</td>\n",
       "      <td>2</td>\n",
       "      <td>Земля же была безвидна и пуста, и тьма над без...</td>\n",
       "    </tr>\n",
       "    <tr>\n",
       "      <th>2</th>\n",
       "      <td>OT</td>\n",
       "      <td>Быт.</td>\n",
       "      <td>1</td>\n",
       "      <td>3</td>\n",
       "      <td>И сказал Бог: да будет свет. И стал свет.</td>\n",
       "    </tr>\n",
       "    <tr>\n",
       "      <th>3</th>\n",
       "      <td>OT</td>\n",
       "      <td>Быт.</td>\n",
       "      <td>1</td>\n",
       "      <td>4</td>\n",
       "      <td>И увидел Бог свет, что он хорош, и отделил Бог...</td>\n",
       "    </tr>\n",
       "    <tr>\n",
       "      <th>4</th>\n",
       "      <td>OT</td>\n",
       "      <td>Быт.</td>\n",
       "      <td>1</td>\n",
       "      <td>5</td>\n",
       "      <td>И назвал Бог свет днем, а тьму ночью. И был ве...</td>\n",
       "    </tr>\n",
       "    <tr>\n",
       "      <th>...</th>\n",
       "      <td>...</td>\n",
       "      <td>...</td>\n",
       "      <td>...</td>\n",
       "      <td>...</td>\n",
       "      <td>...</td>\n",
       "    </tr>\n",
       "    <tr>\n",
       "      <th>37338</th>\n",
       "      <td>NT</td>\n",
       "      <td>Откр.</td>\n",
       "      <td>22</td>\n",
       "      <td>17</td>\n",
       "      <td>И Дух и невеста говорят: прииди! И слышавший д...</td>\n",
       "    </tr>\n",
       "    <tr>\n",
       "      <th>37339</th>\n",
       "      <td>NT</td>\n",
       "      <td>Откр.</td>\n",
       "      <td>22</td>\n",
       "      <td>18</td>\n",
       "      <td>И я также свидетельствую всякому слышащему сло...</td>\n",
       "    </tr>\n",
       "    <tr>\n",
       "      <th>37340</th>\n",
       "      <td>NT</td>\n",
       "      <td>Откр.</td>\n",
       "      <td>22</td>\n",
       "      <td>19</td>\n",
       "      <td>и если кто отнимет что от слов книги пророчест...</td>\n",
       "    </tr>\n",
       "    <tr>\n",
       "      <th>37341</th>\n",
       "      <td>NT</td>\n",
       "      <td>Откр.</td>\n",
       "      <td>22</td>\n",
       "      <td>20</td>\n",
       "      <td>Свидетельствующий сие говорит: ей, гряду скоро...</td>\n",
       "    </tr>\n",
       "    <tr>\n",
       "      <th>37342</th>\n",
       "      <td>NT</td>\n",
       "      <td>Откр.</td>\n",
       "      <td>22</td>\n",
       "      <td>21</td>\n",
       "      <td>Благодать Господа нашего Иисуса Христа со всем...</td>\n",
       "    </tr>\n",
       "  </tbody>\n",
       "</table>\n",
       "<p>37343 rows × 5 columns</p>\n",
       "</div>"
      ],
      "text/plain": [
       "      test   book  chap  verse  \\\n",
       "v_id                             \n",
       "0       OT   Быт.     1      1   \n",
       "1       OT   Быт.     1      2   \n",
       "2       OT   Быт.     1      3   \n",
       "3       OT   Быт.     1      4   \n",
       "4       OT   Быт.     1      5   \n",
       "...    ...    ...   ...    ...   \n",
       "37338   NT  Откр.    22     17   \n",
       "37339   NT  Откр.    22     18   \n",
       "37340   NT  Откр.    22     19   \n",
       "37341   NT  Откр.    22     20   \n",
       "37342   NT  Откр.    22     21   \n",
       "\n",
       "                                                    text  \n",
       "v_id                                                      \n",
       "0                    В начале сотворил Бог небо и землю.  \n",
       "1      Земля же была безвидна и пуста, и тьма над без...  \n",
       "2              И сказал Бог: да будет свет. И стал свет.  \n",
       "3      И увидел Бог свет, что он хорош, и отделил Бог...  \n",
       "4      И назвал Бог свет днем, а тьму ночью. И был ве...  \n",
       "...                                                  ...  \n",
       "37338  И Дух и невеста говорят: прииди! И слышавший д...  \n",
       "37339  И я также свидетельствую всякому слышащему сло...  \n",
       "37340  и если кто отнимет что от слов книги пророчест...  \n",
       "37341  Свидетельствующий сие говорит: ей, гряду скоро...  \n",
       "37342  Благодать Господа нашего Иисуса Христа со всем...  \n",
       "\n",
       "[37343 rows x 5 columns]"
      ]
     },
     "execution_count": 5,
     "metadata": {},
     "output_type": "execute_result"
    }
   ],
   "source": [
    "BibDf"
   ]
  },
  {
   "cell_type": "code",
   "execution_count": 6,
   "id": "f2a3d1f6-9a28-4ca2-9b74-6364ca0c5f2b",
   "metadata": {},
   "outputs": [],
   "source": [
    "#testsDict = dict(enumerate(BibDf.test.unique()))\n",
    "testsDict = dict([(value, key) for key, value in dict(enumerate(BibDf.test.unique())).items()])\n",
    "booksDict = dict([(value, key) for key, value in dict(enumerate(BibDf.book.unique())).items()])"
   ]
  },
  {
   "cell_type": "code",
   "execution_count": 7,
   "id": "2888481a-4b0a-499c-9790-35f9a2c3abc1",
   "metadata": {},
   "outputs": [],
   "source": [
    "TestsDf = pd.DataFrame([(x, ' '.join(y)) for (x,y) in BibDf.groupby(bibleOHCO[:1]).text], columns=['test', 'text'])\n",
    "TestsDf.index.name = 't_id'\n",
    "#TestsDf "
   ]
  },
  {
   "cell_type": "code",
   "execution_count": 8,
   "id": "388de76b-ef48-46be-9991-dcd04fbfce83",
   "metadata": {},
   "outputs": [],
   "source": [
    "BooksDf = pd.DataFrame([(x, ' '.join(y)) for (x,y) in BibDf.groupby(bibleOHCO[:2]).text], columns=[('test', 'book'), 'text'])\n",
    "BooksDf[['test','book']] = pd.DataFrame(list(BooksDf[('test', 'book')]), index=BooksDf.index, columns=bibleOHCO[:2])\n",
    "del BooksDf[('test', 'book')]\n",
    "BooksDf = BooksDf.replace({\"test\": testsDict, \"book\": booksDict}).sort_values(by=bibleOHCO[:2], ascending=[True, True])\n",
    "BooksDf = BooksDf.reset_index().drop(['index'], axis=1)\n",
    "BooksDf.index.name = 'b_id'\n",
    "BooksDf = BooksDf.replace({\"test\":dict(enumerate(BibDf.test.unique())), \"book\":dict(enumerate(BibDf.book.unique()))})\n",
    "#BooksDf = BooksDf.reset_index().set_index(bibleOHCO[:2])\n",
    "#BooksDf "
   ]
  },
  {
   "cell_type": "code",
   "execution_count": 74,
   "id": "e28bd922-3913-45a3-938a-fb49b0a7e9fa",
   "metadata": {},
   "outputs": [
    {
     "data": {
      "text/html": [
       "<div>\n",
       "<style scoped>\n",
       "    .dataframe tbody tr th:only-of-type {\n",
       "        vertical-align: middle;\n",
       "    }\n",
       "\n",
       "    .dataframe tbody tr th {\n",
       "        vertical-align: top;\n",
       "    }\n",
       "\n",
       "    .dataframe thead th {\n",
       "        text-align: right;\n",
       "    }\n",
       "</style>\n",
       "<table border=\"1\" class=\"dataframe\">\n",
       "  <thead>\n",
       "    <tr style=\"text-align: right;\">\n",
       "      <th></th>\n",
       "      <th>text</th>\n",
       "      <th>test</th>\n",
       "      <th>book</th>\n",
       "      <th>chap</th>\n",
       "    </tr>\n",
       "    <tr>\n",
       "      <th>c_id</th>\n",
       "      <th></th>\n",
       "      <th></th>\n",
       "      <th></th>\n",
       "      <th></th>\n",
       "    </tr>\n",
       "  </thead>\n",
       "  <tbody>\n",
       "    <tr>\n",
       "      <th>0</th>\n",
       "      <td>В начале сотворил Бог небо и землю. Земля же б...</td>\n",
       "      <td>OT</td>\n",
       "      <td>Быт.</td>\n",
       "      <td>1</td>\n",
       "    </tr>\n",
       "    <tr>\n",
       "      <th>1</th>\n",
       "      <td>Так совершены небо и земля и все воинство их. ...</td>\n",
       "      <td>OT</td>\n",
       "      <td>Быт.</td>\n",
       "      <td>2</td>\n",
       "    </tr>\n",
       "    <tr>\n",
       "      <th>2</th>\n",
       "      <td>Змей был хитрее всех зверей полевых, которых с...</td>\n",
       "      <td>OT</td>\n",
       "      <td>Быт.</td>\n",
       "      <td>3</td>\n",
       "    </tr>\n",
       "    <tr>\n",
       "      <th>3</th>\n",
       "      <td>Адам познал Еву, жену свою; и она зачала, и ро...</td>\n",
       "      <td>OT</td>\n",
       "      <td>Быт.</td>\n",
       "      <td>4</td>\n",
       "    </tr>\n",
       "    <tr>\n",
       "      <th>4</th>\n",
       "      <td>Вот родословие Адама: когда Бог сотворил челов...</td>\n",
       "      <td>OT</td>\n",
       "      <td>Быт.</td>\n",
       "      <td>5</td>\n",
       "    </tr>\n",
       "    <tr>\n",
       "      <th>...</th>\n",
       "      <td>...</td>\n",
       "      <td>...</td>\n",
       "      <td>...</td>\n",
       "      <td>...</td>\n",
       "    </tr>\n",
       "    <tr>\n",
       "      <th>1193</th>\n",
       "      <td>После сего я увидел иного Ангела, сходящего с ...</td>\n",
       "      <td>NT</td>\n",
       "      <td>Откр.</td>\n",
       "      <td>18</td>\n",
       "    </tr>\n",
       "    <tr>\n",
       "      <th>1194</th>\n",
       "      <td>После сего я услышал на небе громкий голос как...</td>\n",
       "      <td>NT</td>\n",
       "      <td>Откр.</td>\n",
       "      <td>19</td>\n",
       "    </tr>\n",
       "    <tr>\n",
       "      <th>1195</th>\n",
       "      <td>И увидел я Ангела, сходящего с неба, который и...</td>\n",
       "      <td>NT</td>\n",
       "      <td>Откр.</td>\n",
       "      <td>20</td>\n",
       "    </tr>\n",
       "    <tr>\n",
       "      <th>1196</th>\n",
       "      <td>И увидел я новое небо и новую землю, ибо прежн...</td>\n",
       "      <td>NT</td>\n",
       "      <td>Откр.</td>\n",
       "      <td>21</td>\n",
       "    </tr>\n",
       "    <tr>\n",
       "      <th>1197</th>\n",
       "      <td>И показал мне чистую реку воды жизни, светлую,...</td>\n",
       "      <td>NT</td>\n",
       "      <td>Откр.</td>\n",
       "      <td>22</td>\n",
       "    </tr>\n",
       "  </tbody>\n",
       "</table>\n",
       "<p>1198 rows × 4 columns</p>\n",
       "</div>"
      ],
      "text/plain": [
       "                                                   text test   book  chap\n",
       "c_id                                                                     \n",
       "0     В начале сотворил Бог небо и землю. Земля же б...   OT   Быт.     1\n",
       "1     Так совершены небо и земля и все воинство их. ...   OT   Быт.     2\n",
       "2     Змей был хитрее всех зверей полевых, которых с...   OT   Быт.     3\n",
       "3     Адам познал Еву, жену свою; и она зачала, и ро...   OT   Быт.     4\n",
       "4     Вот родословие Адама: когда Бог сотворил челов...   OT   Быт.     5\n",
       "...                                                 ...  ...    ...   ...\n",
       "1193  После сего я увидел иного Ангела, сходящего с ...   NT  Откр.    18\n",
       "1194  После сего я услышал на небе громкий голос как...   NT  Откр.    19\n",
       "1195  И увидел я Ангела, сходящего с неба, который и...   NT  Откр.    20\n",
       "1196  И увидел я новое небо и новую землю, ибо прежн...   NT  Откр.    21\n",
       "1197  И показал мне чистую реку воды жизни, светлую,...   NT  Откр.    22\n",
       "\n",
       "[1198 rows x 4 columns]"
      ]
     },
     "execution_count": 74,
     "metadata": {},
     "output_type": "execute_result"
    }
   ],
   "source": [
    "ChapsDf = pd.DataFrame([(x, ' '.join(y)) for (x,y) in BibDf.groupby(bibleOHCO[:3]).text], columns=[('test', 'book', 'chap'), 'text'])\n",
    "ChapsDf[['test','book','chap']] = pd.DataFrame(list(ChapsDf[('test', 'book', 'chap')]), index=ChapsDf.index, columns=bibleOHCO[:3])\n",
    "del ChapsDf[('test', 'book', 'chap')]\n",
    "ChapsDf = ChapsDf.replace({\"test\": testsDict, \"book\": booksDict}).sort_values(by=bibleOHCO[:3], ascending=[True, True, True])\n",
    "ChapsDf = ChapsDf.reset_index().drop(['index'], axis=1)\n",
    "ChapsDf.index.name = 'c_id'\n",
    "ChapsDf = ChapsDf.replace({\"test\":dict(enumerate(BibDf.test.unique())), \"book\":dict(enumerate(BibDf.book.unique()))})\n",
    "#ChapsDf = ChapsDf.reset_index().set_index(bibleOHCO[:3])\n",
    "ChapsDf"
   ]
  },
  {
   "cell_type": "code",
   "execution_count": 13,
   "id": "ed434680-3df1-40e8-861c-593cba1ad531",
   "metadata": {},
   "outputs": [
    {
     "data": {
      "text/plain": [
       "v_id\n",
       "0                      В начале сотворил Бог небо и землю.\n",
       "1        Земля же была безвидна и пуста, и тьма над без...\n",
       "2                И сказал Бог: да будет свет. И стал свет.\n",
       "3        И увидел Бог свет, что он хорош, и отделил Бог...\n",
       "4        И назвал Бог свет днем, а тьму ночью. И был ве...\n",
       "                               ...                        \n",
       "37338    И Дух и невеста говорят: прииди! И слышавший д...\n",
       "37339    И я также свидетельствую всякому слышащему сло...\n",
       "37340    и если кто отнимет что от слов книги пророчест...\n",
       "37341    Свидетельствующий сие говорит: ей, гряду скоро...\n",
       "37342    Благодать Господа нашего Иисуса Христа со всем...\n",
       "Name: text, Length: 37343, dtype: object"
      ]
     },
     "execution_count": 13,
     "metadata": {},
     "output_type": "execute_result"
    }
   ],
   "source": [
    "BibTextDf.text"
   ]
  },
  {
   "cell_type": "code",
   "execution_count": 45,
   "id": "b78c9005-9bad-4b1f-ba26-643364d1c401",
   "metadata": {},
   "outputs": [],
   "source": [
    "def nat_parse(textDf=BibTextDf, textCol='text', columns=tokenCols): \n",
    "    tokenDf = pd.DataFrame(columns=columns)\n",
    "    for v_id in textDf.index: \n",
    "        verseDict = []\n",
    "        doc = Doc(textDf.loc[v_id][textCol])\n",
    "        doc.segment(segmenter)\n",
    "        doc.tag_morph(morph_tagger)\n",
    "        for token in doc.tokens: \n",
    "            token.lemmatize(morph_vocab)\n",
    "        doc.parse_syntax(syntax_parser)\n",
    "        doc.tag_ner(ner_tagger)\n",
    "        for sent in enumerate(doc.sents): \n",
    "            sent_num = sent[0]\n",
    "            sent_text = sent[1]\n",
    "            for token in enumerate([x for x in sent_text.tokens if x.pos!='PUNCT']): \n",
    "                token_num = token[0]\n",
    "                token_text = token[1]\n",
    "                start = token_text.start\n",
    "                stop = token_text.stop\n",
    "                text = token_text.text\n",
    "                token_id = token_text.id\n",
    "                head_id = token_text.head_id\n",
    "                rel = token_text.rel\n",
    "                pos = token_text.pos\n",
    "                lemma = token_text.lemma\n",
    "                # Animacy, Aspect, Case, Degree, Gender, Mood, Number, Person, Tense, VerbForm, Voice\n",
    "                #print(token_text.feats)\n",
    "                try: \n",
    "                    anim = token_text.feats['Animacy']\n",
    "                except: \n",
    "                    anim = None\n",
    "                try: \n",
    "                    aspect = token_text.feats['Aspect']\n",
    "                except: \n",
    "                    aspect = None\n",
    "                try: \n",
    "                    case = token_text.feats['Case']\n",
    "                except: \n",
    "                    case = None\n",
    "                try: \n",
    "                    degree = token_text.feats['Degree']\n",
    "                except: \n",
    "                    degree = None\n",
    "                try: \n",
    "                    gender = token_text.feats['Gender']\n",
    "                except: \n",
    "                    gender = None\n",
    "                try: \n",
    "                    mood = token_text.feats['Mood']\n",
    "                except: \n",
    "                    mood = None\n",
    "                try: \n",
    "                    number = token_text.feats['Number']\n",
    "                except: \n",
    "                    number = None\n",
    "                try: \n",
    "                    person = token_text.feats['Person']\n",
    "                except: \n",
    "                    person = None\n",
    "                try: \n",
    "                    tense = token_text.feats['Tense']\n",
    "                except: \n",
    "                    tense = None\n",
    "                try: \n",
    "                    verb_form = token_text.feats['VerbForm']\n",
    "                except: \n",
    "                    verb_form = None\n",
    "                try: \n",
    "                    voice = token_text.feats['Voice']\n",
    "                except: \n",
    "                    voice = None\n",
    "                #print(token)\n",
    "                tokenDict = {\n",
    "                    'v_id': v_id,\n",
    "                    'token_num': token_num, \n",
    "                    'start': start, \n",
    "                    'stop': stop, \n",
    "                    'text': text, \n",
    "                    'token_id': token_id, \n",
    "                    'head_id': head_id, \n",
    "                    'rel': rel, \n",
    "                    'pos': pos, \n",
    "                    'lemma': lemma, \n",
    "                    'anim': anim, \n",
    "                    'aspect': aspect, \n",
    "                    'case': case, \n",
    "                    'degree': degree, \n",
    "                    'gender': gender, \n",
    "                    'mood': mood, \n",
    "                    'number': number, \n",
    "                    'person': person, \n",
    "                    'tense': tense, \n",
    "                    'verb_form': verb_form, \n",
    "                    'voice': voice\n",
    "                }\n",
    "                verseDict.append(tokenDict)\n",
    "            #print(sent)\n",
    "            verseDf = pd.DataFrame(verseDict, columns=columns)\n",
    "        tokenDf = pd.concat([tokenDf, verseDf])\n",
    "    return tokenDf"
   ]
  },
  {
   "cell_type": "code",
   "execution_count": 51,
   "id": "53a612a7-23a8-472d-b5dd-8abc52a7012f",
   "metadata": {},
   "outputs": [
    {
     "ename": "KeyboardInterrupt",
     "evalue": "",
     "output_type": "error",
     "traceback": [
      "\u001b[0;31m---------------------------------------------------------------------------\u001b[0m",
      "\u001b[0;31mKeyboardInterrupt\u001b[0m                         Traceback (most recent call last)",
      "\u001b[0;32m<timed exec>\u001b[0m in \u001b[0;36m<module>\u001b[0;34m\u001b[0m\n",
      "\u001b[0;32m/tmp/ipykernel_253881/2213825877.py\u001b[0m in \u001b[0;36mnat_parse\u001b[0;34m(textDf, textCol, columns)\u001b[0m\n\u001b[1;32m     97\u001b[0m             \u001b[0;31m#print(sent)\u001b[0m\u001b[0;34m\u001b[0m\u001b[0;34m\u001b[0m\u001b[0;34m\u001b[0m\u001b[0m\n\u001b[1;32m     98\u001b[0m             \u001b[0mverseDf\u001b[0m \u001b[0;34m=\u001b[0m \u001b[0mpd\u001b[0m\u001b[0;34m.\u001b[0m\u001b[0mDataFrame\u001b[0m\u001b[0;34m(\u001b[0m\u001b[0mverseDict\u001b[0m\u001b[0;34m,\u001b[0m \u001b[0mcolumns\u001b[0m\u001b[0;34m=\u001b[0m\u001b[0mcolumns\u001b[0m\u001b[0;34m)\u001b[0m\u001b[0;34m\u001b[0m\u001b[0;34m\u001b[0m\u001b[0m\n\u001b[0;32m---> 99\u001b[0;31m         \u001b[0mtokenDf\u001b[0m \u001b[0;34m=\u001b[0m \u001b[0mpd\u001b[0m\u001b[0;34m.\u001b[0m\u001b[0mconcat\u001b[0m\u001b[0;34m(\u001b[0m\u001b[0;34m[\u001b[0m\u001b[0mtokenDf\u001b[0m\u001b[0;34m,\u001b[0m \u001b[0mverseDf\u001b[0m\u001b[0;34m]\u001b[0m\u001b[0;34m)\u001b[0m\u001b[0;34m\u001b[0m\u001b[0;34m\u001b[0m\u001b[0m\n\u001b[0m\u001b[1;32m    100\u001b[0m     \u001b[0;32mreturn\u001b[0m \u001b[0mtokenDf\u001b[0m\u001b[0;34m\u001b[0m\u001b[0;34m\u001b[0m\u001b[0m\n",
      "\u001b[0;31mKeyboardInterrupt\u001b[0m: "
     ]
    }
   ],
   "source": [
    "%%time\n",
    "tokenDf = nat_parse(BibTextDf).set_index(['v_id', 'token_num'])"
   ]
  },
  {
   "cell_type": "code",
   "execution_count": 52,
   "id": "f2e0a671-8e76-48d3-9ba0-239720b839f7",
   "metadata": {},
   "outputs": [
    {
     "ename": "NameError",
     "evalue": "name 'tokenDf' is not defined",
     "output_type": "error",
     "traceback": [
      "\u001b[0;31m---------------------------------------------------------------------------\u001b[0m",
      "\u001b[0;31mNameError\u001b[0m                                 Traceback (most recent call last)",
      "\u001b[0;32m/tmp/ipykernel_253881/1412768861.py\u001b[0m in \u001b[0;36m<module>\u001b[0;34m\u001b[0m\n\u001b[0;32m----> 1\u001b[0;31m \u001b[0mtokenDf\u001b[0m\u001b[0;34m.\u001b[0m\u001b[0mto_pickle\u001b[0m\u001b[0;34m(\u001b[0m\u001b[0;34m'./proc/tokenDf.pkl'\u001b[0m\u001b[0;34m)\u001b[0m\u001b[0;34m\u001b[0m\u001b[0;34m\u001b[0m\u001b[0m\n\u001b[0m",
      "\u001b[0;31mNameError\u001b[0m: name 'tokenDf' is not defined"
     ]
    }
   ],
   "source": [
    "tokenDf.to_pickle('./proc/tokenDf.pkl')"
   ]
  }
 ],
 "metadata": {
  "kernelspec": {
   "display_name": "Python 3 (ipykernel)",
   "language": "python",
   "name": "python3"
  },
  "language_info": {
   "codemirror_mode": {
    "name": "ipython",
    "version": 3
   },
   "file_extension": ".py",
   "mimetype": "text/x-python",
   "name": "python",
   "nbconvert_exporter": "python",
   "pygments_lexer": "ipython3",
   "version": "3.9.5"
  }
 },
 "nbformat": 4,
 "nbformat_minor": 5
}
