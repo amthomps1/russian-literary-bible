{
 "cells": [
  {
   "cell_type": "markdown",
   "id": "aa07089e",
   "metadata": {},
   "source": [
    "# Russian Synodal Bible (1885)"
   ]
  },
  {
   "cell_type": "markdown",
   "id": "3db1fea7",
   "metadata": {},
   "source": [
    "## Import"
   ]
  },
  {
   "cell_type": "markdown",
   "id": "c8e48e5b",
   "metadata": {},
   "source": [
    "### Libraries"
   ]
  },
  {
   "cell_type": "code",
   "execution_count": 1,
   "id": "af782c13",
   "metadata": {},
   "outputs": [],
   "source": [
    "import os\n",
    "from lxml import etree\n",
    "from bs4 import BeautifulSoup\n",
    "\n",
    "from backend import *"
   ]
  },
  {
   "cell_type": "code",
   "execution_count": 2,
   "id": "8b45fd6a",
   "metadata": {},
   "outputs": [],
   "source": [
    "segmenter = Segmenter()\n",
    "morph_vocab = MorphVocab()\n",
    "emb = NewsEmbedding()\n",
    "morph_tagger = NewsMorphTagger(emb)\n",
    "syntax_parser = NewsSyntaxParser(emb)\n",
    "ner_tagger = NewsNERTagger(emb)\n",
    "names_extractor = NamesExtractor(morph_vocab)"
   ]
  },
  {
   "cell_type": "markdown",
   "id": "afadbec5",
   "metadata": {},
   "source": [
    "### Definitions"
   ]
  },
  {
   "cell_type": "code",
   "execution_count": 3,
   "id": "59a42e7e",
   "metadata": {
    "tags": []
   },
   "outputs": [],
   "source": [
    "bibleTXT = './texts/bible/sinodalnyi-perevod.txt' \n",
    "booksJSON = './texts/bible/booksDict.json'\n",
    "bibleJSON = './texts/bible/bible.json'\n",
    "bibleIdJSON = './texts/bible/bibleID.json'\n",
    "bibleXML = './texts/bible/bible.xml'\n",
    "\n",
    "bibleOHCO = ['test', 'book', 'chap', 'verse']\n",
    "tokenCols = ['p_id', 'start', 'stop', 'text', 'token_id', 'head_id', 'rel', 'pos', 'lemma', 'anim', 'aspect', 'case', 'degree', 'gender', 'mood', 'number', 'person', 'tense', 'verb_form', 'voice']\n",
    "\n",
    "chap_lines_re = '^===\\s(\\d{1,3})\\s===$'\n",
    "book_lines_re = '^==\\s(.+)\\s==$'\n",
    "matt_name = 'От Матфея святое благовествование'"
   ]
  },
  {
   "cell_type": "code",
   "execution_count": 4,
   "id": "e140359c",
   "metadata": {},
   "outputs": [],
   "source": [
    "with open(booksJSON) as json_file: \n",
    "    booksDict = json.load(json_file)"
   ]
  },
  {
   "cell_type": "markdown",
   "id": "29f975d2",
   "metadata": {
    "tags": []
   },
   "source": [
    "## Pre-Processing"
   ]
  },
  {
   "cell_type": "markdown",
   "id": "f3f2e781",
   "metadata": {
    "tags": []
   },
   "source": [
    "### Import Text into DF"
   ]
  },
  {
   "cell_type": "raw",
   "id": "72f02826",
   "metadata": {
    "jupyter": {
     "source_hidden": true
    },
    "tags": []
   },
   "source": [
    "with open(bibleTXT, 'r', encoding='windows-1251') as f: \n",
    "    bibleText = f.readlines()\n",
    "\n",
    "bibliiaDf = pd.DataFrame(bibleText).rename(columns={0:'text'}).dropna()\n",
    "bibliiaDf"
   ]
  },
  {
   "cell_type": "markdown",
   "id": "f1eae545",
   "metadata": {
    "tags": []
   },
   "source": [
    "### Tidy Up"
   ]
  },
  {
   "cell_type": "raw",
   "id": "04cb693d",
   "metadata": {
    "jupyter": {
     "source_hidden": true
    },
    "tags": []
   },
   "source": [
    "# remove blank lines and select puncutation, keeping only header & clean text lines\n",
    "bibliiaDf.loc[:,'text'] = bibliiaDf.loc[:,'text'].str.replace(r'\\n', '')\n",
    "bibliiaDf.loc[:,'text'] = bibliiaDf.loc[:,'text'].str.replace('\\]|\\[|_|-|', '')\n",
    "bibliiaDf = bibliiaDf.loc[bibliiaDf.text != '']\n",
    "bibliiaDf"
   ]
  },
  {
   "cell_type": "markdown",
   "id": "f8476b8b",
   "metadata": {
    "tags": []
   },
   "source": [
    "### Find Parts"
   ]
  },
  {
   "cell_type": "raw",
   "id": "70a1d42b",
   "metadata": {
    "jupyter": {
     "source_hidden": true
    },
    "tags": []
   },
   "source": [
    "# find df rows containing all the book and chapter title lines \n",
    "# as well as the OT/NT split on the 1st page of Matthew\n",
    "chap_lines = bibliiaDf.loc[bibliiaDf.text.str.contains(chap_lines_re)].index\n",
    "book_lines = bibliiaDf.loc[bibliiaDf.text.str.contains(book_lines_re)].index\n",
    "test_line = bibliiaDf.loc[bibliiaDf.text.str.contains(matt_name)].index\n",
    "\n",
    "# combine the title lines for extraction later\n",
    "title_lines = test_line.append([chap_lines, book_lines]).sort_values()\n",
    "title_lines"
   ]
  },
  {
   "cell_type": "markdown",
   "id": "75ba77b3",
   "metadata": {
    "tags": []
   },
   "source": [
    "### Assign OHCO Labels"
   ]
  },
  {
   "cell_type": "raw",
   "id": "c7c1bcdb",
   "metadata": {
    "jupyter": {
     "source_hidden": true
    },
    "tags": []
   },
   "source": [
    "# ['test']\n",
    "bibliiaDf[bibleOHCO[0]] = np.where(bibliiaDf.index<test_line[0], 'O', 'N')\n",
    "# ['book']\n",
    "bibliiaDf[bibleOHCO[1]] = bibliiaDf.loc[book_lines].text.str.extract(book_lines_re)\n",
    "# ['chap']\n",
    "bibliiaDf[bibleOHCO[2]] = bibliiaDf.loc[chap_lines].text.str.extract(chap_lines_re)\n",
    "# ['verse'] by splitting verse num at beginning from text in current verse lines\n",
    "bibliiaDf[[bibleOHCO[3],'text']] = bibliiaDf.text.str.split(' ', 1, expand=True).iloc[:, [0, 1]]\n",
    "# fill in book and chapter titles to cells below them\n",
    "bibliiaDf[bibleOHCO[1:3]] = bibliiaDf[['book','chap']].ffill()\n",
    "# drop title lines and reset index to give verse id num \n",
    "bibliiaDf = bibliiaDf.drop(title_lines, axis=0).reset_index()#.set_index(bibleOHCO)\n",
    "bibliiaDf.index = range(1,len(bibliiaDf)+1)\n",
    "bibliiaDf.index.name = 'v_id'\n",
    "# reorder columns\n",
    "bibliiaDf = bibliiaDf[['test', 'book', 'chap', 'verse', 'text']]\n",
    "bibliiaDf"
   ]
  },
  {
   "cell_type": "markdown",
   "id": "c7f7cc95",
   "metadata": {},
   "source": [
    "### Swap Full Book Name for Abbreviation"
   ]
  },
  {
   "cell_type": "raw",
   "id": "6be8e100",
   "metadata": {
    "jupyter": {
     "source_hidden": true
    },
    "tags": []
   },
   "source": [
    "book_nums = [(x+1,y) for x,y in enumerate(bibliiaDf.book.unique())]"
   ]
  },
  {
   "cell_type": "raw",
   "id": "8aed9ef0",
   "metadata": {
    "jupyter": {
     "source_hidden": true
    },
    "tags": []
   },
   "source": [
    "bibliiaDf.book = [booksDict[str(x)]['eng_abbr'] for x,y in book_nums for name in bibliiaDf.book if y == name]\n",
    "bibliiaDf.sample(10)"
   ]
  },
  {
   "cell_type": "markdown",
   "id": "801d1dd1",
   "metadata": {
    "tags": []
   },
   "source": [
    "### Export to JSON"
   ]
  },
  {
   "cell_type": "raw",
   "id": "bf68e609",
   "metadata": {
    "jupyter": {
     "source_hidden": true
    },
    "tags": []
   },
   "source": [
    "bibliiaDf.to_json(bibleJSON, orient='index')"
   ]
  },
  {
   "cell_type": "markdown",
   "id": "503d18f8",
   "metadata": {},
   "source": [
    "## Processing"
   ]
  },
  {
   "cell_type": "code",
   "execution_count": 5,
   "id": "854f55d8",
   "metadata": {},
   "outputs": [
    {
     "data": {
      "text/html": [
       "<div>\n",
       "<style scoped>\n",
       "    .dataframe tbody tr th:only-of-type {\n",
       "        vertical-align: middle;\n",
       "    }\n",
       "\n",
       "    .dataframe tbody tr th {\n",
       "        vertical-align: top;\n",
       "    }\n",
       "\n",
       "    .dataframe thead th {\n",
       "        text-align: right;\n",
       "    }\n",
       "</style>\n",
       "<table border=\"1\" class=\"dataframe\">\n",
       "  <thead>\n",
       "    <tr style=\"text-align: right;\">\n",
       "      <th></th>\n",
       "      <th>test</th>\n",
       "      <th>book</th>\n",
       "      <th>chap</th>\n",
       "      <th>verse</th>\n",
       "      <th>text</th>\n",
       "    </tr>\n",
       "    <tr>\n",
       "      <th>v_id</th>\n",
       "      <th></th>\n",
       "      <th></th>\n",
       "      <th></th>\n",
       "      <th></th>\n",
       "      <th></th>\n",
       "    </tr>\n",
       "  </thead>\n",
       "  <tbody>\n",
       "    <tr>\n",
       "      <th>1</th>\n",
       "      <td>O</td>\n",
       "      <td>Gen</td>\n",
       "      <td>1</td>\n",
       "      <td>1</td>\n",
       "      <td>В начале сотворил Бог небо и землю.</td>\n",
       "    </tr>\n",
       "    <tr>\n",
       "      <th>2</th>\n",
       "      <td>O</td>\n",
       "      <td>Gen</td>\n",
       "      <td>1</td>\n",
       "      <td>2</td>\n",
       "      <td>Земля же была безвидна и пуста, и тьма над без...</td>\n",
       "    </tr>\n",
       "    <tr>\n",
       "      <th>3</th>\n",
       "      <td>O</td>\n",
       "      <td>Gen</td>\n",
       "      <td>1</td>\n",
       "      <td>3</td>\n",
       "      <td>И сказал Бог: да будет свет. И стал свет.</td>\n",
       "    </tr>\n",
       "    <tr>\n",
       "      <th>4</th>\n",
       "      <td>O</td>\n",
       "      <td>Gen</td>\n",
       "      <td>1</td>\n",
       "      <td>4</td>\n",
       "      <td>И увидел Бог свет, что он хорош, и отделил Бог...</td>\n",
       "    </tr>\n",
       "    <tr>\n",
       "      <th>5</th>\n",
       "      <td>O</td>\n",
       "      <td>Gen</td>\n",
       "      <td>1</td>\n",
       "      <td>5</td>\n",
       "      <td>И назвал Бог свет днем, а тьму ночью. И был ве...</td>\n",
       "    </tr>\n",
       "    <tr>\n",
       "      <th>...</th>\n",
       "      <td>...</td>\n",
       "      <td>...</td>\n",
       "      <td>...</td>\n",
       "      <td>...</td>\n",
       "      <td>...</td>\n",
       "    </tr>\n",
       "    <tr>\n",
       "      <th>37106</th>\n",
       "      <td>N</td>\n",
       "      <td>Rev</td>\n",
       "      <td>22</td>\n",
       "      <td>17</td>\n",
       "      <td>И Дух и невеста говорят: прииди! И слышавший д...</td>\n",
       "    </tr>\n",
       "    <tr>\n",
       "      <th>37107</th>\n",
       "      <td>N</td>\n",
       "      <td>Rev</td>\n",
       "      <td>22</td>\n",
       "      <td>18</td>\n",
       "      <td>И я также свидетельствую всякому слышащему сло...</td>\n",
       "    </tr>\n",
       "    <tr>\n",
       "      <th>37108</th>\n",
       "      <td>N</td>\n",
       "      <td>Rev</td>\n",
       "      <td>22</td>\n",
       "      <td>19</td>\n",
       "      <td>и если кто отнимет что от слов книги пророчест...</td>\n",
       "    </tr>\n",
       "    <tr>\n",
       "      <th>37109</th>\n",
       "      <td>N</td>\n",
       "      <td>Rev</td>\n",
       "      <td>22</td>\n",
       "      <td>20</td>\n",
       "      <td>Свидетельствующий сие говорит: ей, гряду скоро...</td>\n",
       "    </tr>\n",
       "    <tr>\n",
       "      <th>37110</th>\n",
       "      <td>N</td>\n",
       "      <td>Rev</td>\n",
       "      <td>22</td>\n",
       "      <td>21</td>\n",
       "      <td>Благодать Господа нашего Иисуса Христа со всем...</td>\n",
       "    </tr>\n",
       "  </tbody>\n",
       "</table>\n",
       "<p>37110 rows × 5 columns</p>\n",
       "</div>"
      ],
      "text/plain": [
       "      test book  chap verse                                               text\n",
       "v_id                                                                          \n",
       "1        O  Gen     1     1                В начале сотворил Бог небо и землю.\n",
       "2        O  Gen     1     2  Земля же была безвидна и пуста, и тьма над без...\n",
       "3        O  Gen     1     3          И сказал Бог: да будет свет. И стал свет.\n",
       "4        O  Gen     1     4  И увидел Бог свет, что он хорош, и отделил Бог...\n",
       "5        O  Gen     1     5  И назвал Бог свет днем, а тьму ночью. И был ве...\n",
       "...    ...  ...   ...   ...                                                ...\n",
       "37106    N  Rev    22    17  И Дух и невеста говорят: прииди! И слышавший д...\n",
       "37107    N  Rev    22    18  И я также свидетельствую всякому слышащему сло...\n",
       "37108    N  Rev    22    19  и если кто отнимет что от слов книги пророчест...\n",
       "37109    N  Rev    22    20  Свидетельствующий сие говорит: ей, гряду скоро...\n",
       "37110    N  Rev    22    21  Благодать Господа нашего Иисуса Христа со всем...\n",
       "\n",
       "[37110 rows x 5 columns]"
      ]
     },
     "execution_count": 5,
     "metadata": {},
     "output_type": "execute_result"
    }
   ],
   "source": [
    "bibliiaDf = pd.read_json(bibleJSON, orient='index')\n",
    "bibliiaDf.index.name = 'v_id'\n",
    "#BibTextDf = bibliiaDf[['text']]\n",
    "#BibLibDf = bibliiaDf[bibleOHCO]\n",
    "bibliiaDf"
   ]
  },
  {
   "cell_type": "markdown",
   "id": "99e5f423",
   "metadata": {},
   "source": [
    "### OHCO DFs"
   ]
  },
  {
   "cell_type": "code",
   "execution_count": 6,
   "id": "5146e3be",
   "metadata": {},
   "outputs": [],
   "source": [
    "#testsDict = dict(enumerate(bibliiaDf.test.unique()))\n",
    "testsDict = dict([(value, key) for key, value in dict(enumerate(bibliiaDf.test.unique())).items()])\n",
    "booksDict = dict([(value, key) for key, value in dict(enumerate(bibliiaDf.book.unique())).items()])"
   ]
  },
  {
   "cell_type": "markdown",
   "id": "d571e0cf",
   "metadata": {},
   "source": [
    "#### Testaments"
   ]
  },
  {
   "cell_type": "code",
   "execution_count": 7,
   "id": "2aa42927",
   "metadata": {},
   "outputs": [],
   "source": [
    "TestsDf = pd.DataFrame([(x, ' '.join(y)) for (x,y) in bibliiaDf.groupby(bibleOHCO[:1]).text], columns=['test', 'text']).set_index(np.arange(1,len(bibliiaDf.test.unique())+1))\n",
    "TestsDf.index.name = 't_id'\n",
    "#TestsDf "
   ]
  },
  {
   "cell_type": "code",
   "execution_count": 8,
   "id": "07710a4f-663d-4cef-8e00-77035f74f594",
   "metadata": {},
   "outputs": [],
   "source": [
    "bibliiaDf['t_id'] = bibliiaDf.test.map(testsDict)"
   ]
  },
  {
   "cell_type": "markdown",
   "id": "1e809400",
   "metadata": {},
   "source": [
    "#### Books"
   ]
  },
  {
   "cell_type": "code",
   "execution_count": 9,
   "id": "9361b7cf",
   "metadata": {},
   "outputs": [],
   "source": [
    "BooksDf = pd.DataFrame([(x, ' '.join(y)) for (x,y) in bibliiaDf.groupby(bibleOHCO[:2]).text], columns=[('test', 'book'), 'text'])\n",
    "BooksDf[['test','book']] = pd.DataFrame(list(BooksDf[('test', 'book')]), index=BooksDf.index, columns=bibleOHCO[:2])\n",
    "del BooksDf[('test', 'book')]\n",
    "BooksDf = BooksDf.replace({\"test\": testsDict, \"book\": booksDict}).sort_values(by=bibleOHCO[:2], ascending=[True, True])\n",
    "BooksDf = BooksDf.reset_index().drop(['index'], axis=1).set_index(np.arange(1,len(bibliiaDf.book.unique())+1))\n",
    "BooksDf.index.name = 'b_id'\n",
    "BooksDf = BooksDf.replace({\"test\":dict(enumerate(bibliiaDf.test.unique())), \"book\":dict(enumerate(bibliiaDf.book.unique()))})\n",
    "#BooksDf = BooksDf.reset_index().set_index(bibleOHCO[:2])\n",
    "#BooksDf "
   ]
  },
  {
   "cell_type": "code",
   "execution_count": 10,
   "id": "3926285c-5e4a-4ebe-bb31-a2b0b11a63eb",
   "metadata": {},
   "outputs": [],
   "source": [
    "bibliiaDf['b_id'] = bibliiaDf.book.map(BooksDf.reset_index().set_index('book')['b_id'])"
   ]
  },
  {
   "cell_type": "markdown",
   "id": "3a0912b9",
   "metadata": {},
   "source": [
    "#### Chapters"
   ]
  },
  {
   "cell_type": "code",
   "execution_count": 11,
   "id": "7ff5412f",
   "metadata": {},
   "outputs": [],
   "source": [
    "ChapsDf = pd.DataFrame([(x, ' '.join(y)) for (x,y) in bibliiaDf.groupby(bibleOHCO[:3]).text], columns=[('test', 'book', 'chap'), 'text'])\n",
    "ChapsDf[['test','book','chap']] = pd.DataFrame(list(ChapsDf[('test', 'book', 'chap')]), index=ChapsDf.index, columns=bibleOHCO[:3])\n",
    "del ChapsDf[('test', 'book', 'chap')]\n",
    "ChapsDf = ChapsDf.replace({\"test\": testsDict, \"book\": booksDict}).sort_values(by=bibleOHCO[:3], ascending=[True, True, True])\n",
    "ChapsDf = ChapsDf.reset_index().drop(['index'], axis=1).set_index(np.arange(1,len(ChapsDf)+1))\n",
    "ChapsDf.index.name = 'c_id'\n",
    "ChapsDf = ChapsDf.replace({\"test\":dict(enumerate(bibliiaDf.test.unique())), \"book\":dict(enumerate(bibliiaDf.book.unique()))})\n",
    "#ChapsDf = ChapsDf.reset_index().set_index(bibleOHCO[:3])\n",
    "#ChapsDf"
   ]
  },
  {
   "cell_type": "code",
   "execution_count": 12,
   "id": "3d32c692-1abb-42b0-8593-ad86eef0120e",
   "metadata": {},
   "outputs": [
    {
     "data": {
      "text/html": [
       "<div>\n",
       "<style scoped>\n",
       "    .dataframe tbody tr th:only-of-type {\n",
       "        vertical-align: middle;\n",
       "    }\n",
       "\n",
       "    .dataframe tbody tr th {\n",
       "        vertical-align: top;\n",
       "    }\n",
       "\n",
       "    .dataframe thead th {\n",
       "        text-align: right;\n",
       "    }\n",
       "</style>\n",
       "<table border=\"1\" class=\"dataframe\">\n",
       "  <thead>\n",
       "    <tr style=\"text-align: right;\">\n",
       "      <th></th>\n",
       "      <th>t_id</th>\n",
       "      <th>b_id</th>\n",
       "      <th>c_id</th>\n",
       "      <th>text</th>\n",
       "      <th>test</th>\n",
       "      <th>book</th>\n",
       "      <th>chap</th>\n",
       "    </tr>\n",
       "    <tr>\n",
       "      <th>v_id</th>\n",
       "      <th></th>\n",
       "      <th></th>\n",
       "      <th></th>\n",
       "      <th></th>\n",
       "      <th></th>\n",
       "      <th></th>\n",
       "      <th></th>\n",
       "    </tr>\n",
       "  </thead>\n",
       "  <tbody>\n",
       "    <tr>\n",
       "      <th>1</th>\n",
       "      <td>0</td>\n",
       "      <td>1</td>\n",
       "      <td>1</td>\n",
       "      <td>В начале сотворил Бог небо и землю.</td>\n",
       "      <td>O</td>\n",
       "      <td>Gen</td>\n",
       "      <td>1</td>\n",
       "    </tr>\n",
       "    <tr>\n",
       "      <th>2</th>\n",
       "      <td>0</td>\n",
       "      <td>1</td>\n",
       "      <td>1</td>\n",
       "      <td>Земля же была безвидна и пуста, и тьма над без...</td>\n",
       "      <td>O</td>\n",
       "      <td>Gen</td>\n",
       "      <td>1</td>\n",
       "    </tr>\n",
       "    <tr>\n",
       "      <th>3</th>\n",
       "      <td>0</td>\n",
       "      <td>1</td>\n",
       "      <td>1</td>\n",
       "      <td>И сказал Бог: да будет свет. И стал свет.</td>\n",
       "      <td>O</td>\n",
       "      <td>Gen</td>\n",
       "      <td>1</td>\n",
       "    </tr>\n",
       "    <tr>\n",
       "      <th>4</th>\n",
       "      <td>0</td>\n",
       "      <td>1</td>\n",
       "      <td>1</td>\n",
       "      <td>И увидел Бог свет, что он хорош, и отделил Бог...</td>\n",
       "      <td>O</td>\n",
       "      <td>Gen</td>\n",
       "      <td>1</td>\n",
       "    </tr>\n",
       "    <tr>\n",
       "      <th>5</th>\n",
       "      <td>0</td>\n",
       "      <td>1</td>\n",
       "      <td>1</td>\n",
       "      <td>И назвал Бог свет днем, а тьму ночью. И был ве...</td>\n",
       "      <td>O</td>\n",
       "      <td>Gen</td>\n",
       "      <td>1</td>\n",
       "    </tr>\n",
       "    <tr>\n",
       "      <th>...</th>\n",
       "      <td>...</td>\n",
       "      <td>...</td>\n",
       "      <td>...</td>\n",
       "      <td>...</td>\n",
       "      <td>...</td>\n",
       "      <td>...</td>\n",
       "      <td>...</td>\n",
       "    </tr>\n",
       "    <tr>\n",
       "      <th>37106</th>\n",
       "      <td>1</td>\n",
       "      <td>76</td>\n",
       "      <td>1361</td>\n",
       "      <td>И Дух и невеста говорят: прииди! И слышавший д...</td>\n",
       "      <td>N</td>\n",
       "      <td>Rev</td>\n",
       "      <td>22</td>\n",
       "    </tr>\n",
       "    <tr>\n",
       "      <th>37107</th>\n",
       "      <td>1</td>\n",
       "      <td>76</td>\n",
       "      <td>1361</td>\n",
       "      <td>И я также свидетельствую всякому слышащему сло...</td>\n",
       "      <td>N</td>\n",
       "      <td>Rev</td>\n",
       "      <td>22</td>\n",
       "    </tr>\n",
       "    <tr>\n",
       "      <th>37108</th>\n",
       "      <td>1</td>\n",
       "      <td>76</td>\n",
       "      <td>1361</td>\n",
       "      <td>и если кто отнимет что от слов книги пророчест...</td>\n",
       "      <td>N</td>\n",
       "      <td>Rev</td>\n",
       "      <td>22</td>\n",
       "    </tr>\n",
       "    <tr>\n",
       "      <th>37109</th>\n",
       "      <td>1</td>\n",
       "      <td>76</td>\n",
       "      <td>1361</td>\n",
       "      <td>Свидетельствующий сие говорит: ей, гряду скоро...</td>\n",
       "      <td>N</td>\n",
       "      <td>Rev</td>\n",
       "      <td>22</td>\n",
       "    </tr>\n",
       "    <tr>\n",
       "      <th>37110</th>\n",
       "      <td>1</td>\n",
       "      <td>76</td>\n",
       "      <td>1361</td>\n",
       "      <td>Благодать Господа нашего Иисуса Христа со всем...</td>\n",
       "      <td>N</td>\n",
       "      <td>Rev</td>\n",
       "      <td>22</td>\n",
       "    </tr>\n",
       "  </tbody>\n",
       "</table>\n",
       "<p>37110 rows × 7 columns</p>\n",
       "</div>"
      ],
      "text/plain": [
       "       t_id  b_id  c_id                                               text  \\\n",
       "v_id                                                                         \n",
       "1         0     1     1                В начале сотворил Бог небо и землю.   \n",
       "2         0     1     1  Земля же была безвидна и пуста, и тьма над без...   \n",
       "3         0     1     1          И сказал Бог: да будет свет. И стал свет.   \n",
       "4         0     1     1  И увидел Бог свет, что он хорош, и отделил Бог...   \n",
       "5         0     1     1  И назвал Бог свет днем, а тьму ночью. И был ве...   \n",
       "...     ...   ...   ...                                                ...   \n",
       "37106     1    76  1361  И Дух и невеста говорят: прииди! И слышавший д...   \n",
       "37107     1    76  1361  И я также свидетельствую всякому слышащему сло...   \n",
       "37108     1    76  1361  и если кто отнимет что от слов книги пророчест...   \n",
       "37109     1    76  1361  Свидетельствующий сие говорит: ей, гряду скоро...   \n",
       "37110     1    76  1361  Благодать Господа нашего Иисуса Христа со всем...   \n",
       "\n",
       "      test book  chap  \n",
       "v_id                   \n",
       "1        O  Gen     1  \n",
       "2        O  Gen     1  \n",
       "3        O  Gen     1  \n",
       "4        O  Gen     1  \n",
       "5        O  Gen     1  \n",
       "...    ...  ...   ...  \n",
       "37106    N  Rev    22  \n",
       "37107    N  Rev    22  \n",
       "37108    N  Rev    22  \n",
       "37109    N  Rev    22  \n",
       "37110    N  Rev    22  \n",
       "\n",
       "[37110 rows x 7 columns]"
      ]
     },
     "execution_count": 12,
     "metadata": {},
     "output_type": "execute_result"
    }
   ],
   "source": [
    "bibliiaDf = pd.merge(bibliiaDf, ChapsDf.reset_index()[['book', 'chap', 'c_id']], on=['book', 'chap'], how='inner')\n",
    "bibliiaDf['v_id'] = bibliiaDf.index.to_series().apply(lambda x: x+1)\n",
    "bibliiaDf = bibliiaDf.set_index('v_id')[['t_id', 'b_id', 'c_id', 'text', 'test', 'book', 'chap']]\n",
    "bibliiaDf"
   ]
  },
  {
   "cell_type": "code",
   "execution_count": 13,
   "id": "9341e131-d44f-4779-9b85-32c4b1acec6c",
   "metadata": {},
   "outputs": [],
   "source": [
    "bibliiaDf.to_json(bibleIdJSON, orient='index')"
   ]
  },
  {
   "cell_type": "markdown",
   "id": "090af10f",
   "metadata": {},
   "source": [
    "### Make XML"
   ]
  },
  {
   "cell_type": "raw",
   "id": "b12b79a8",
   "metadata": {},
   "source": [
    "bibliiaDf.reset_index().loc[:20].to_xml(index=True, root_name='bible', attr_cols=bibleOHCO, elem_cols=['text'])"
   ]
  },
  {
   "cell_type": "raw",
   "id": "6cc59b28",
   "metadata": {},
   "source": [
    "bibliiaDf.reset_index().to_xml(path_or_buffer=bibleXML, index=False, root_name='bible', attr_cols=bibleOHCO, elem_cols=['text'])"
   ]
  },
  {
   "cell_type": "code",
   "execution_count": null,
   "id": "c05f0619-2a33-40e9-a56c-dd839813f411",
   "metadata": {},
   "outputs": [],
   "source": [
    "bibliiaDf.reset_index().set_index(bibleOHCO[:4])"
   ]
  },
  {
   "cell_type": "code",
   "execution_count": null,
   "id": "0bfed5fa",
   "metadata": {
    "tags": []
   },
   "outputs": [],
   "source": [
    "\n",
    "#bibleTree = etree.ElementTree()"
   ]
  },
  {
   "cell_type": "code",
   "execution_count": null,
   "id": "4e4696d1",
   "metadata": {},
   "outputs": [],
   "source": [
    "root = etree.Element(\"bible\")\n",
    "print(root.tag)\n",
    "TestList = [x for x in bibliiaDf.test.unique()]\n",
    "BookList = [x for x in bibliiaDf.book.unique()]\n",
    "for test in range(len(TestList)): \n",
    "    root.append(etree.Element(\"t\", name=TestList[test]))\n",
    "    #for book in list(bibliiaDf.loc[bibliiaDf.test == test].book.unique()): \n",
    "        #test.append(etree.Element(\"b\", name=book))\n",
    "etree.tostring(root, pretty_print=True)"
   ]
  },
  {
   "cell_type": "code",
   "execution_count": null,
   "id": "417a033f-3708-471c-806c-2793cb72e794",
   "metadata": {},
   "outputs": [],
   "source": [
    "root[0].attrib"
   ]
  },
  {
   "cell_type": "code",
   "execution_count": null,
   "id": "98dec3e7-d3cc-41ca-8efe-28c111c154c4",
   "metadata": {},
   "outputs": [],
   "source": [
    "for test in range(len(TestList)): \n",
    "    print(f\"{TestList[test]}\")"
   ]
  },
  {
   "cell_type": "code",
   "execution_count": null,
   "id": "2ff87e7d-41c5-44ec-8cad-a09ae554d244",
   "metadata": {
    "tags": []
   },
   "outputs": [],
   "source": [
    "bibliiaDf"
   ]
  },
  {
   "cell_type": "code",
   "execution_count": null,
   "id": "4c6024a3",
   "metadata": {},
   "outputs": [],
   "source": [
    "root.append(etree.Element(\"testament\"))"
   ]
  },
  {
   "cell_type": "code",
   "execution_count": null,
   "id": "dfe47bf6",
   "metadata": {},
   "outputs": [],
   "source": [
    "root.append(etree.Element(\"\"))"
   ]
  },
  {
   "cell_type": "code",
   "execution_count": null,
   "id": "0cd0d8fc",
   "metadata": {},
   "outputs": [],
   "source": [
    "etree.tostring(root, pretty_print=True)"
   ]
  },
  {
   "cell_type": "markdown",
   "id": "d95bca5a-c656-416c-a340-c39f6a9c237f",
   "metadata": {},
   "source": [
    "## Token DFs"
   ]
  },
  {
   "cell_type": "raw",
   "id": "2837ee73",
   "metadata": {
    "jupyter": {
     "source_hidden": true
    },
    "tags": []
   },
   "source": [
    "# function for applying all of natasha's morphological tagger components to tokens to make a TokenDf\n",
    "def nat_parse(textDf=BibTextDf, textCol='text', columns=tokenCols): \n",
    "    # initialize token dataframe\n",
    "    tokenDf = pd.DataFrame(columns=columns)\n",
    "    # gather row list\n",
    "    for an_id in textDf.index: \n",
    "        pDict = []\n",
    "        doc = Doc(textDf.loc[an_id][textCol])\n",
    "        doc.segment(segmenter)\n",
    "        doc.tag_morph(morph_tagger)\n",
    "        for token in doc.tokens: \n",
    "            token.lemmatize(morph_vocab)\n",
    "        doc.parse_syntax(syntax_parser)\n",
    "        doc.tag_ner(ner_tagger)\n",
    "        #for sent in enumerate(doc.sents): \n",
    "        #sent_num = sent[0]\n",
    "        #sent_text = sent[1]\n",
    "        for token in [x for x in doc.tokens if x.pos != 'PUNCT']: \n",
    "            #token_num = token[0]\n",
    "            #token_text = token[1]\n",
    "            start = token.start\n",
    "            stop = token.stop\n",
    "            text = token.text\n",
    "            token_id = token.id\n",
    "            head_id = token.head_id\n",
    "            rel = token.rel\n",
    "            pos = token.pos\n",
    "            lemma = token.lemma\n",
    "            # Animacy, Aspect, Case, Degree, Gender, Mood, Number, Person, Tense, VerbForm, Voice\n",
    "            try: \n",
    "                anim = token.feats['Animacy']\n",
    "            except: \n",
    "                anim = None\n",
    "            try: \n",
    "                aspect = token.feats['Aspect']\n",
    "            except: \n",
    "                aspect = None\n",
    "            try: \n",
    "                case = token.feats['Case']\n",
    "            except: \n",
    "                case = None\n",
    "            try: \n",
    "                degree = token.feats['Degree']\n",
    "            except: \n",
    "                degree = None\n",
    "            try: \n",
    "                gender = token.feats['Gender']\n",
    "            except: \n",
    "                gender = None\n",
    "            try: \n",
    "                mood = token.feats['Mood']\n",
    "            except: \n",
    "                mood = None\n",
    "            try: \n",
    "                number = token.feats['Number']\n",
    "            except: \n",
    "                number = None\n",
    "            try: \n",
    "                person = token.feats['Person']\n",
    "            except: \n",
    "                person = None\n",
    "            try: \n",
    "                tense = token.feats['Tense']\n",
    "            except: \n",
    "                tense = None\n",
    "            try: \n",
    "                verb_form = token.feats['VerbForm']\n",
    "            except: \n",
    "                verb_form = None\n",
    "            try: \n",
    "                voice = token.feats['Voice']\n",
    "            except: \n",
    "                voice = None\n",
    "            #print(token)\n",
    "            tokenDict = {\n",
    "                'p_id': an_id,\n",
    "                #'token_num': token_num, \n",
    "                'start': start, \n",
    "                'stop': stop, \n",
    "                'text': text, \n",
    "                'token_id': token_id, \n",
    "                'head_id': head_id, \n",
    "                'rel': rel, \n",
    "                'pos': pos, \n",
    "                'lemma': lemma, \n",
    "                'anim': anim, \n",
    "                'aspect': aspect, \n",
    "                'case': case, \n",
    "                'degree': degree, \n",
    "                'gender': gender, \n",
    "                'mood': mood, \n",
    "                'number': number, \n",
    "                'person': person, \n",
    "                'tense': tense, \n",
    "                'verb_form': verb_form, \n",
    "                'voice': voice\n",
    "            }\n",
    "            pDict.append(tokenDict)\n",
    "            #print(sent)\n",
    "            pDf = pd.DataFrame(pDict, columns=columns)\n",
    "        tokenDf = pd.concat([tokenDf, pDf])\n",
    "    return tokenDf"
   ]
  },
  {
   "cell_type": "code",
   "execution_count": null,
   "id": "8c4cd6c3",
   "metadata": {},
   "outputs": [],
   "source": [
    "%%time\n",
    "ChapsTokenDf = nat_parse(ChapsDf)"
   ]
  },
  {
   "cell_type": "code",
   "execution_count": null,
   "id": "f1e08f88",
   "metadata": {},
   "outputs": [],
   "source": [
    "%%time\n",
    "VerseTokenDf = nat_parse(BibTextDf)"
   ]
  },
  {
   "cell_type": "code",
   "execution_count": null,
   "id": "882ead04",
   "metadata": {},
   "outputs": [],
   "source": [
    "VerseTokenDf"
   ]
  },
  {
   "cell_type": "code",
   "execution_count": null,
   "id": "0197e42c",
   "metadata": {},
   "outputs": [],
   "source": [
    "VerseTokenDf.to_pickle('./proc/BibleVerseTokenDf.pkl')"
   ]
  },
  {
   "cell_type": "code",
   "execution_count": null,
   "id": "572e9a7f",
   "metadata": {},
   "outputs": [],
   "source": [
    "tokenDf = pd.read_pickle('./proc/BibleTokenDf.pkl')\n",
    "tokenDf.set_index(['v_id', 'token_id'])"
   ]
  },
  {
   "cell_type": "code",
   "execution_count": null,
   "id": "56e1d566",
   "metadata": {},
   "outputs": [],
   "source": [
    "tokenDf.query(\"pos == 'PRON'\").lemma.unique()"
   ]
  },
  {
   "cell_type": "code",
   "execution_count": null,
   "id": "157277eb",
   "metadata": {},
   "outputs": [],
   "source": [
    "ChapsTokenDf.set_index(['p_id', 'token_id'])"
   ]
  },
  {
   "cell_type": "code",
   "execution_count": null,
   "id": "afc377f4",
   "metadata": {},
   "outputs": [],
   "source": [
    "ChapsTokenDf.query(\"pos == 'PRON'\").lemma.unique()"
   ]
  },
  {
   "cell_type": "code",
   "execution_count": null,
   "id": "845b0497",
   "metadata": {},
   "outputs": [],
   "source": [
    "%%time\n",
    "TokenDf = nat_parse(BibTextDf).set_index(['p_id', 'token_num'])"
   ]
  },
  {
   "cell_type": "code",
   "execution_count": null,
   "id": "394b8167",
   "metadata": {},
   "outputs": [],
   "source": [
    "TokenDf.to_pickle('./proc/BibleTokenDf.pkl')"
   ]
  },
  {
   "cell_type": "raw",
   "id": "954df7a5",
   "metadata": {
    "jupyter": {
     "source_hidden": true
    },
    "tags": []
   },
   "source": [
    "%%time\n",
    "with requests.get(\"https://ru.wikipedia.org/wiki/Книги_Библии\") as r: \n",
    "    if r.status_code == 200: \n",
    "        s = BeautifulSoup(r.content, 'html.parser')\n",
    "    else: \n",
    "        print(r.status_code)\n",
    "\n",
    "n=0\n",
    "booksDict = {}\n",
    "\n",
    "for book_row in s.find_all('table')[1].find_all('tr')[2:]: \n",
    "    try: \n",
    "        bookDict = {\n",
    "            \"rus_name\": book_row.find('td').text,\n",
    "            #\"lat_name\": book_row.find_all('td')[1].text,\n",
    "            \"eng_name\": book_row.find_all('td')[2].text,\n",
    "            #\"gre_name\": book_row.find_all('td')[3].text,\n",
    "            \"rus_abbr\": re.search(r'\\w+', book_row.find_all('td')[4].text).group(),\n",
    "            \"eng_abbr\": book_row.find_all('td')[5].text\n",
    "        }\n",
    "        booksDict.update({n: bookDict})\n",
    "        n+=1\n",
    "    except: \n",
    "        pass\n",
    "\n",
    "for book_row in s.find_all('table')[2].find_all('tr')[2:]: \n",
    "    if book_row.find('td').find('a').text != 'Четвёртая книга Маккавейская':\n",
    "        bookDict = {\n",
    "            \"rus_name\": book_row.find('td').find('a').text,\n",
    "            #\"lat_name\": book_row.find_all('td')[3].text,\n",
    "            \"eng_name\": book_row.find_all('td')[4].text.replace('\\n','')\n",
    "        }\n",
    "        booksDict.update({n: bookDict})\n",
    "        n+=1\n",
    "        \n",
    "for book_row in s.find_all('table')[3].find_all('tr')[2:]: \n",
    "    bookDict = {\n",
    "        \"rus_name\": book_row.find('td').find('a').text,\n",
    "        #\"lat_name\": book_row.find_all('td')[3].text,\n",
    "        \"eng_name\": book_row.find_all('td')[4].text.replace('\\n',''),\n",
    "        #print(f\"rus_abbr: {book_row.find_all('td')[5].text}\"),\n",
    "        #print(f\"eng_abbr: {book_row.find_all('td')[6].text}\"),\n",
    "        \"rus_abbr\": re.search(r'^\\d?\\s?\\w+', book_row.find_all('td')[5].text).group(),\n",
    "        \"eng_abbr\": re.search(r'^\\d?\\s?\\w+', book_row.find_all('td')[6].text).group()\n",
    "    }\n",
    "    booksDict.update({n: bookDict})\n",
    "    n+=1\n",
    "print(booksDict)"
   ]
  }
 ],
 "metadata": {
  "kernelspec": {
   "display_name": "Python 3 (ipykernel)",
   "language": "python",
   "name": "python3"
  },
  "language_info": {
   "codemirror_mode": {
    "name": "ipython",
    "version": 3
   },
   "file_extension": ".py",
   "mimetype": "text/x-python",
   "name": "python",
   "nbconvert_exporter": "python",
   "pygments_lexer": "ipython3",
   "version": "3.9.6"
  }
 },
 "nbformat": 4,
 "nbformat_minor": 5
}
