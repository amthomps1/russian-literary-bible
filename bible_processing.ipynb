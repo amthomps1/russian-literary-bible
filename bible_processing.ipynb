{
 "cells": [
  {
   "cell_type": "markdown",
   "id": "b72eaf11-1cdd-4065-8727-b1e8c1f25022",
   "metadata": {},
   "source": [
    "# Russian Synodal Bible (1885)"
   ]
  },
  {
   "cell_type": "markdown",
   "id": "2ca910a8-a16a-4133-b377-a6de4221ab82",
   "metadata": {},
   "source": [
    "## Import"
   ]
  },
  {
   "cell_type": "markdown",
   "id": "f87d80a5-fa3a-4149-aa4f-8c2456c9e25c",
   "metadata": {},
   "source": [
    "### Libraries"
   ]
  },
  {
   "cell_type": "code",
   "execution_count": 1,
   "id": "1122fa31-c7f7-4d78-909c-266e5d4979cf",
   "metadata": {},
   "outputs": [],
   "source": [
    "import os\n",
    "import re\n",
    "import json\n",
    "import time\n",
    "import numpy as np\n",
    "import pandas as pd \n",
    "#import natasha\n",
    "#from natasha import Segmenter, MorphVocab, NewsEmbedding, NewsMorphTagger, NewsSyntaxParser, NewsNERTagger, PER, NamesExtractor, Doc"
   ]
  },
  {
   "cell_type": "raw",
   "id": "8d8e4a61-a2e9-4415-b10e-9b07c2f3163d",
   "metadata": {},
   "source": [
    "segmenter = Segmenter()\n",
    "morph_vocab = MorphVocab()\n",
    "emb = NewsEmbedding()\n",
    "morph_tagger = NewsMorphTagger(emb)\n",
    "syntax_parser = NewsSyntaxParser(emb)\n",
    "ner_tagger = NewsNERTagger(emb)\n",
    "names_extractor = NamesExtractor(morph_vocab)"
   ]
  },
  {
   "cell_type": "markdown",
   "id": "6c5d907e-05ce-4045-b8fa-4b34c4cff418",
   "metadata": {},
   "source": [
    "### Definitions"
   ]
  },
  {
   "cell_type": "code",
   "execution_count": 2,
   "id": "5eaca43d-292a-44e3-b86b-0dc6af9499d6",
   "metadata": {},
   "outputs": [],
   "source": [
    "texts = './texts/fiction/'\n",
    "bibleTXT = './texts/bible/bibliya-sinodalnyy-perevod.txt'\n",
    "libCols = ['author','pub_year','title','text']\n",
    "tokenOHCO = ['title','part_num','para_num', 'sent_num', 'token_num']\n",
    "bibleOHCO = ['test', 'book', 'chap', 'verse']\n",
    "bibleJSON = './texts/bible/bible.json'"
   ]
  },
  {
   "cell_type": "markdown",
   "id": "ad9f9f93-73ef-4324-a6d9-ab4e0e423105",
   "metadata": {
    "tags": []
   },
   "source": [
    "## Pre-Processing"
   ]
  },
  {
   "cell_type": "markdown",
   "id": "d9e118f9-828e-4693-9fbb-e7d96063dd7e",
   "metadata": {
    "tags": []
   },
   "source": [
    "### Import Text into DF"
   ]
  },
  {
   "cell_type": "code",
   "execution_count": 3,
   "id": "5f03ba4c-dba3-4ce3-b485-28ac4a842681",
   "metadata": {
    "tags": []
   },
   "outputs": [
    {
     "data": {
      "text/html": [
       "<div>\n",
       "<style scoped>\n",
       "    .dataframe tbody tr th:only-of-type {\n",
       "        vertical-align: middle;\n",
       "    }\n",
       "\n",
       "    .dataframe tbody tr th {\n",
       "        vertical-align: top;\n",
       "    }\n",
       "\n",
       "    .dataframe thead th {\n",
       "        text-align: right;\n",
       "    }\n",
       "</style>\n",
       "<table border=\"1\" class=\"dataframe\">\n",
       "  <thead>\n",
       "    <tr style=\"text-align: right;\">\n",
       "      <th></th>\n",
       "      <th>text</th>\n",
       "    </tr>\n",
       "  </thead>\n",
       "  <tbody>\n",
       "    <tr>\n",
       "      <th>0</th>\n",
       "      <td>Библия. Синодальный перевод\\n</td>\n",
       "    </tr>\n",
       "    <tr>\n",
       "      <th>1</th>\n",
       "      <td>Священное Писание \\n</td>\n",
       "    </tr>\n",
       "    <tr>\n",
       "      <th>2</th>\n",
       "      <td>\\n</td>\n",
       "    </tr>\n",
       "    <tr>\n",
       "      <th>3</th>\n",
       "      <td>\\n</td>\n",
       "    </tr>\n",
       "    <tr>\n",
       "      <th>4</th>\n",
       "      <td>Перевод Библии на русский язык осуществлялся С...</td>\n",
       "    </tr>\n",
       "    <tr>\n",
       "      <th>...</th>\n",
       "      <td>...</td>\n",
       "    </tr>\n",
       "    <tr>\n",
       "      <th>191107</th>\n",
       "      <td>\\n</td>\n",
       "    </tr>\n",
       "    <tr>\n",
       "      <th>191108</th>\n",
       "      <td>\\n</td>\n",
       "    </tr>\n",
       "    <tr>\n",
       "      <th>191109</th>\n",
       "      <td>Подир — длинная одежда Иудейских первосвященни...</td>\n",
       "    </tr>\n",
       "    <tr>\n",
       "      <th>191110</th>\n",
       "      <td>\\n</td>\n",
       "    </tr>\n",
       "    <tr>\n",
       "      <th>191111</th>\n",
       "      <td>\\n</td>\n",
       "    </tr>\n",
       "  </tbody>\n",
       "</table>\n",
       "<p>191112 rows × 1 columns</p>\n",
       "</div>"
      ],
      "text/plain": [
       "                                                     text\n",
       "0                           Библия. Синодальный перевод\\n\n",
       "1                                    Священное Писание \\n\n",
       "2                                                      \\n\n",
       "3                                                      \\n\n",
       "4       Перевод Библии на русский язык осуществлялся С...\n",
       "...                                                   ...\n",
       "191107                                                 \\n\n",
       "191108                                                 \\n\n",
       "191109  Подир — длинная одежда Иудейских первосвященни...\n",
       "191110                                                 \\n\n",
       "191111                                                 \\n\n",
       "\n",
       "[191112 rows x 1 columns]"
      ]
     },
     "execution_count": 3,
     "metadata": {},
     "output_type": "execute_result"
    }
   ],
   "source": [
    "with open(bibleTXT, 'r', encoding='windows-1251') as f: \n",
    "    bibleText = f.readlines()\n",
    "\n",
    "bibliiaDf = pd.DataFrame(bibleText).rename(columns={0:'text'}).dropna()\n",
    "bibliiaDf"
   ]
  },
  {
   "cell_type": "markdown",
   "id": "cefd4378-cf17-4bd5-adb5-255b96cf1668",
   "metadata": {
    "tags": []
   },
   "source": [
    "### Find Parts"
   ]
  },
  {
   "cell_type": "code",
   "execution_count": 4,
   "id": "06f40bf2-89b5-43c2-985c-007b2eeef8e9",
   "metadata": {
    "tags": []
   },
   "outputs": [],
   "source": [
    "cont_line = bibliiaDf.loc[bibliiaDf.text.str.contains('Оглавление')].index[0]\n",
    "OT_line = bibliiaDf.loc[bibliiaDf.text.str.contains('Книги Ветхого Завета')].index[0]\n",
    "NT_line = bibliiaDf.loc[bibliiaDf.text.str.contains('Книги Нового Завета')].index[0]\n",
    "end_line = bibliiaDf.loc[bibliiaDf.text.str.contains('notes')].index[0]\n",
    "vz_line = bibliiaDf.loc[bibliiaDf.text.str.contains('Ветхий Завет')].index[0]\n",
    "nz_line = bibliiaDf.loc[bibliiaDf.text.str.contains('Новый Завет')].index[0]"
   ]
  },
  {
   "cell_type": "markdown",
   "id": "984f7ddc-f346-4b0a-8687-2aa8ee06f6a5",
   "metadata": {
    "tags": []
   },
   "source": [
    "### Tidy Up"
   ]
  },
  {
   "cell_type": "code",
   "execution_count": 5,
   "id": "db49a4d4-7449-4fde-9d1c-67e41db5081d",
   "metadata": {
    "tags": []
   },
   "outputs": [
    {
     "name": "stderr",
     "output_type": "stream",
     "text": [
      "<ipython-input-5-13627834583f>:2: FutureWarning: The default value of regex will change from True to False in a future version.\n",
      "  bibliiaDf.loc[:,'text'] = bibliiaDf.loc[:,'text'].str.replace(r'\\n', '')\n",
      "/usr/lib/python3.9/site-packages/pandas/core/indexing.py:1843: SettingWithCopyWarning: \n",
      "A value is trying to be set on a copy of a slice from a DataFrame.\n",
      "Try using .loc[row_indexer,col_indexer] = value instead\n",
      "\n",
      "See the caveats in the documentation: https://pandas.pydata.org/pandas-docs/stable/user_guide/indexing.html#returning-a-view-versus-a-copy\n",
      "  self.obj[item_labels[indexer[info_axis]]] = value\n",
      "<ipython-input-5-13627834583f>:3: FutureWarning: The default value of regex will change from True to False in a future version.\n",
      "  bibliiaDf.loc[:,'text'] = bibliiaDf.loc[:,'text'].str.replace(r'\\xa0', '')\n"
     ]
    },
    {
     "data": {
      "text/html": [
       "<div>\n",
       "<style scoped>\n",
       "    .dataframe tbody tr th:only-of-type {\n",
       "        vertical-align: middle;\n",
       "    }\n",
       "\n",
       "    .dataframe tbody tr th {\n",
       "        vertical-align: top;\n",
       "    }\n",
       "\n",
       "    .dataframe thead th {\n",
       "        text-align: right;\n",
       "    }\n",
       "</style>\n",
       "<table border=\"1\" class=\"dataframe\">\n",
       "  <thead>\n",
       "    <tr style=\"text-align: right;\">\n",
       "      <th></th>\n",
       "      <th>text</th>\n",
       "    </tr>\n",
       "  </thead>\n",
       "  <tbody>\n",
       "    <tr>\n",
       "      <th>0</th>\n",
       "      <td>Библия. Синодальный перевод</td>\n",
       "    </tr>\n",
       "    <tr>\n",
       "      <th>1</th>\n",
       "      <td>Священное Писание</td>\n",
       "    </tr>\n",
       "    <tr>\n",
       "      <th>4</th>\n",
       "      <td>Перевод Библии на русский язык осуществлялся С...</td>\n",
       "    </tr>\n",
       "    <tr>\n",
       "      <th>10</th>\n",
       "      <td>БИБЛИЯ</td>\n",
       "    </tr>\n",
       "    <tr>\n",
       "      <th>12</th>\n",
       "      <td>Книги Священного Писания Ветхого и Нового Завета</td>\n",
       "    </tr>\n",
       "    <tr>\n",
       "      <th>...</th>\n",
       "      <td>...</td>\n",
       "    </tr>\n",
       "    <tr>\n",
       "      <th>191093</th>\n",
       "      <td>Обращенные из язычников.</td>\n",
       "    </tr>\n",
       "    <tr>\n",
       "      <th>191098</th>\n",
       "      <td>54</td>\n",
       "    </tr>\n",
       "    <tr>\n",
       "      <th>191101</th>\n",
       "      <td>Евреи из стран языческих.</td>\n",
       "    </tr>\n",
       "    <tr>\n",
       "      <th>191106</th>\n",
       "      <td>55</td>\n",
       "    </tr>\n",
       "    <tr>\n",
       "      <th>191109</th>\n",
       "      <td>Подир — длинная одежда Иудейских первосвященни...</td>\n",
       "    </tr>\n",
       "  </tbody>\n",
       "</table>\n",
       "<p>38826 rows × 1 columns</p>\n",
       "</div>"
      ],
      "text/plain": [
       "                                                     text\n",
       "0                             Библия. Синодальный перевод\n",
       "1                                      Священное Писание \n",
       "4       Перевод Библии на русский язык осуществлялся С...\n",
       "10                                                 БИБЛИЯ\n",
       "12       Книги Священного Писания Ветхого и Нового Завета\n",
       "...                                                   ...\n",
       "191093                           Обращенные из язычников.\n",
       "191098                                                 54\n",
       "191101                          Евреи из стран языческих.\n",
       "191106                                                 55\n",
       "191109  Подир — длинная одежда Иудейских первосвященни...\n",
       "\n",
       "[38826 rows x 1 columns]"
      ]
     },
     "execution_count": 5,
     "metadata": {},
     "output_type": "execute_result"
    }
   ],
   "source": [
    "bibliiaDf = bibliiaDf.loc[bibliiaDf.text != '\\n']\n",
    "bibliiaDf.loc[:,'text'] = bibliiaDf.loc[:,'text'].str.replace(r'\\n', '')\n",
    "bibliiaDf.loc[:,'text'] = bibliiaDf.loc[:,'text'].str.replace(r'\\xa0', '')\n",
    "bibliiaDf"
   ]
  },
  {
   "cell_type": "markdown",
   "id": "a9ae56a9-74d1-44b2-bc76-697264bac263",
   "metadata": {
    "tags": []
   },
   "source": [
    "### Make Dict of Outline"
   ]
  },
  {
   "cell_type": "markdown",
   "id": "caff2169-aff1-4717-a559-a935c2b6e0a7",
   "metadata": {
    "tags": []
   },
   "source": [
    "{Testament: {Book: abbr}}"
   ]
  },
  {
   "cell_type": "code",
   "execution_count": 6,
   "id": "8cb65785-8cc3-43fa-ad09-34b5d784e7db",
   "metadata": {
    "tags": []
   },
   "outputs": [
    {
     "name": "stderr",
     "output_type": "stream",
     "text": [
      "/usr/lib/python3.9/site-packages/pandas/core/frame.py:3191: SettingWithCopyWarning: \n",
      "A value is trying to be set on a copy of a slice from a DataFrame.\n",
      "Try using .loc[row_indexer,col_indexer] = value instead\n",
      "\n",
      "See the caveats in the documentation: https://pandas.pydata.org/pandas-docs/stable/user_guide/indexing.html#returning-a-view-versus-a-copy\n",
      "  self[k1] = value[k2]\n"
     ]
    }
   ],
   "source": [
    "abbrevsDf = bibliiaDf.loc[vz_line+1:OT_line-1]\n",
    "abbrevsDf[['abbr', 'title']] = abbrevsDf.loc[:,'text'].str.extract(r'^(\\[.*\\]) (.*)$', expand=True)\n",
    "abbrevsDf = abbrevsDf.drop(['text'], axis=1)\n",
    "bibliiaDict = {\n",
    "    'Ветхий Завет': dict(zip(abbrevsDf.loc[vz_line+1:nz_line-1].title.str.strip(' '), abbrevsDf.loc[vz_line+1:nz_line-1].abbr.str.strip(r'[|]'))), \n",
    "    'Новый Завет': dict(zip(abbrevsDf.loc[nz_line+1:OT_line-1].title.str.strip(' '), abbrevsDf.loc[nz_line+1:OT_line-1].abbr.str.strip(r'[|]')))\n",
    "}\n",
    "del abbrevsDf"
   ]
  },
  {
   "cell_type": "markdown",
   "id": "e3eb85ea-66ec-426e-b609-91fd8c596df2",
   "metadata": {
    "tags": []
   },
   "source": [
    "### Assign Testament Label"
   ]
  },
  {
   "cell_type": "code",
   "execution_count": 7,
   "id": "725621ee-1c40-403d-b10b-c0279caf06b4",
   "metadata": {
    "tags": []
   },
   "outputs": [
    {
     "name": "stderr",
     "output_type": "stream",
     "text": [
      "<ipython-input-7-204d3fa67429>:2: SettingWithCopyWarning: \n",
      "A value is trying to be set on a copy of a slice from a DataFrame.\n",
      "Try using .loc[row_indexer,col_indexer] = value instead\n",
      "\n",
      "See the caveats in the documentation: https://pandas.pydata.org/pandas-docs/stable/user_guide/indexing.html#returning-a-view-versus-a-copy\n",
      "  bibliiaDf['test'] = np.where(bibliiaDf.index<NT_line, 'OT', 'NT')\n"
     ]
    },
    {
     "data": {
      "text/html": [
       "<div>\n",
       "<style scoped>\n",
       "    .dataframe tbody tr th:only-of-type {\n",
       "        vertical-align: middle;\n",
       "    }\n",
       "\n",
       "    .dataframe tbody tr th {\n",
       "        vertical-align: top;\n",
       "    }\n",
       "\n",
       "    .dataframe thead th {\n",
       "        text-align: right;\n",
       "    }\n",
       "</style>\n",
       "<table border=\"1\" class=\"dataframe\">\n",
       "  <thead>\n",
       "    <tr style=\"text-align: right;\">\n",
       "      <th></th>\n",
       "      <th>text</th>\n",
       "      <th>test</th>\n",
       "    </tr>\n",
       "  </thead>\n",
       "  <tbody>\n",
       "    <tr>\n",
       "      <th>422</th>\n",
       "      <td>[Быт.] Первая книга Моисея. Бытие</td>\n",
       "      <td>OT</td>\n",
       "    </tr>\n",
       "    <tr>\n",
       "      <th>426</th>\n",
       "      <td>Глава 1</td>\n",
       "      <td>OT</td>\n",
       "    </tr>\n",
       "    <tr>\n",
       "      <th>431</th>\n",
       "      <td>В начале сотворил Бог небо и землю.</td>\n",
       "      <td>OT</td>\n",
       "    </tr>\n",
       "    <tr>\n",
       "      <th>436</th>\n",
       "      <td>Земля же была безвидна и пуста, и тьма над без...</td>\n",
       "      <td>OT</td>\n",
       "    </tr>\n",
       "    <tr>\n",
       "      <th>441</th>\n",
       "      <td>И сказал Бог: да будет свет. И стал свет.</td>\n",
       "      <td>OT</td>\n",
       "    </tr>\n",
       "    <tr>\n",
       "      <th>...</th>\n",
       "      <td>...</td>\n",
       "      <td>...</td>\n",
       "    </tr>\n",
       "    <tr>\n",
       "      <th>190641</th>\n",
       "      <td>И Дух и невеста говорят: прииди! И слышавший д...</td>\n",
       "      <td>NT</td>\n",
       "    </tr>\n",
       "    <tr>\n",
       "      <th>190646</th>\n",
       "      <td>И я также свидетельствую всякому слышащему сло...</td>\n",
       "      <td>NT</td>\n",
       "    </tr>\n",
       "    <tr>\n",
       "      <th>190651</th>\n",
       "      <td>и если кто отнимет что от слов книги пророчест...</td>\n",
       "      <td>NT</td>\n",
       "    </tr>\n",
       "    <tr>\n",
       "      <th>190656</th>\n",
       "      <td>Свидетельствующий сие говорит: ей, гряду скоро...</td>\n",
       "      <td>NT</td>\n",
       "    </tr>\n",
       "    <tr>\n",
       "      <th>190661</th>\n",
       "      <td>Благодать Господа нашего Иисуса Христа со всем...</td>\n",
       "      <td>NT</td>\n",
       "    </tr>\n",
       "  </tbody>\n",
       "</table>\n",
       "<p>38629 rows × 2 columns</p>\n",
       "</div>"
      ],
      "text/plain": [
       "                                                     text test\n",
       "422                     [Быт.] Первая книга Моисея. Бытие   OT\n",
       "426                                               Глава 1   OT\n",
       "431                   В начале сотворил Бог небо и землю.   OT\n",
       "436     Земля же была безвидна и пуста, и тьма над без...   OT\n",
       "441             И сказал Бог: да будет свет. И стал свет.   OT\n",
       "...                                                   ...  ...\n",
       "190641  И Дух и невеста говорят: прииди! И слышавший д...   NT\n",
       "190646  И я также свидетельствую всякому слышащему сло...   NT\n",
       "190651  и если кто отнимет что от слов книги пророчест...   NT\n",
       "190656  Свидетельствующий сие говорит: ей, гряду скоро...   NT\n",
       "190661  Благодать Господа нашего Иисуса Христа со всем...   NT\n",
       "\n",
       "[38629 rows x 2 columns]"
      ]
     },
     "execution_count": 7,
     "metadata": {},
     "output_type": "execute_result"
    }
   ],
   "source": [
    "bibliiaDf = bibliiaDf.loc[OT_line+1:end_line-1]\n",
    "bibliiaDf['test'] = np.where(bibliiaDf.index<NT_line, 'OT', 'NT')\n",
    "bibliiaDf"
   ]
  },
  {
   "cell_type": "markdown",
   "id": "589358de-fb80-47b4-bef3-0b23935024b9",
   "metadata": {
    "tags": []
   },
   "source": [
    "### Index All Parts"
   ]
  },
  {
   "cell_type": "code",
   "execution_count": 8,
   "id": "883442b1-7ec8-4f99-b138-979c4da32b2d",
   "metadata": {
    "tags": []
   },
   "outputs": [],
   "source": [
    "all_chaps = bibliiaDf.loc[bibliiaDf.text.str.contains(r'Глава \\d')]\n",
    "bibleBooks = [x for y in bibliiaDict.values() for x in y]\n",
    "bookAbbrs = [val[abbr] for key, val in bibliiaDict.items() for abbr in val]\n",
    "searchAbbrs = [r'^\\['+val[abbr]+'\\]' for key, val in bibliiaDict.items() for abbr in val]\n",
    "abbrsList = \"|\".join(searchAbbrs)\n",
    "books_index = bibliiaDf[bibliiaDf['text'].str.contains(abbrsList)].index\n",
    "books_map = list(zip(books_index, bookAbbrs))\n",
    "chaps_map = list(all_chaps.itertuples(name=None))"
   ]
  },
  {
   "cell_type": "markdown",
   "id": "d43181d6-d095-4b16-8b45-d34530b15899",
   "metadata": {
    "tags": []
   },
   "source": [
    "### Assign Book Label"
   ]
  },
  {
   "cell_type": "code",
   "execution_count": 9,
   "id": "a5ba6021-c3b5-433d-8d49-391c9cd6c987",
   "metadata": {
    "tags": []
   },
   "outputs": [
    {
     "name": "stderr",
     "output_type": "stream",
     "text": [
      "/usr/lib/python3.9/site-packages/pandas/core/indexing.py:1599: SettingWithCopyWarning: \n",
      "A value is trying to be set on a copy of a slice from a DataFrame.\n",
      "Try using .loc[row_indexer,col_indexer] = value instead\n",
      "\n",
      "See the caveats in the documentation: https://pandas.pydata.org/pandas-docs/stable/user_guide/indexing.html#returning-a-view-versus-a-copy\n",
      "  self.obj[key] = infer_fill_value(value)\n",
      "/usr/lib/python3.9/site-packages/pandas/core/indexing.py:1720: SettingWithCopyWarning: \n",
      "A value is trying to be set on a copy of a slice from a DataFrame.\n",
      "Try using .loc[row_indexer,col_indexer] = value instead\n",
      "\n",
      "See the caveats in the documentation: https://pandas.pydata.org/pandas-docs/stable/user_guide/indexing.html#returning-a-view-versus-a-copy\n",
      "  self._setitem_single_column(loc, value, pi)\n",
      "<ipython-input-9-fd74bf7fa7d3>:4: SettingWithCopyWarning: \n",
      "A value is trying to be set on a copy of a slice from a DataFrame.\n",
      "Try using .loc[row_indexer,col_indexer] = value instead\n",
      "\n",
      "See the caveats in the documentation: https://pandas.pydata.org/pandas-docs/stable/user_guide/indexing.html#returning-a-view-versus-a-copy\n",
      "  bibliiaDf['book'] = bibliiaDf.book.ffill()\n"
     ]
    },
    {
     "data": {
      "text/html": [
       "<div>\n",
       "<style scoped>\n",
       "    .dataframe tbody tr th:only-of-type {\n",
       "        vertical-align: middle;\n",
       "    }\n",
       "\n",
       "    .dataframe tbody tr th {\n",
       "        vertical-align: top;\n",
       "    }\n",
       "\n",
       "    .dataframe thead th {\n",
       "        text-align: right;\n",
       "    }\n",
       "</style>\n",
       "<table border=\"1\" class=\"dataframe\">\n",
       "  <thead>\n",
       "    <tr style=\"text-align: right;\">\n",
       "      <th></th>\n",
       "      <th>text</th>\n",
       "      <th>test</th>\n",
       "      <th>book</th>\n",
       "    </tr>\n",
       "  </thead>\n",
       "  <tbody>\n",
       "    <tr>\n",
       "      <th>426</th>\n",
       "      <td>Глава 1</td>\n",
       "      <td>OT</td>\n",
       "      <td>Быт.</td>\n",
       "    </tr>\n",
       "    <tr>\n",
       "      <th>431</th>\n",
       "      <td>В начале сотворил Бог небо и землю.</td>\n",
       "      <td>OT</td>\n",
       "      <td>Быт.</td>\n",
       "    </tr>\n",
       "    <tr>\n",
       "      <th>436</th>\n",
       "      <td>Земля же была безвидна и пуста, и тьма над без...</td>\n",
       "      <td>OT</td>\n",
       "      <td>Быт.</td>\n",
       "    </tr>\n",
       "    <tr>\n",
       "      <th>441</th>\n",
       "      <td>И сказал Бог: да будет свет. И стал свет.</td>\n",
       "      <td>OT</td>\n",
       "      <td>Быт.</td>\n",
       "    </tr>\n",
       "    <tr>\n",
       "      <th>446</th>\n",
       "      <td>И увидел Бог свет, что он хорош, и отделил Бог...</td>\n",
       "      <td>OT</td>\n",
       "      <td>Быт.</td>\n",
       "    </tr>\n",
       "    <tr>\n",
       "      <th>...</th>\n",
       "      <td>...</td>\n",
       "      <td>...</td>\n",
       "      <td>...</td>\n",
       "    </tr>\n",
       "    <tr>\n",
       "      <th>190641</th>\n",
       "      <td>И Дух и невеста говорят: прииди! И слышавший д...</td>\n",
       "      <td>NT</td>\n",
       "      <td>Откр.</td>\n",
       "    </tr>\n",
       "    <tr>\n",
       "      <th>190646</th>\n",
       "      <td>И я также свидетельствую всякому слышащему сло...</td>\n",
       "      <td>NT</td>\n",
       "      <td>Откр.</td>\n",
       "    </tr>\n",
       "    <tr>\n",
       "      <th>190651</th>\n",
       "      <td>и если кто отнимет что от слов книги пророчест...</td>\n",
       "      <td>NT</td>\n",
       "      <td>Откр.</td>\n",
       "    </tr>\n",
       "    <tr>\n",
       "      <th>190656</th>\n",
       "      <td>Свидетельствующий сие говорит: ей, гряду скоро...</td>\n",
       "      <td>NT</td>\n",
       "      <td>Откр.</td>\n",
       "    </tr>\n",
       "    <tr>\n",
       "      <th>190661</th>\n",
       "      <td>Благодать Господа нашего Иисуса Христа со всем...</td>\n",
       "      <td>NT</td>\n",
       "      <td>Откр.</td>\n",
       "    </tr>\n",
       "  </tbody>\n",
       "</table>\n",
       "<p>38553 rows × 3 columns</p>\n",
       "</div>"
      ],
      "text/plain": [
       "                                                     text test   book\n",
       "426                                               Глава 1   OT   Быт.\n",
       "431                   В начале сотворил Бог небо и землю.   OT   Быт.\n",
       "436     Земля же была безвидна и пуста, и тьма над без...   OT   Быт.\n",
       "441             И сказал Бог: да будет свет. И стал свет.   OT   Быт.\n",
       "446     И увидел Бог свет, что он хорош, и отделил Бог...   OT   Быт.\n",
       "...                                                   ...  ...    ...\n",
       "190641  И Дух и невеста говорят: прииди! И слышавший д...   NT  Откр.\n",
       "190646  И я также свидетельствую всякому слышащему сло...   NT  Откр.\n",
       "190651  и если кто отнимет что от слов книги пророчест...   NT  Откр.\n",
       "190656  Свидетельствующий сие говорит: ей, гряду скоро...   NT  Откр.\n",
       "190661  Благодать Господа нашего Иисуса Христа со всем...   NT  Откр.\n",
       "\n",
       "[38553 rows x 3 columns]"
      ]
     },
     "execution_count": 9,
     "metadata": {},
     "output_type": "execute_result"
    }
   ],
   "source": [
    "for ind in books_map: \n",
    "    bibliiaDf.loc[ind[0], 'book'] = ind[1]\n",
    "\n",
    "bibliiaDf['book'] = bibliiaDf.book.ffill()\n",
    "bibliiaDf = bibliiaDf.drop([x[0] for x in books_map])\n",
    "bibliiaDf"
   ]
  },
  {
   "cell_type": "markdown",
   "id": "865e0f2d-6c99-4bcf-90cb-405ea395a0d7",
   "metadata": {
    "tags": []
   },
   "source": [
    "### Assign Chapter & Verse Labels"
   ]
  },
  {
   "cell_type": "code",
   "execution_count": 10,
   "id": "0cd2eb1e-cb81-4a40-8113-806b998aa62d",
   "metadata": {
    "tags": []
   },
   "outputs": [],
   "source": [
    "for ind in chaps_map: \n",
    "    bibliiaDf.loc[ind[0], 'chap'] = ind[1]\n",
    "    \n",
    "bibliiaDf['chap'] = bibliiaDf.chap.ffill()\n",
    "bibliiaDf = bibliiaDf.drop(x[0] for x in chaps_map)\n",
    "\n",
    "bibliiaDf['chap'] = bibliiaDf.chap.str.extract(r'(\\d{1,2})$')\n",
    "\n",
    "bibliiaDf['verse'] = bibliiaDf.groupby(bibleOHCO[:3]).cumcount()+1"
   ]
  },
  {
   "cell_type": "markdown",
   "id": "6e620844-5568-4dca-a070-fa947aed7bcf",
   "metadata": {
    "tags": []
   },
   "source": [
    "### Set Index & Remove Fluff"
   ]
  },
  {
   "cell_type": "code",
   "execution_count": 11,
   "id": "b4d7d26c-cab7-4b07-95ae-f25503175c70",
   "metadata": {
    "tags": []
   },
   "outputs": [
    {
     "data": {
      "text/html": [
       "<div>\n",
       "<style scoped>\n",
       "    .dataframe tbody tr th:only-of-type {\n",
       "        vertical-align: middle;\n",
       "    }\n",
       "\n",
       "    .dataframe tbody tr th {\n",
       "        vertical-align: top;\n",
       "    }\n",
       "\n",
       "    .dataframe thead th {\n",
       "        text-align: right;\n",
       "    }\n",
       "</style>\n",
       "<table border=\"1\" class=\"dataframe\">\n",
       "  <thead>\n",
       "    <tr style=\"text-align: right;\">\n",
       "      <th></th>\n",
       "      <th></th>\n",
       "      <th></th>\n",
       "      <th></th>\n",
       "      <th>text</th>\n",
       "    </tr>\n",
       "    <tr>\n",
       "      <th>test</th>\n",
       "      <th>book</th>\n",
       "      <th>chap</th>\n",
       "      <th>verse</th>\n",
       "      <th></th>\n",
       "    </tr>\n",
       "  </thead>\n",
       "  <tbody>\n",
       "    <tr>\n",
       "      <th rowspan=\"5\" valign=\"top\">OT</th>\n",
       "      <th rowspan=\"5\" valign=\"top\">Быт.</th>\n",
       "      <th rowspan=\"5\" valign=\"top\">1</th>\n",
       "      <th>1</th>\n",
       "      <td>В начале сотворил Бог небо и землю.</td>\n",
       "    </tr>\n",
       "    <tr>\n",
       "      <th>2</th>\n",
       "      <td>Земля же была безвидна и пуста, и тьма над без...</td>\n",
       "    </tr>\n",
       "    <tr>\n",
       "      <th>3</th>\n",
       "      <td>И сказал Бог: да будет свет. И стал свет.</td>\n",
       "    </tr>\n",
       "    <tr>\n",
       "      <th>4</th>\n",
       "      <td>И увидел Бог свет, что он хорош, и отделил Бог...</td>\n",
       "    </tr>\n",
       "    <tr>\n",
       "      <th>5</th>\n",
       "      <td>И назвал Бог свет днем, а тьму ночью. И был ве...</td>\n",
       "    </tr>\n",
       "    <tr>\n",
       "      <th>...</th>\n",
       "      <th>...</th>\n",
       "      <th>...</th>\n",
       "      <th>...</th>\n",
       "      <td>...</td>\n",
       "    </tr>\n",
       "    <tr>\n",
       "      <th rowspan=\"5\" valign=\"top\">NT</th>\n",
       "      <th rowspan=\"5\" valign=\"top\">Откр.</th>\n",
       "      <th rowspan=\"5\" valign=\"top\">22</th>\n",
       "      <th>17</th>\n",
       "      <td>И Дух и невеста говорят: прииди! И слышавший д...</td>\n",
       "    </tr>\n",
       "    <tr>\n",
       "      <th>18</th>\n",
       "      <td>И я также свидетельствую всякому слышащему сло...</td>\n",
       "    </tr>\n",
       "    <tr>\n",
       "      <th>19</th>\n",
       "      <td>и если кто отнимет что от слов книги пророчест...</td>\n",
       "    </tr>\n",
       "    <tr>\n",
       "      <th>20</th>\n",
       "      <td>Свидетельствующий сие говорит: ей, гряду скоро...</td>\n",
       "    </tr>\n",
       "    <tr>\n",
       "      <th>21</th>\n",
       "      <td>Благодать Господа нашего Иисуса Христа со всем...</td>\n",
       "    </tr>\n",
       "  </tbody>\n",
       "</table>\n",
       "<p>37343 rows × 1 columns</p>\n",
       "</div>"
      ],
      "text/plain": [
       "                                                                    text\n",
       "test book  chap verse                                                   \n",
       "OT   Быт.  1    1                    В начале сотворил Бог небо и землю.\n",
       "                2      Земля же была безвидна и пуста, и тьма над без...\n",
       "                3              И сказал Бог: да будет свет. И стал свет.\n",
       "                4      И увидел Бог свет, что он хорош, и отделил Бог...\n",
       "                5      И назвал Бог свет днем, а тьму ночью. И был ве...\n",
       "...                                                                  ...\n",
       "NT   Откр. 22   17     И Дух и невеста говорят: прииди! И слышавший д...\n",
       "                18     И я также свидетельствую всякому слышащему сло...\n",
       "                19     и если кто отнимет что от слов книги пророчест...\n",
       "                20     Свидетельствующий сие говорит: ей, гряду скоро...\n",
       "                21     Благодать Господа нашего Иисуса Христа со всем...\n",
       "\n",
       "[37343 rows x 1 columns]"
      ]
     },
     "execution_count": 11,
     "metadata": {},
     "output_type": "execute_result"
    }
   ],
   "source": [
    "bibliiaDf = bibliiaDf.set_index(bibleOHCO)\n",
    "\n",
    "bibliiaDf.loc[:,'text'] = bibliiaDf.loc[:,'text'].replace(r\"\\s\\[.+\\]\", \"\", regex=True)\n",
    "\n",
    "bibliiaDf"
   ]
  },
  {
   "cell_type": "markdown",
   "id": "2b193f64-4cd9-4776-8a07-c6a0bb7b2454",
   "metadata": {
    "tags": []
   },
   "source": [
    "### Export to JSON"
   ]
  },
  {
   "cell_type": "code",
   "execution_count": 12,
   "id": "5d88296f-9bf2-4c03-8187-b5c262805176",
   "metadata": {
    "tags": []
   },
   "outputs": [],
   "source": [
    "bibliiaDf.reset_index().to_json(bibleJSON)"
   ]
  },
  {
   "cell_type": "code",
   "execution_count": 14,
   "id": "ffe64d67-d3bc-4f20-9460-50994917597f",
   "metadata": {},
   "outputs": [
    {
     "ename": "AttributeError",
     "evalue": "'DataFrame' object has no attribute 'to_xml'",
     "output_type": "error",
     "traceback": [
      "\u001b[0;31m--------------------------------------\u001b[0m",
      "\u001b[0;31mAttributeError\u001b[0mTraceback (most recent call last)",
      "\u001b[0;32m<ipython-input-14-01002c70662a>\u001b[0m in \u001b[0;36m<module>\u001b[0;34m\u001b[0m\n\u001b[0;32m----> 1\u001b[0;31m \u001b[0mbibliiaDf\u001b[0m\u001b[0;34m.\u001b[0m\u001b[0mto_xml\u001b[0m\u001b[0;34m(\u001b[0m\u001b[0;34m'./texts/bible/bible.xml'\u001b[0m\u001b[0;34m)\u001b[0m\u001b[0;34m\u001b[0m\u001b[0;34m\u001b[0m\u001b[0m\n\u001b[0m",
      "\u001b[0;32m/usr/lib/python3.9/site-packages/pandas/core/generic.py\u001b[0m in \u001b[0;36m__getattr__\u001b[0;34m(self, name)\u001b[0m\n\u001b[1;32m   5463\u001b[0m             \u001b[0;32mif\u001b[0m \u001b[0mself\u001b[0m\u001b[0;34m.\u001b[0m\u001b[0m_info_axis\u001b[0m\u001b[0;34m.\u001b[0m\u001b[0m_can_hold_identifiers_and_holds_name\u001b[0m\u001b[0;34m(\u001b[0m\u001b[0mname\u001b[0m\u001b[0;34m)\u001b[0m\u001b[0;34m:\u001b[0m\u001b[0;34m\u001b[0m\u001b[0;34m\u001b[0m\u001b[0m\n\u001b[1;32m   5464\u001b[0m                 \u001b[0;32mreturn\u001b[0m \u001b[0mself\u001b[0m\u001b[0;34m[\u001b[0m\u001b[0mname\u001b[0m\u001b[0;34m]\u001b[0m\u001b[0;34m\u001b[0m\u001b[0;34m\u001b[0m\u001b[0m\n\u001b[0;32m-> 5465\u001b[0;31m             \u001b[0;32mreturn\u001b[0m \u001b[0mobject\u001b[0m\u001b[0;34m.\u001b[0m\u001b[0m__getattribute__\u001b[0m\u001b[0;34m(\u001b[0m\u001b[0mself\u001b[0m\u001b[0;34m,\u001b[0m \u001b[0mname\u001b[0m\u001b[0;34m)\u001b[0m\u001b[0;34m\u001b[0m\u001b[0;34m\u001b[0m\u001b[0m\n\u001b[0m\u001b[1;32m   5466\u001b[0m \u001b[0;34m\u001b[0m\u001b[0m\n\u001b[1;32m   5467\u001b[0m     \u001b[0;32mdef\u001b[0m \u001b[0m__setattr__\u001b[0m\u001b[0;34m(\u001b[0m\u001b[0mself\u001b[0m\u001b[0;34m,\u001b[0m \u001b[0mname\u001b[0m\u001b[0;34m:\u001b[0m \u001b[0mstr\u001b[0m\u001b[0;34m,\u001b[0m \u001b[0mvalue\u001b[0m\u001b[0;34m)\u001b[0m \u001b[0;34m->\u001b[0m \u001b[0;32mNone\u001b[0m\u001b[0;34m:\u001b[0m\u001b[0;34m\u001b[0m\u001b[0;34m\u001b[0m\u001b[0m\n",
      "\u001b[0;31mAttributeError\u001b[0m: 'DataFrame' object has no attribute 'to_xml'"
     ]
    }
   ],
   "source": [
    "bibliiaDf.to_xml('./texts/bible/bible.xml')"
   ]
  },
  {
   "cell_type": "markdown",
   "id": "cccddfb0-d1a9-47ea-a7e0-5bb8d15eb320",
   "metadata": {},
   "source": [
    "## Processing"
   ]
  },
  {
   "cell_type": "code",
   "execution_count": 4,
   "id": "37d84faf-58d9-4b61-8e9f-10fc7e05ad99",
   "metadata": {},
   "outputs": [],
   "source": [
    "BibTextDf = pd.read_json(bibleJSON)[['text']]\n",
    "BibLibDf = pd.read_json(bibleJSON)[bibleOHCO]\n",
    "#synodalDf.index.name = 'index'\n",
    "#synodalDf#.set_index(bibleOHCO)"
   ]
  },
  {
   "cell_type": "code",
   "execution_count": 5,
   "id": "3e9c8ce4-ae94-4850-98ae-4a6546495034",
   "metadata": {},
   "outputs": [
    {
     "data": {
      "text/html": [
       "<div>\n",
       "<style scoped>\n",
       "    .dataframe tbody tr th:only-of-type {\n",
       "        vertical-align: middle;\n",
       "    }\n",
       "\n",
       "    .dataframe tbody tr th {\n",
       "        vertical-align: top;\n",
       "    }\n",
       "\n",
       "    .dataframe thead th {\n",
       "        text-align: right;\n",
       "    }\n",
       "</style>\n",
       "<table border=\"1\" class=\"dataframe\">\n",
       "  <thead>\n",
       "    <tr style=\"text-align: right;\">\n",
       "      <th></th>\n",
       "      <th>test</th>\n",
       "      <th>book</th>\n",
       "      <th>chap</th>\n",
       "      <th>verse</th>\n",
       "    </tr>\n",
       "  </thead>\n",
       "  <tbody>\n",
       "    <tr>\n",
       "      <th>0</th>\n",
       "      <td>OT</td>\n",
       "      <td>Быт.</td>\n",
       "      <td>1</td>\n",
       "      <td>1</td>\n",
       "    </tr>\n",
       "    <tr>\n",
       "      <th>1</th>\n",
       "      <td>OT</td>\n",
       "      <td>Быт.</td>\n",
       "      <td>1</td>\n",
       "      <td>2</td>\n",
       "    </tr>\n",
       "    <tr>\n",
       "      <th>2</th>\n",
       "      <td>OT</td>\n",
       "      <td>Быт.</td>\n",
       "      <td>1</td>\n",
       "      <td>3</td>\n",
       "    </tr>\n",
       "    <tr>\n",
       "      <th>3</th>\n",
       "      <td>OT</td>\n",
       "      <td>Быт.</td>\n",
       "      <td>1</td>\n",
       "      <td>4</td>\n",
       "    </tr>\n",
       "    <tr>\n",
       "      <th>4</th>\n",
       "      <td>OT</td>\n",
       "      <td>Быт.</td>\n",
       "      <td>1</td>\n",
       "      <td>5</td>\n",
       "    </tr>\n",
       "    <tr>\n",
       "      <th>...</th>\n",
       "      <td>...</td>\n",
       "      <td>...</td>\n",
       "      <td>...</td>\n",
       "      <td>...</td>\n",
       "    </tr>\n",
       "    <tr>\n",
       "      <th>37338</th>\n",
       "      <td>NT</td>\n",
       "      <td>Откр.</td>\n",
       "      <td>22</td>\n",
       "      <td>17</td>\n",
       "    </tr>\n",
       "    <tr>\n",
       "      <th>37339</th>\n",
       "      <td>NT</td>\n",
       "      <td>Откр.</td>\n",
       "      <td>22</td>\n",
       "      <td>18</td>\n",
       "    </tr>\n",
       "    <tr>\n",
       "      <th>37340</th>\n",
       "      <td>NT</td>\n",
       "      <td>Откр.</td>\n",
       "      <td>22</td>\n",
       "      <td>19</td>\n",
       "    </tr>\n",
       "    <tr>\n",
       "      <th>37341</th>\n",
       "      <td>NT</td>\n",
       "      <td>Откр.</td>\n",
       "      <td>22</td>\n",
       "      <td>20</td>\n",
       "    </tr>\n",
       "    <tr>\n",
       "      <th>37342</th>\n",
       "      <td>NT</td>\n",
       "      <td>Откр.</td>\n",
       "      <td>22</td>\n",
       "      <td>21</td>\n",
       "    </tr>\n",
       "  </tbody>\n",
       "</table>\n",
       "<p>37343 rows × 4 columns</p>\n",
       "</div>"
      ],
      "text/plain": [
       "      test   book  chap  verse\n",
       "0       OT   Быт.     1      1\n",
       "1       OT   Быт.     1      2\n",
       "2       OT   Быт.     1      3\n",
       "3       OT   Быт.     1      4\n",
       "4       OT   Быт.     1      5\n",
       "...    ...    ...   ...    ...\n",
       "37338   NT  Откр.    22     17\n",
       "37339   NT  Откр.    22     18\n",
       "37340   NT  Откр.    22     19\n",
       "37341   NT  Откр.    22     20\n",
       "37342   NT  Откр.    22     21\n",
       "\n",
       "[37343 rows x 4 columns]"
      ]
     },
     "execution_count": 5,
     "metadata": {},
     "output_type": "execute_result"
    }
   ],
   "source": [
    "BibLibDf"
   ]
  },
  {
   "cell_type": "code",
   "execution_count": 6,
   "id": "5c066046-4418-408b-96a1-6efbd4d3c0e5",
   "metadata": {},
   "outputs": [],
   "source": [
    "doc = Doc(BibTextDf.loc[4].text)"
   ]
  },
  {
   "cell_type": "code",
   "execution_count": 7,
   "id": "f26b8424-f6db-4fc5-a191-5fa4b321b7e1",
   "metadata": {},
   "outputs": [
    {
     "data": {
      "text/plain": [
       "Doc(text='И назвал Бог свет днем, а тьму ночью. И был вечер...)"
      ]
     },
     "execution_count": 7,
     "metadata": {},
     "output_type": "execute_result"
    }
   ],
   "source": [
    "doc"
   ]
  },
  {
   "cell_type": "code",
   "execution_count": 8,
   "id": "5726cf72-beb8-4308-a646-9c322d2e2fa6",
   "metadata": {},
   "outputs": [],
   "source": [
    "doc.segment(segmenter)"
   ]
  },
  {
   "cell_type": "code",
   "execution_count": 9,
   "id": "4b18488c-b42d-40e6-b083-912e35ae02a3",
   "metadata": {},
   "outputs": [
    {
     "data": {
      "text/plain": [
       "Doc(text='И назвал Бог свет днем, а тьму ночью. И был вечер..., tokens=[...], sents=[...])"
      ]
     },
     "execution_count": 9,
     "metadata": {},
     "output_type": "execute_result"
    }
   ],
   "source": [
    "doc"
   ]
  },
  {
   "cell_type": "code",
   "execution_count": 10,
   "id": "3c9935d7-3d3a-411b-bcb9-6986023e0cf7",
   "metadata": {},
   "outputs": [
    {
     "data": {
      "text/plain": [
       "[DocToken(stop=1, text='И'),\n",
       " DocToken(start=2, stop=8, text='назвал'),\n",
       " DocToken(start=9, stop=12, text='Бог'),\n",
       " DocToken(start=13, stop=17, text='свет'),\n",
       " DocToken(start=18, stop=22, text='днем'),\n",
       " DocToken(start=22, stop=23, text=','),\n",
       " DocToken(start=24, stop=25, text='а'),\n",
       " DocToken(start=26, stop=30, text='тьму'),\n",
       " DocToken(start=31, stop=36, text='ночью'),\n",
       " DocToken(start=36, stop=37, text='.'),\n",
       " DocToken(start=38, stop=39, text='И'),\n",
       " DocToken(start=40, stop=43, text='был'),\n",
       " DocToken(start=44, stop=49, text='вечер'),\n",
       " DocToken(start=49, stop=50, text=','),\n",
       " DocToken(start=51, stop=52, text='и'),\n",
       " DocToken(start=53, stop=57, text='было'),\n",
       " DocToken(start=58, stop=62, text='утро'),\n",
       " DocToken(start=62, stop=63, text=':'),\n",
       " DocToken(start=64, stop=68, text='день'),\n",
       " DocToken(start=69, stop=73, text='один'),\n",
       " DocToken(start=73, stop=74, text='.')]"
      ]
     },
     "execution_count": 10,
     "metadata": {},
     "output_type": "execute_result"
    }
   ],
   "source": [
    "doc.tokens"
   ]
  },
  {
   "cell_type": "code",
   "execution_count": 11,
   "id": "acee112d-e74d-4425-ab67-16287ab3b371",
   "metadata": {},
   "outputs": [
    {
     "data": {
      "text/plain": [
       "[DocSent(stop=37, text='И назвал Бог свет днем, а тьму ночью.', tokens=[...]),\n",
       " DocSent(start=38, stop=74, text='И был вечер, и было утро: день один.', tokens=[...])]"
      ]
     },
     "execution_count": 11,
     "metadata": {},
     "output_type": "execute_result"
    }
   ],
   "source": [
    "doc.sents"
   ]
  },
  {
   "cell_type": "code",
   "execution_count": 13,
   "id": "d9be2d67-60dc-4709-8e1a-584d55b15569",
   "metadata": {},
   "outputs": [
    {
     "data": {
      "text/plain": [
       "[DocToken(stop=1, text='И'),\n",
       " DocToken(start=2, stop=8, text='назвал'),\n",
       " DocToken(start=9, stop=12, text='Бог'),\n",
       " DocToken(start=13, stop=17, text='свет'),\n",
       " DocToken(start=18, stop=22, text='днем'),\n",
       " DocToken(start=22, stop=23, text=','),\n",
       " DocToken(start=24, stop=25, text='а'),\n",
       " DocToken(start=26, stop=30, text='тьму'),\n",
       " DocToken(start=31, stop=36, text='ночью'),\n",
       " DocToken(start=36, stop=37, text='.')]"
      ]
     },
     "execution_count": 13,
     "metadata": {},
     "output_type": "execute_result"
    }
   ],
   "source": [
    "doc.sents[0].tokens"
   ]
  },
  {
   "cell_type": "code",
   "execution_count": 14,
   "id": "e38b8917-38cd-4b9c-b767-6907b0bfb071",
   "metadata": {},
   "outputs": [],
   "source": [
    "doc.tag_morph(morph_tagger)"
   ]
  },
  {
   "cell_type": "code",
   "execution_count": 15,
   "id": "d6df8a86-9f72-4b8d-8259-a4caa20ec6a1",
   "metadata": {},
   "outputs": [
    {
     "data": {
      "text/plain": [
       "[DocToken(stop=1, text='И', pos='CCONJ'),\n",
       " DocToken(start=2, stop=8, text='назвал', pos='VERB', feats=<Perf,Masc,Ind,Sing,Past,Fin,Act>),\n",
       " DocToken(start=9, stop=12, text='Бог', pos='PROPN', feats=<Inan,Acc,Masc,Sing>),\n",
       " DocToken(start=13, stop=17, text='свет', pos='NOUN', feats=<Inan,Acc,Masc,Sing>),\n",
       " DocToken(start=18, stop=22, text='днем', pos='NOUN', feats=<Inan,Ins,Masc,Sing>),\n",
       " DocToken(start=22, stop=23, text=',', pos='PUNCT'),\n",
       " DocToken(start=24, stop=25, text='а', pos='CCONJ'),\n",
       " DocToken(start=26, stop=30, text='тьму', pos='NOUN', feats=<Inan,Acc,Fem,Sing>),\n",
       " DocToken(start=31, stop=36, text='ночью', pos='NOUN', feats=<Inan,Ins,Fem,Sing>),\n",
       " DocToken(start=36, stop=37, text='.', pos='PUNCT'),\n",
       " DocToken(start=38, stop=39, text='И', pos='CCONJ'),\n",
       " DocToken(start=40, stop=43, text='был', pos='AUX', feats=<Imp,Masc,Ind,Sing,Past,Fin,Act>),\n",
       " DocToken(start=44, stop=49, text='вечер', pos='NOUN', feats=<Inan,Nom,Masc,Sing>),\n",
       " DocToken(start=49, stop=50, text=',', pos='PUNCT'),\n",
       " DocToken(start=51, stop=52, text='и', pos='CCONJ'),\n",
       " DocToken(start=53, stop=57, text='было', pos='AUX', feats=<Imp,Neut,Ind,Sing,Past,Fin,Act>),\n",
       " DocToken(start=58, stop=62, text='утро', pos='NOUN', feats=<Inan,Nom,Neut,Sing>),\n",
       " DocToken(start=62, stop=63, text=':', pos='PUNCT'),\n",
       " DocToken(start=64, stop=68, text='день', pos='NOUN', feats=<Inan,Nom,Masc,Sing>),\n",
       " DocToken(start=69, stop=73, text='один', pos='NUM', feats=<Nom,Masc,Sing>),\n",
       " DocToken(start=73, stop=74, text='.', pos='PUNCT')]"
      ]
     },
     "execution_count": 15,
     "metadata": {},
     "output_type": "execute_result"
    }
   ],
   "source": [
    "doc.tokens"
   ]
  },
  {
   "cell_type": "code",
   "execution_count": 26,
   "id": "a7f5201b-952e-49f8-a88f-e555993c8642",
   "metadata": {},
   "outputs": [
    {
     "data": {
      "text/plain": [
       "'Perf'"
      ]
     },
     "execution_count": 26,
     "metadata": {},
     "output_type": "execute_result"
    }
   ],
   "source": [
    "doc.tokens[1].feats['Aspect']"
   ]
  },
  {
   "cell_type": "code",
   "execution_count": 16,
   "id": "fd531df9-079f-4a87-99d0-73f9b71e1c9b",
   "metadata": {},
   "outputs": [
    {
     "name": "stdout",
     "output_type": "stream",
     "text": [
      "                   И CCONJ\n",
      "              назвал VERB|Aspect=Perf|Gender=Masc|Mood=Ind|Number=Sing|Tense=Past|VerbForm=Fin|Voice=Act\n",
      "                 Бог PROPN|Animacy=Inan|Case=Acc|Gender=Masc|Number=Sing\n",
      "                свет NOUN|Animacy=Inan|Case=Acc|Gender=Masc|Number=Sing\n",
      "                днем NOUN|Animacy=Inan|Case=Ins|Gender=Masc|Number=Sing\n",
      "                   , PUNCT\n",
      "                   а CCONJ\n",
      "                тьму NOUN|Animacy=Inan|Case=Acc|Gender=Fem|Number=Sing\n",
      "               ночью NOUN|Animacy=Inan|Case=Ins|Gender=Fem|Number=Sing\n",
      "                   . PUNCT\n"
     ]
    }
   ],
   "source": [
    "doc.sents[0].morph.print()"
   ]
  },
  {
   "cell_type": "code",
   "execution_count": 28,
   "id": "d60afe88-683c-49ab-9d8b-3b8e3cdc206d",
   "metadata": {},
   "outputs": [
    {
     "data": {
      "text/plain": [
       "[DocToken(stop=1, text='И', pos='CCONJ', lemma='и'),\n",
       " DocToken(start=2, stop=8, text='назвал', pos='VERB', feats=<Perf,Masc,Ind,Sing,Past,Fin,Act>, lemma='назвать'),\n",
       " DocToken(start=9, stop=12, text='Бог', pos='PROPN', feats=<Inan,Acc,Masc,Sing>, lemma='бог'),\n",
       " DocToken(start=13, stop=17, text='свет', pos='NOUN', feats=<Inan,Acc,Masc,Sing>, lemma='свет'),\n",
       " DocToken(start=18, stop=22, text='днем', pos='NOUN', feats=<Inan,Ins,Masc,Sing>, lemma='день'),\n",
       " DocToken(start=22, stop=23, text=',', pos='PUNCT', lemma=','),\n",
       " DocToken(start=24, stop=25, text='а', pos='CCONJ', lemma='а'),\n",
       " DocToken(start=26, stop=30, text='тьму', pos='NOUN', feats=<Inan,Acc,Fem,Sing>, lemma='тьма'),\n",
       " DocToken(start=31, stop=36, text='ночью', pos='NOUN', feats=<Inan,Ins,Fem,Sing>, lemma='ночь'),\n",
       " DocToken(start=36, stop=37, text='.', pos='PUNCT', lemma='.'),\n",
       " DocToken(start=38, stop=39, text='И', pos='CCONJ', lemma='и'),\n",
       " DocToken(start=40, stop=43, text='был', pos='AUX', feats=<Imp,Masc,Ind,Sing,Past,Fin,Act>, lemma='быть'),\n",
       " DocToken(start=44, stop=49, text='вечер', pos='NOUN', feats=<Inan,Nom,Masc,Sing>, lemma='вечер'),\n",
       " DocToken(start=49, stop=50, text=',', pos='PUNCT', lemma=','),\n",
       " DocToken(start=51, stop=52, text='и', pos='CCONJ', lemma='и'),\n",
       " DocToken(start=53, stop=57, text='было', pos='AUX', feats=<Imp,Neut,Ind,Sing,Past,Fin,Act>, lemma='быть'),\n",
       " DocToken(start=58, stop=62, text='утро', pos='NOUN', feats=<Inan,Nom,Neut,Sing>, lemma='утро'),\n",
       " DocToken(start=62, stop=63, text=':', pos='PUNCT', lemma=':'),\n",
       " DocToken(start=64, stop=68, text='день', pos='NOUN', feats=<Inan,Nom,Masc,Sing>, lemma='день'),\n",
       " DocToken(start=69, stop=73, text='один', pos='NUM', feats=<Nom,Masc,Sing>, lemma='один'),\n",
       " DocToken(start=73, stop=74, text='.', pos='PUNCT', lemma='.')]"
      ]
     },
     "execution_count": 28,
     "metadata": {},
     "output_type": "execute_result"
    }
   ],
   "source": [
    "[token.lemmatize(morph_vocab) for token in doc.tokens]"
   ]
  },
  {
   "cell_type": "code",
   "execution_count": 29,
   "id": "30d6e0e5-db21-46ef-940e-ae01a7baf7cc",
   "metadata": {},
   "outputs": [],
   "source": [
    "doc.parse_syntax(syntax_parser)"
   ]
  },
  {
   "cell_type": "code",
   "execution_count": 30,
   "id": "81a4fb87-0c66-4a96-b790-ed5fb9b2b791",
   "metadata": {},
   "outputs": [
    {
     "data": {
      "text/plain": [
       "[DocToken(stop=1, text='И', id='1_1', head_id='1_2', rel='cc', pos='CCONJ', lemma='и'),\n",
       " DocToken(start=2, stop=8, text='назвал', id='1_2', head_id='1_0', rel='root', pos='VERB', feats=<Perf,Masc,Ind,Sing,Past,Fin,Act>, lemma='назвать'),\n",
       " DocToken(start=9, stop=12, text='Бог', id='1_3', head_id='1_2', rel='obj', pos='PROPN', feats=<Inan,Acc,Masc,Sing>, lemma='бог'),\n",
       " DocToken(start=13, stop=17, text='свет', id='1_4', head_id='1_2', rel='obj', pos='NOUN', feats=<Inan,Acc,Masc,Sing>, lemma='свет'),\n",
       " DocToken(start=18, stop=22, text='днем', id='1_5', head_id='1_2', rel='xcomp', pos='NOUN', feats=<Inan,Ins,Masc,Sing>, lemma='день'),\n",
       " DocToken(start=22, stop=23, text=',', id='1_6', head_id='1_8', rel='punct', pos='PUNCT', lemma=','),\n",
       " DocToken(start=24, stop=25, text='а', id='1_7', head_id='1_8', rel='cc', pos='CCONJ', lemma='а'),\n",
       " DocToken(start=26, stop=30, text='тьму', id='1_8', head_id='1_9', rel='nsubj', pos='NOUN', feats=<Inan,Acc,Fem,Sing>, lemma='тьма'),\n",
       " DocToken(start=31, stop=36, text='ночью', id='1_9', head_id='1_8', rel='orphan', pos='NOUN', feats=<Inan,Ins,Fem,Sing>, lemma='ночь'),\n",
       " DocToken(start=36, stop=37, text='.', id='1_10', head_id='1_2', rel='punct', pos='PUNCT', lemma='.'),\n",
       " DocToken(start=38, stop=39, text='И', id='2_1', head_id='2_2', rel='cc', pos='CCONJ', lemma='и'),\n",
       " DocToken(start=40, stop=43, text='был', id='2_2', head_id='2_0', rel='root', pos='AUX', feats=<Imp,Masc,Ind,Sing,Past,Fin,Act>, lemma='быть'),\n",
       " DocToken(start=44, stop=49, text='вечер', id='2_3', head_id='2_2', rel='nsubj', pos='NOUN', feats=<Inan,Nom,Masc,Sing>, lemma='вечер'),\n",
       " DocToken(start=49, stop=50, text=',', id='2_4', head_id='2_7', rel='punct', pos='PUNCT', lemma=','),\n",
       " DocToken(start=51, stop=52, text='и', id='2_5', head_id='2_7', rel='cc', pos='CCONJ', lemma='и'),\n",
       " DocToken(start=53, stop=57, text='было', id='2_6', head_id='2_2', rel='conj', pos='AUX', feats=<Imp,Neut,Ind,Sing,Past,Fin,Act>, lemma='быть'),\n",
       " DocToken(start=58, stop=62, text='утро', id='2_7', head_id='2_2', rel='conj', pos='NOUN', feats=<Inan,Nom,Neut,Sing>, lemma='утро'),\n",
       " DocToken(start=62, stop=63, text=':', id='2_8', head_id='2_9', rel='punct', pos='PUNCT', lemma=':'),\n",
       " DocToken(start=64, stop=68, text='день', id='2_9', head_id='2_7', rel='parataxis', pos='NOUN', feats=<Inan,Nom,Masc,Sing>, lemma='день'),\n",
       " DocToken(start=69, stop=73, text='один', id='2_10', head_id='2_7', rel='parataxis', pos='NUM', feats=<Nom,Masc,Sing>, lemma='один'),\n",
       " DocToken(start=73, stop=74, text='.', id='2_11', head_id='2_2', rel='punct', pos='PUNCT', lemma='.')]"
      ]
     },
     "execution_count": 30,
     "metadata": {},
     "output_type": "execute_result"
    }
   ],
   "source": [
    "doc.tokens"
   ]
  },
  {
   "cell_type": "code",
   "execution_count": 31,
   "id": "ef6cd8c4-dc58-4329-b919-aa851a9a026a",
   "metadata": {},
   "outputs": [
    {
     "name": "stdout",
     "output_type": "stream",
     "text": [
      "        ┌► И      cc\n",
      "┌─┌─┌─┌─└─ назвал \n",
      "│ │ │ └──► Бог    obj\n",
      "│ │ └────► свет   obj\n",
      "│ └──────► днем   xcomp\n",
      "│     ┌──► ,      punct\n",
      "│     │ ┌► а      cc\n",
      "│   ┌─└─└─ тьму   nsubj\n",
      "│   └►└─── ночью  orphan\n",
      "└────────► .      punct\n"
     ]
    }
   ],
   "source": [
    "doc.sents[0].syntax.print()"
   ]
  },
  {
   "cell_type": "code",
   "execution_count": 45,
   "id": "60010681-baa2-4a3f-8482-d44bb22e4829",
   "metadata": {},
   "outputs": [],
   "source": [
    "doc.tag_ner(ner_tagger)"
   ]
  },
  {
   "cell_type": "code",
   "execution_count": 46,
   "id": "153558ee-2cb4-407c-be22-bbe5147d167e",
   "metadata": {},
   "outputs": [
    {
     "data": {
      "text/plain": [
       "[]"
      ]
     },
     "execution_count": 46,
     "metadata": {},
     "output_type": "execute_result"
    }
   ],
   "source": [
    "doc.spans"
   ]
  },
  {
   "cell_type": "code",
   "execution_count": 47,
   "id": "1195d59b-135c-4e86-830f-825b4075b349",
   "metadata": {},
   "outputs": [
    {
     "data": {
      "text/plain": [
       "NERMarkup(\n",
       "    text='И назвал Бог свет днем, а тьму ночью. И был вечер, и было утро: день один.',\n",
       "    spans=[]\n",
       ")"
      ]
     },
     "execution_count": 47,
     "metadata": {},
     "output_type": "execute_result"
    }
   ],
   "source": [
    "doc.ner"
   ]
  },
  {
   "cell_type": "code",
   "execution_count": 40,
   "id": "d79b7c45-d13a-4572-9c7e-e8484e04babc",
   "metadata": {},
   "outputs": [
    {
     "name": "stdout",
     "output_type": "stream",
     "text": [
      "И назвал Бог свет днем, а тьму ночью. И был вечер, и было утро: день \n",
      "один.\n"
     ]
    }
   ],
   "source": [
    "doc.ner.print()"
   ]
  },
  {
   "cell_type": "code",
   "execution_count": 44,
   "id": "30e95144-1991-4053-9d58-2188f097290c",
   "metadata": {},
   "outputs": [
    {
     "data": {
      "text/plain": [
       "['__annotations__',\n",
       " '__attributes__',\n",
       " '__class__',\n",
       " '__delattr__',\n",
       " '__dict__',\n",
       " '__dir__',\n",
       " '__doc__',\n",
       " '__eq__',\n",
       " '__format__',\n",
       " '__ge__',\n",
       " '__getattribute__',\n",
       " '__gt__',\n",
       " '__hash__',\n",
       " '__init__',\n",
       " '__init_subclass__',\n",
       " '__iter__',\n",
       " '__le__',\n",
       " '__lt__',\n",
       " '__module__',\n",
       " '__ne__',\n",
       " '__new__',\n",
       " '__reduce__',\n",
       " '__reduce_ex__',\n",
       " '__repr__',\n",
       " '__setattr__',\n",
       " '__sizeof__',\n",
       " '__str__',\n",
       " '__subclasshook__',\n",
       " '__weakref__',\n",
       " '_repr_pretty_',\n",
       " 'as_json',\n",
       " 'clear_envelopes',\n",
       " 'envelop_sent_spans',\n",
       " 'envelop_sent_tokens',\n",
       " 'envelop_span_tokens',\n",
       " 'from_json',\n",
       " 'morph',\n",
       " 'ner',\n",
       " 'parse_syntax',\n",
       " 'segment',\n",
       " 'sents',\n",
       " 'spans',\n",
       " 'syntax',\n",
       " 'tag_morph',\n",
       " 'tag_ner',\n",
       " 'text',\n",
       " 'tokens']"
      ]
     },
     "execution_count": 44,
     "metadata": {},
     "output_type": "execute_result"
    }
   ],
   "source": [
    "dir(doc)"
   ]
  }
 ],
 "metadata": {
  "kernelspec": {
   "display_name": "Python 3",
   "language": "python",
   "name": "python3"
  },
  "language_info": {
   "codemirror_mode": {
    "name": "ipython",
    "version": 3
   },
   "file_extension": ".py",
   "mimetype": "text/x-python",
   "name": "python",
   "nbconvert_exporter": "python",
   "pygments_lexer": "ipython3",
   "version": "3.9.5"
  }
 },
 "nbformat": 4,
 "nbformat_minor": 5
}
