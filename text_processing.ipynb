{
 "cells": [
  {
   "cell_type": "markdown",
   "metadata": {},
   "source": [
    "# Russian Synodal Bible (1885) and Primary Text Text Processing"
   ]
  },
  {
   "cell_type": "markdown",
   "metadata": {},
   "source": [
    "## Import"
   ]
  },
  {
   "cell_type": "markdown",
   "metadata": {},
   "source": [
    "### Libraries"
   ]
  },
  {
   "cell_type": "code",
   "execution_count": null,
   "metadata": {},
   "outputs": [],
   "source": [
    "import os\n",
    "import json\n",
    "import time\n",
    "import xml.etree.ElementTree as ET\n",
    "import codecs\n",
    "import pandas as pd \n",
    "import natasha\n",
    "import re"
   ]
  },
  {
   "cell_type": "markdown",
   "metadata": {},
   "source": [
    "### Definitions"
   ]
  },
  {
   "cell_type": "code",
   "execution_count": null,
   "metadata": {},
   "outputs": [],
   "source": [
    "texts = './texts/fiction/'\n",
    "bibleXML = './texts/bible/synodal.xml'\n",
    "libCols = ['author','date','title','text']\n",
    "tokenOHCO = ['title','part_num','para_num', 'sent_num', 'token_num']\n",
    "bibleOHCO = ['book','chap_num','verse_num']"
   ]
  },
  {
   "cell_type": "markdown",
   "metadata": {},
   "source": [
    "## Primary Texts"
   ]
  },
  {
   "cell_type": "markdown",
   "metadata": {},
   "source": [
    "### Library"
   ]
  },
  {
   "cell_type": "code",
   "execution_count": null,
   "metadata": {},
   "outputs": [],
   "source": [
    "libDf = pd.DataFrame(columns = libCols)\n",
    "for t in os.listdir(texts): \n",
    "    if t[-4:] == '.txt': \n",
    "        #print(t)\n",
    "        info = re.match(r'(\\w+)-(\\d{4})-(.+).txt', t)\n",
    "        with codecs.open(texts+t, 'r', encoding='windows-1251') as f: \n",
    "            textytext = f.read()\n",
    "        libDf = libDf.append({\n",
    "            'author': info.group(1),\n",
    "            'date': int(info.group(2)), \n",
    "            'title': info.group(3), \n",
    "            'text': textytext\n",
    "        }, ignore_index=True)\n",
    "        \n",
    "libDf = libDf.sort_values(libCols[1:3]).set_index(libCols[2])\n",
    "tokenDf = libDf[[libCols[3]]]\n",
    "libDf = libDf.drop(columns=[libCols[3]])\n",
    "libDf"
   ]
  },
  {
   "cell_type": "markdown",
   "metadata": {},
   "source": [
    "### Tokens"
   ]
  },
  {
   "cell_type": "code",
   "execution_count": null,
   "metadata": {},
   "outputs": [],
   "source": [
    "tokenDf = tokenDf.text.str.split('\\n\\n\\n', expand=True).stack().to_frame()\n",
    "tokenDf.index.names = tokenOHCO[:2]\n",
    "tokenDf = tokenDf.rename(columns={0:'parts'})\n",
    "tokenDf = tokenDf.parts.str.split('\\n\\s*\\n', expand=True).stack().to_frame()\n",
    "tokenDf.index.names = tokenOHCO[:3]\n",
    "tokenDf = tokenDf.rename(columns={0:'paras'})\n",
    "tokenDf = tokenDf.paras.str.split(r'!|\\?|\\.|;', expand=True).stack().to_frame()\n",
    "tokenDf.index.names = tokenOHCO[:4]\n",
    "tokenDf = tokenDf.rename(columns={0:'sents'})\n",
    "sentDf = tokenDf\n",
    "tokenDf = tokenDf.sents.str.split(r'\\n|\\s+', expand=True).stack().to_frame()\n",
    "tokenDf.index.names = tokenOHCO\n",
    "tokenDf = tokenDf.rename(columns={0:'token'})\n",
    "tokenDf = tokenDf.token.apply(lambda x: x.lower().strip(r\"\\W\\|\\]\\}\\[\\{\\.\\'\\\"\\?;:,<>/1234567890\")).to_frame()\n",
    "tokenDf = tokenDf[tokenDf['token'].str.contains(r'\\w+')]\n",
    "tokenDf"
   ]
  },
  {
   "cell_type": "code",
   "execution_count": null,
   "metadata": {},
   "outputs": [],
   "source": [
    "sentDf = sentDf[sentDf['sents'].str.contains(r'\\w+')].sents.apply(lambda x: x.lower().strip(r\"\\W\\n\\|\\]\\}\\[\\{\\.\\'\\\"\\?;:,<>/1234567890\")).to_frame()\n",
    "sentDf[sentDf['sents'].str.contains('r\\w')]"
   ]
  },
  {
   "cell_type": "markdown",
   "metadata": {},
   "source": [
    "## Bible"
   ]
  },
  {
   "cell_type": "markdown",
   "metadata": {},
   "source": [
    "### XML"
   ]
  },
  {
   "cell_type": "code",
   "execution_count": null,
   "metadata": {},
   "outputs": [],
   "source": [
    "xmltree = ET.parse(bibleXML)\n",
    "xmlroot = xmltree.getroot()"
   ]
  },
  {
   "cell_type": "markdown",
   "metadata": {},
   "source": [
    "### Create Bible Dictionary"
   ]
  },
  {
   "cell_type": "code",
   "execution_count": null,
   "metadata": {},
   "outputs": [],
   "source": [
    "bibleDicts = []\n",
    "for book in xmlroot: \n",
    "    name = book.attrib.get(\"n\")\n",
    "    for chapter in book: \n",
    "        chap_num = chapter.attrib.get(\"n\")\n",
    "        for verse in chapter: \n",
    "            verse_num = verse.attrib.get(\"n\")\n",
    "            verseDict = {'book': name, \n",
    "                         'chap_num': chap_num, \n",
    "                         'verse_num': verse_num,\n",
    "                         'text': verse.text}\n",
    "            bibleDicts.append(verseDict)"
   ]
  },
  {
   "cell_type": "markdown",
   "metadata": {},
   "source": [
    "### Bible"
   ]
  },
  {
   "cell_type": "code",
   "execution_count": null,
   "metadata": {
    "tags": []
   },
   "outputs": [],
   "source": [
    "bibleDf = pd.DataFrame.from_dict(bibleDicts).set_index(bibleOHCO)\n",
    "bibleDf"
   ]
  }
 ],
 "metadata": {
  "kernelspec": {
   "display_name": "diss",
   "language": "python",
   "name": "diss"
  },
  "language_info": {
   "codemirror_mode": {
    "name": "ipython",
    "version": 3
   },
   "file_extension": ".py",
   "mimetype": "text/x-python",
   "name": "python",
   "nbconvert_exporter": "python",
   "pygments_lexer": "ipython3",
   "version": "3.9.2"
  }
 },
 "nbformat": 4,
 "nbformat_minor": 4
}
